{
 "cells": [
  {
   "cell_type": "markdown",
   "id": "3f1add77-f333-463d-a9e2-2a2a8d508a61",
   "metadata": {},
   "source": [
    "# what is a string"
   ]
  },
  {
   "cell_type": "markdown",
   "id": "be50a754-bec2-4762-8c90-47f67b02238a",
   "metadata": {},
   "source": [
    "A string is a sequence of characters enclosed within either single or double quotes. They can be used to represent text, numbers, symbols, or any combination of characters."
   ]
  },
  {
   "cell_type": "markdown",
   "id": "0d8deced-df52-4d56-aa4f-8426f6ff5b9c",
   "metadata": {},
   "source": [
    "**Examples**:\n",
    "\n",
    "**my_string = \"Hello, world!\"**\n",
    "\n",
    "**another_string = 'This is a string with single quotes.'**\n",
    "\n",
    "**number_as_string = \"12345\"**"
   ]
  },
  {
   "cell_type": "markdown",
   "id": "6695d8af-158f-4879-9274-3538bf65f323",
   "metadata": {},
   "source": [
    "**Indexing**: You can access individual characters in a string using their index, starting from 0. For example, my_string[0] would return 'H'.\n",
    "\n",
    "**Slicing**: You can extract substrings by specifying a range of indices. For example, my_string[7:12] would return 'world'.\n",
    "\n",
    "**Concatenation**: You can join two or more strings using the + operator. For example, new_string = my_string + \" How are you?\"\n",
    "\n",
    "**String methods**: Python provides numerous methods to manipulate strings, such as len() for finding the length, upper() for converting to uppercase, lower() for converting to lowercase, replace() for replacing characters, and many more."
   ]
  },
  {
   "cell_type": "code",
   "execution_count": 5,
   "id": "7fcab5b5-cc17-4f90-8cd4-996fe181b368",
   "metadata": {},
   "outputs": [
    {
     "name": "stdout",
     "output_type": "stream",
     "text": [
      "hello world\n",
      "hello there\n",
      "world there\n",
      "hello world there\n",
      "hello world there is problem\n",
      "hellohellohellohellohellohello\n",
      "worldworldworld\n",
      "there\n",
      "isisisisis\n",
      "problemproblemproblemproblemproblemproblemproblemproblem\n"
     ]
    }
   ],
   "source": [
    "str1=\"hello\"\n",
    "str2=\"world\"\n",
    "str3=\"there\"\n",
    "str4=\"is\"\n",
    "str5=\"problem\"\n",
    "#string operations(concatenation&repeating)\n",
    "result1=str1+\" \"+str2\n",
    "result2=str1+\" \"+str3\n",
    "result3=str2+\" \"+str3\n",
    "result4=str1+' '+str2+' '+str3\n",
    "result5=str1+\" \"+str2+' '+str3+' '+str4+' '+str5\n",
    "result6=str1*6\n",
    "result7=str2*3\n",
    "result8=str3*1\n",
    "result9=str4*5\n",
    "result10=str5*8\n",
    "print(result1)\n",
    "print(result2)\n",
    "print(result3)\n",
    "print(result4)\n",
    "print(result5)\n",
    "print(result6)\n",
    "print(result7)\n",
    "print(result8)\n",
    "print(result9)\n",
    "print(result10)"
   ]
  },
  {
   "cell_type": "code",
   "execution_count": 7,
   "id": "6a63f12f-36bf-413a-bedb-9f5559eaf46d",
   "metadata": {},
   "outputs": [
    {
     "name": "stdout",
     "output_type": "stream",
     "text": [
      " \n",
      "c\n",
      " \n",
      "e\n",
      "t\n",
      "k\n",
      "k\n",
      "c\n",
      "h\n",
      "a\n"
     ]
    }
   ],
   "source": [
    "str=\"A tree, standing tall and proud, has witnessed countless days pass by. From the first rays of dawn to the last whispers of the evening wind, it experiences a unique cycle of life. As the sun rises, casting its warm glow upon the leaves, the tree awakens. Tiny droplets of dew cling to its branches, sparkling like diamonds in the morning light. Birdsong fills the air, a cheerful symphony that accompanies the tree's daily routine.\"\n",
    "print(str[21])\n",
    "print(str[47])\n",
    "print(str[105])\n",
    "print(str[129])\n",
    "print(str[201])\n",
    "print(str[249])\n",
    "print(str[311])\n",
    "print(str[395])\n",
    "print(str[407])\n",
    "print(str[418])"
   ]
  },
  {
   "cell_type": "markdown",
   "id": "19024b5b-c251-4262-9c3e-0015eb7b1600",
   "metadata": {},
   "source": [
    "# slicing"
   ]
  },
  {
   "cell_type": "code",
   "execution_count": 10,
   "id": "1da678a9-8666-427e-bee0-1ffca3f485ea",
   "metadata": {},
   "outputs": [
    {
     "name": "stdout",
     "output_type": "stream",
     "text": [
      "llo,\n"
     ]
    }
   ],
   "source": [
    "text = \"Hello, World!\"\n",
    "s = text[2:6] \n",
    "print(s)  \n"
   ]
  },
  {
   "cell_type": "code",
   "execution_count": 12,
   "id": "1a9fca1c-db5d-4d17-9a77-4be9b77e4e06",
   "metadata": {},
   "outputs": [
    {
     "name": "stdout",
     "output_type": "stream",
     "text": [
      "Hello,\n"
     ]
    }
   ],
   "source": [
    "text = \"Hello, World!\"\n",
    "a = text[:6]  \n",
    "print(a) \n"
   ]
  },
  {
   "cell_type": "code",
   "execution_count": 14,
   "id": "27f3ed27-6972-4397-a0b4-a6e3ffd77946",
   "metadata": {},
   "outputs": [
    {
     "name": "stdout",
     "output_type": "stream",
     "text": [
      "World!\n"
     ]
    }
   ],
   "source": [
    "text = \"Hello, World!\"\n",
    "a = text[7:]  \n",
    "print(a)  \n"
   ]
  },
  {
   "cell_type": "code",
   "execution_count": 16,
   "id": "34c76ff7-2a29-4c00-9d12-564f60c9e9a0",
   "metadata": {},
   "outputs": [
    {
     "name": "stdout",
     "output_type": "stream",
     "text": [
      "World\n"
     ]
    }
   ],
   "source": [
    "text = \"Hello, World!\"\n",
    "s = text[-6:-1]  \n",
    "print(s)  \n"
   ]
  },
  {
   "cell_type": "code",
   "execution_count": 20,
   "id": "3d648f5c-aaf6-485f-8085-e4265cf291d6",
   "metadata": {},
   "outputs": [
    {
     "name": "stdout",
     "output_type": "stream",
     "text": [
      "ello, Worl\n"
     ]
    }
   ],
   "source": [
    "text = \"Hello, World!\"\n",
    "s = text[1:11]  \n",
    "print(s)  \n"
   ]
  },
  {
   "cell_type": "markdown",
   "id": "7ed67275-a143-4ae0-89b3-43407e0c2c01",
   "metadata": {},
   "source": [
    "# old style formatting"
   ]
  },
  {
   "cell_type": "markdown",
   "id": "aed3d2de-c9a1-41ba-a34b-7573c17d3ca0",
   "metadata": {},
   "source": [
    "Before the introduction of the format() method and f-strings, Python used a different approach to formatting strings known as old-style formatting. This involved using the % operator and placeholders like %s for strings, %d for integers, and %f for floating-point numbers."
   ]
  },
  {
   "cell_type": "code",
   "execution_count": 24,
   "id": "c13f93b9-8cc1-4095-a7d9-6b4e50555158",
   "metadata": {},
   "outputs": [
    {
     "name": "stdout",
     "output_type": "stream",
     "text": [
      "Hello, ruthwik! You are 22 years old.\n"
     ]
    }
   ],
   "source": [
    "name = \"ruthwik\"\n",
    "age = 22\n",
    "message = \"Hello, %s! You are %d years old.\" % (name, age)\n",
    "print(message)  "
   ]
  },
  {
   "cell_type": "code",
   "execution_count": 26,
   "id": "968a7ea0-9cde-44de-a312-76d8c0dc0af5",
   "metadata": {},
   "outputs": [
    {
     "name": "stdout",
     "output_type": "stream",
     "text": [
      "The number is: 12345\n"
     ]
    }
   ],
   "source": [
    "number = 12345\n",
    "a = \"The number is: %d\" % number\n",
    "print(a)  "
   ]
  },
  {
   "cell_type": "code",
   "execution_count": 28,
   "id": "60ed3810-9efd-4372-bc34-082fa508925c",
   "metadata": {},
   "outputs": [
    {
     "name": "stdout",
     "output_type": "stream",
     "text": [
      "Pi is approximately: 3.14\n"
     ]
    }
   ],
   "source": [
    "value = 3.14159\n",
    "a = \"Pi is approximately: %.2f\" % value\n",
    "print(a)  "
   ]
  },
  {
   "cell_type": "markdown",
   "id": "aad50a15-34e1-4a64-89c8-fc4771d7a11f",
   "metadata": {},
   "source": [
    "# format method"
   ]
  },
  {
   "cell_type": "code",
   "execution_count": 33,
   "id": "26f418c4-bbff-4616-ae55-6a1c1c70ab4f",
   "metadata": {},
   "outputs": [
    {
     "name": "stdout",
     "output_type": "stream",
     "text": [
      "Name: ruthwik, Age: 22\n"
     ]
    }
   ],
   "source": [
    "name = \"ruthwik\"\n",
    "age = 22\n",
    "a = \"Name: {}, Age: {}\".format(name, age)\n",
    "print(a)"
   ]
  },
  {
   "cell_type": "code",
   "execution_count": 35,
   "id": "3eacd2b0-3a3d-4322-8566-46dbfcd58c22",
   "metadata": {},
   "outputs": [
    {
     "name": "stdout",
     "output_type": "stream",
     "text": [
      "Hello, ruthwik! You are 22 years old.\n"
     ]
    }
   ],
   "source": [
    "name = \"ruthwik\"\n",
    "age = 22\n",
    "message = \"Hello, {}! You are {} years old.\".format(name, age)\n",
    "print(message)  "
   ]
  },
  {
   "cell_type": "code",
   "execution_count": 37,
   "id": "795d662b-8820-479d-bc6c-1c0b83b82b82",
   "metadata": {},
   "outputs": [
    {
     "name": "stdout",
     "output_type": "stream",
     "text": [
      "Hello, ruchith! You are 80 years old.\n"
     ]
    }
   ],
   "source": [
    "name = \"ruchith\"\n",
    "age = 80\n",
    "message = \"Hello, {}! You are {} years old.\".format(name, age)\n",
    "print(message)  "
   ]
  },
  {
   "cell_type": "markdown",
   "id": "f87a1582-ee6c-4ea0-a75c-463cbbb4327d",
   "metadata": {},
   "source": [
    "# string interpolation using f string"
   ]
  },
  {
   "cell_type": "code",
   "execution_count": 42,
   "id": "65d3d622-af50-4598-bd2d-46e8b564ff56",
   "metadata": {},
   "outputs": [
    {
     "name": "stdout",
     "output_type": "stream",
     "text": [
      "My name is ruthwik and I am 22 years old.\n"
     ]
    }
   ],
   "source": [
    "name = \"ruthwik\"\n",
    "age = 22\n",
    "a=f\"My name is {name} and I am {age} years old.\"\n",
    "print(a)"
   ]
  },
  {
   "cell_type": "code",
   "execution_count": 44,
   "id": "3a953a63-c159-46f3-b0f3-3ce6a0233057",
   "metadata": {},
   "outputs": [
    {
     "name": "stdout",
     "output_type": "stream",
     "text": [
      "My name is ruthwik and I am 22 years old.\n"
     ]
    }
   ],
   "source": [
    "name = \"ruthwik\"\n",
    "age = 22\n",
    "print(\"My name is {} and I am {} years old.\".format(name, age))"
   ]
  },
  {
   "cell_type": "code",
   "execution_count": 46,
   "id": "ee5fb960-dc91-4f61-9990-7d34be0be0fe",
   "metadata": {},
   "outputs": [
    {
     "name": "stdout",
     "output_type": "stream",
     "text": [
      "The area of the circle is 78.53975\n"
     ]
    }
   ],
   "source": [
    "pi = 3.14159\n",
    "radius = 5\n",
    "a=f\"The area of the circle is {pi * radius ** 2}\"\n",
    "print(a)"
   ]
  },
  {
   "cell_type": "markdown",
   "id": "22b39108-7181-44f1-9a82-43c6a8c86ae9",
   "metadata": {},
   "source": [
    "# string methods"
   ]
  },
  {
   "cell_type": "markdown",
   "id": "166b5c57-870b-4365-a75e-804d82ab4e2f",
   "metadata": {},
   "source": [
    "**len(string)**: Returns the length of the string (number of characters)."
   ]
  },
  {
   "cell_type": "code",
   "execution_count": 3,
   "id": "d0d91cfd-d670-4c36-9617-754d2722f634",
   "metadata": {},
   "outputs": [
    {
     "name": "stdout",
     "output_type": "stream",
     "text": [
      "13\n"
     ]
    }
   ],
   "source": [
    "text = \"Hello, world!\"\n",
    "print(len(text)) "
   ]
  },
  {
   "cell_type": "markdown",
   "id": "9dc6168f-461d-49ec-9bc3-437b8f6c085d",
   "metadata": {},
   "source": [
    "**string.upper()**: Converts all characters in the string to uppercase."
   ]
  },
  {
   "cell_type": "code",
   "execution_count": 6,
   "id": "910b5db4-fc5c-4e9e-b0e5-dbb53764f2ed",
   "metadata": {},
   "outputs": [
    {
     "name": "stdout",
     "output_type": "stream",
     "text": [
      "HELLO, WORLD!\n"
     ]
    }
   ],
   "source": [
    "text = \"Hello, world!\"\n",
    "print(text.upper())  "
   ]
  },
  {
   "cell_type": "markdown",
   "id": "5da9e05a-d344-46cd-8d9c-382f88dfe74b",
   "metadata": {},
   "source": [
    "**string.lower()**: Converts all characters in the string to lowercase."
   ]
  },
  {
   "cell_type": "code",
   "execution_count": 9,
   "id": "10d578eb-f6fa-46c9-95dc-4cb26da7eb23",
   "metadata": {},
   "outputs": [
    {
     "name": "stdout",
     "output_type": "stream",
     "text": [
      "hello, world!\n"
     ]
    }
   ],
   "source": [
    "text = \"Hello, world!\"\n",
    "print(text.lower())  "
   ]
  },
  {
   "cell_type": "markdown",
   "id": "2a6704f7-45eb-4ab4-b5a5-c8507df24938",
   "metadata": {},
   "source": [
    "**string.capitalize()**: Converts the first character of the string to uppercase and the rest to lowercase."
   ]
  },
  {
   "cell_type": "code",
   "execution_count": 12,
   "id": "8c1fdba7-ae44-4fcd-a74e-c5d925eaf696",
   "metadata": {},
   "outputs": [
    {
     "name": "stdout",
     "output_type": "stream",
     "text": [
      "Hello, world!\n"
     ]
    }
   ],
   "source": [
    "text = \"hello, world!\"\n",
    "print(text.capitalize()) "
   ]
  },
  {
   "cell_type": "markdown",
   "id": "1544a562-6802-4921-8e1c-15451563488b",
   "metadata": {},
   "source": [
    "**string.swapcase()**: Swaps the case of all characters in the string (uppercase becomes lowercase and vice versa)."
   ]
  },
  {
   "cell_type": "code",
   "execution_count": 15,
   "id": "3d47c045-6957-4583-a2f7-5bdcd13df215",
   "metadata": {},
   "outputs": [
    {
     "name": "stdout",
     "output_type": "stream",
     "text": [
      "hELLO, WORLD!\n"
     ]
    }
   ],
   "source": [
    "text = \"Hello, world!\"\n",
    "print(text.swapcase()) "
   ]
  },
  {
   "cell_type": "markdown",
   "id": "1acf6329-1f0b-4d8e-96d4-65ac7df7e4b9",
   "metadata": {},
   "source": [
    "**string.title()**: Converts the first character of each word in the string to uppercase and the rest to lowercase."
   ]
  },
  {
   "cell_type": "code",
   "execution_count": 18,
   "id": "2012b789-b259-4ab3-840b-95ecf8ddf1aa",
   "metadata": {},
   "outputs": [
    {
     "name": "stdout",
     "output_type": "stream",
     "text": [
      "Hello, World!\n"
     ]
    }
   ],
   "source": [
    "text = \"hello, world!\"\n",
    "print(text.title())  "
   ]
  },
  {
   "cell_type": "markdown",
   "id": "c2d59045-b3d2-4fba-bd46-6a470cd8fb38",
   "metadata": {},
   "source": [
    "**string.find(substring)**: Returns the index of the first occurrence of the substring within the string. If the substring is not found, it returns -1."
   ]
  },
  {
   "cell_type": "code",
   "execution_count": 21,
   "id": "43a105f2-8ccc-4efe-a325-683c34a14c89",
   "metadata": {},
   "outputs": [
    {
     "name": "stdout",
     "output_type": "stream",
     "text": [
      "7\n"
     ]
    }
   ],
   "source": [
    "text = \"Hello, world!\"\n",
    "print(text.find(\"world\")) "
   ]
  },
  {
   "cell_type": "markdown",
   "id": "86d9d3c4-0df4-4211-96f8-3d84f7400b56",
   "metadata": {},
   "source": [
    "**string.rfind(substring)**: Returns the index of the last occurrence of the substring within the string. If the substring is not found, it returns -1."
   ]
  },
  {
   "cell_type": "code",
   "execution_count": 24,
   "id": "8e089cb2-002c-439f-8fd3-3f579a40fdf6",
   "metadata": {},
   "outputs": [
    {
     "name": "stdout",
     "output_type": "stream",
     "text": [
      "14\n"
     ]
    }
   ],
   "source": [
    "text = \"Hello, world, world!\"\n",
    "print(text.rfind(\"world\"))  "
   ]
  },
  {
   "cell_type": "markdown",
   "id": "f6f4d4c2-7082-42c6-a794-524dbab1df48",
   "metadata": {},
   "source": [
    "**string.startswith(prefix)**: Checks if the string starts with the specified prefix. Returns True or False."
   ]
  },
  {
   "cell_type": "code",
   "execution_count": 27,
   "id": "58fcbc48-b9d6-4c83-ac7d-27a845b448db",
   "metadata": {},
   "outputs": [
    {
     "name": "stdout",
     "output_type": "stream",
     "text": [
      "True\n"
     ]
    }
   ],
   "source": [
    "text = \"Hello, world!\"\n",
    "print(text.startswith(\"Hello\"))  "
   ]
  },
  {
   "cell_type": "markdown",
   "id": "d9f5dd87-795a-4c73-89cb-39c13e322d4b",
   "metadata": {},
   "source": [
    "**string.endswith(suffix)**: Checks if the string ends with the specified suffix. Returns True or False."
   ]
  },
  {
   "cell_type": "code",
   "execution_count": 30,
   "id": "d2443560-d048-4f94-b879-a1dc5ffd007d",
   "metadata": {},
   "outputs": [
    {
     "name": "stdout",
     "output_type": "stream",
     "text": [
      "True\n"
     ]
    }
   ],
   "source": [
    "text = \"Hello, world!\"\n",
    "print(text.endswith(\"world!\"))  "
   ]
  },
  {
   "cell_type": "markdown",
   "id": "8ef3e03b-73a0-4020-90b4-0588d1bfb562",
   "metadata": {},
   "source": [
    "**string.count(substring)**: Counts the number of occurrences of the substring within the string."
   ]
  },
  {
   "cell_type": "code",
   "execution_count": 33,
   "id": "86d71ab5-8d2f-42df-a5e0-c86dedac1890",
   "metadata": {},
   "outputs": [
    {
     "name": "stdout",
     "output_type": "stream",
     "text": [
      "2\n"
     ]
    }
   ],
   "source": [
    "text = \"Hello, world, world!\"\n",
    "print(text.count(\"world\")) "
   ]
  },
  {
   "cell_type": "markdown",
   "id": "541c6dc1-2aa4-4b18-a23d-9ef88377abba",
   "metadata": {},
   "source": [
    "**string.replace(old, new)**: Replaces all occurrences of the old substring with the new substring."
   ]
  },
  {
   "cell_type": "code",
   "execution_count": 36,
   "id": "f70ddda9-4fbd-486e-b883-e6cfc6ca65da",
   "metadata": {},
   "outputs": [
    {
     "name": "stdout",
     "output_type": "stream",
     "text": [
      "Hello, there!\n"
     ]
    }
   ],
   "source": [
    "text = \"Hello, world!\"\n",
    "print(text.replace(\"world\", \"there\")) "
   ]
  },
  {
   "cell_type": "markdown",
   "id": "f62abd03-1251-4594-b0b3-07c4011ace44",
   "metadata": {},
   "source": [
    "**string.strip()**: Removes leading and trailing whitespace characters from the string."
   ]
  },
  {
   "cell_type": "code",
   "execution_count": 39,
   "id": "47727b5e-eb05-4c6e-a130-d98b8e5cdf56",
   "metadata": {},
   "outputs": [
    {
     "name": "stdout",
     "output_type": "stream",
     "text": [
      "Hello, world!\n"
     ]
    }
   ],
   "source": [
    "text = \"   Hello, world!   \"\n",
    "print(text.strip())  "
   ]
  },
  {
   "cell_type": "markdown",
   "id": "b7a4c838-1e94-4b61-b648-11332585df6a",
   "metadata": {},
   "source": [
    "**string.lstrip()**: Removes leading whitespace characters from the string."
   ]
  },
  {
   "cell_type": "code",
   "execution_count": 42,
   "id": "183f334d-8922-4603-b6a4-ccee31a49bc2",
   "metadata": {},
   "outputs": [
    {
     "name": "stdout",
     "output_type": "stream",
     "text": [
      "Hello, world!   \n"
     ]
    }
   ],
   "source": [
    "text = \"   Hello, world!   \"\n",
    "print(text.lstrip())  "
   ]
  },
  {
   "cell_type": "markdown",
   "id": "e6cb63fe-14c9-4794-9d80-5e249ef3f9d6",
   "metadata": {},
   "source": [
    "**string.rstrip()**: Removes trailing whitespace characters from the string."
   ]
  },
  {
   "cell_type": "code",
   "execution_count": 45,
   "id": "bfbb9576-29b4-4387-b913-9755f0f4a5ff",
   "metadata": {},
   "outputs": [
    {
     "name": "stdout",
     "output_type": "stream",
     "text": [
      "   Hello, world!\n"
     ]
    }
   ],
   "source": [
    "text = \"   Hello, world!   \"\n",
    "print(text.rstrip())  "
   ]
  },
  {
   "cell_type": "markdown",
   "id": "9ed11ed8-fd4e-495b-be8b-830c01214085",
   "metadata": {},
   "source": [
    "**string.join(iterable)**: Joins the elements of an iterable (e.g., a list or tuple) into a single string using the string as a separator."
   ]
  },
  {
   "cell_type": "code",
   "execution_count": 48,
   "id": "bd4eee7c-6bb0-4013-88b6-42e60e6583ee",
   "metadata": {},
   "outputs": [
    {
     "name": "stdout",
     "output_type": "stream",
     "text": [
      "Hello world\n"
     ]
    }
   ],
   "source": [
    "words = [\"Hello\", \"world\"]\n",
    "print(\" \".join(words))  "
   ]
  },
  {
   "cell_type": "markdown",
   "id": "d904c827-ac61-4e09-982c-59bfd413778b",
   "metadata": {},
   "source": [
    "**string.split()**: Splits the string into a list of substrings based on whitespace characters."
   ]
  },
  {
   "cell_type": "code",
   "execution_count": 51,
   "id": "31d40e2b-250b-4679-815e-6a603af48a08",
   "metadata": {},
   "outputs": [
    {
     "name": "stdout",
     "output_type": "stream",
     "text": [
      "['Hello,', 'world!']\n"
     ]
    }
   ],
   "source": [
    "text = \"Hello, world!\"\n",
    "print(text.split()) "
   ]
  },
  {
   "cell_type": "markdown",
   "id": "4194c98a-ab68-4663-9311-57c23f67c5a6",
   "metadata": {},
   "source": [
    "**string.splitlines()**: Splits the string into a list of substrings based on newline characters."
   ]
  },
  {
   "cell_type": "code",
   "execution_count": 54,
   "id": "4dfcb10c-77a3-43a6-bee2-e7b333fca0e9",
   "metadata": {},
   "outputs": [
    {
     "name": "stdout",
     "output_type": "stream",
     "text": [
      "['Hello', 'world!']\n"
     ]
    }
   ],
   "source": [
    "text = \"Hello\\nworld!\"\n",
    "print(text.splitlines())  "
   ]
  },
  {
   "cell_type": "markdown",
   "id": "fc9f79e8-5c32-469c-b7fb-82da1562582d",
   "metadata": {},
   "source": [
    "**string.isalpha()**: Checks if all characters in the string are alphabetic."
   ]
  },
  {
   "cell_type": "code",
   "execution_count": 57,
   "id": "36969cd0-13f0-4292-a73f-5ef552f10704",
   "metadata": {},
   "outputs": [
    {
     "name": "stdout",
     "output_type": "stream",
     "text": [
      "True\n"
     ]
    }
   ],
   "source": [
    "text = \"Hello\"\n",
    "print(text.isalpha())  "
   ]
  },
  {
   "cell_type": "markdown",
   "id": "7ae6d383-9e90-40fc-9b16-297b17a7bc74",
   "metadata": {},
   "source": [
    "**string.isdigit()**: Checks if all characters in the string are digits."
   ]
  },
  {
   "cell_type": "code",
   "execution_count": 60,
   "id": "7ff806c2-19df-4004-b022-93f5933e9d4d",
   "metadata": {},
   "outputs": [
    {
     "name": "stdout",
     "output_type": "stream",
     "text": [
      "True\n"
     ]
    }
   ],
   "source": [
    "text = \"123\"\n",
    "print(text.isdigit()) "
   ]
  },
  {
   "cell_type": "markdown",
   "id": "04f3c1e3-6448-4737-b6cc-5f22c4a297f6",
   "metadata": {},
   "source": [
    "**string.isalnum()**: Checks if all characters in the string are alphanumeric (alphabetic or numeric)."
   ]
  },
  {
   "cell_type": "code",
   "execution_count": 63,
   "id": "d0536b88-13af-4182-a830-8ab7e97f49a4",
   "metadata": {},
   "outputs": [
    {
     "name": "stdout",
     "output_type": "stream",
     "text": [
      "True\n"
     ]
    }
   ],
   "source": [
    "text = \"Hello123\"\n",
    "print(text.isalnum())  "
   ]
  },
  {
   "cell_type": "markdown",
   "id": "99262699-92ce-4671-b0b1-98c0a3f90747",
   "metadata": {},
   "source": [
    "**string.isspace()**: Checks if all characters in the string are whitespace."
   ]
  },
  {
   "cell_type": "code",
   "execution_count": 66,
   "id": "f11c799e-2d8e-499c-bf5d-cb9fd47f5683",
   "metadata": {},
   "outputs": [
    {
     "name": "stdout",
     "output_type": "stream",
     "text": [
      "True\n"
     ]
    }
   ],
   "source": [
    "text = \"  \"\n",
    "print(text.isspace())"
   ]
  },
  {
   "cell_type": "code",
   "execution_count": null,
   "id": "7cadf564-e9dd-44c5-99b0-074645eb02e8",
   "metadata": {},
   "outputs": [],
   "source": []
  }
 ],
 "metadata": {
  "kernelspec": {
   "display_name": "Python 3 (ipykernel)",
   "language": "python",
   "name": "python3"
  },
  "language_info": {
   "codemirror_mode": {
    "name": "ipython",
    "version": 3
   },
   "file_extension": ".py",
   "mimetype": "text/x-python",
   "name": "python",
   "nbconvert_exporter": "python",
   "pygments_lexer": "ipython3",
   "version": "3.12.4"
  }
 },
 "nbformat": 4,
 "nbformat_minor": 5
}
