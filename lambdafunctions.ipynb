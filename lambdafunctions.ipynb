{
 "cells": [
  {
   "cell_type": "markdown",
   "id": "57211875-c25f-4d5b-93e7-ccc8b7ae1ce9",
   "metadata": {},
   "source": [
    "# map Function:"
   ]
  },
  {
   "cell_type": "markdown",
   "id": "dc554643-3fa4-46bc-9e52-99e48526c32f",
   "metadata": {},
   "source": [
    "**Applies a function to each element of an iterable (e.g., list, tuple).**:\n",
    "\n",
    "**Returns a new iterable containing the results.**:\n",
    "\n",
    "**Syntax**: map(function, iterable)"
   ]
  },
  {
   "cell_type": "code",
   "execution_count": 5,
   "id": "3fa34c0e-ac0d-4a13-b42e-1ac63287b6b5",
   "metadata": {},
   "outputs": [
    {
     "name": "stdout",
     "output_type": "stream",
     "text": [
      "[2, 4, 6, 8, 10]\n"
     ]
    }
   ],
   "source": [
    "numbers=[1,2,3,4,5]\n",
    "doubled=list(map(lambda x:x*2,numbers))\n",
    "print(doubled)"
   ]
  },
  {
   "cell_type": "code",
   "execution_count": 7,
   "id": "f88bbdfe-9e7e-4128-a194-1e639fcd4870",
   "metadata": {},
   "outputs": [
    {
     "name": "stdout",
     "output_type": "stream",
     "text": [
      "[False, True, False, True]\n"
     ]
    }
   ],
   "source": [
    "a=[120,3400,50,7600]\n",
    "add=list(map(lambda x:x%100==0,a))\n",
    "print(add)"
   ]
  },
  {
   "cell_type": "code",
   "execution_count": 11,
   "id": "56d28c81-c740-47e6-8999-fcd4f483494f",
   "metadata": {},
   "outputs": [
    {
     "name": "stdout",
     "output_type": "stream",
     "text": [
      "[5, 7, 9]\n"
     ]
    }
   ],
   "source": [
    "list1 = [1, 2, 3]\n",
    "list2 = [4, 5, 6]\n",
    "summed = list(map(lambda x, y: x + y, list1, list2))\n",
    "print(summed)  \n"
   ]
  },
  {
   "cell_type": "markdown",
   "id": "04e3331e-dabe-4ee0-bf3d-3742cda3fa6f",
   "metadata": {},
   "source": [
    "# filter Function:"
   ]
  },
  {
   "cell_type": "markdown",
   "id": "b1c02ef2-75d0-4759-ae83-d8f63cf209a0",
   "metadata": {},
   "source": [
    "**Filters elements from an iterable based on a given condition.**:\n",
    "\n",
    "**Returns a new iterable containing only the elements that meet the condition.**:\n",
    "\n",
    "**Syntax**: filter(function, iterable)"
   ]
  },
  {
   "cell_type": "code",
   "execution_count": 15,
   "id": "2f1f9a5a-24b4-4fa5-a04d-f70dc60a975a",
   "metadata": {},
   "outputs": [
    {
     "name": "stdout",
     "output_type": "stream",
     "text": [
      "[2, 4, 6]\n"
     ]
    }
   ],
   "source": [
    "numbers = [1, 2, 3, 4, 5, 6]\n",
    "even_numbers = list(filter(lambda x: x % 2 == 0, numbers))\n",
    "print(even_numbers)  \n"
   ]
  },
  {
   "cell_type": "code",
   "execution_count": null,
   "id": "9adf7e73-c6c0-4d1f-a0ab-ce78d514a8d8",
   "metadata": {},
   "outputs": [],
   "source": [
    "numbers=[1,2,3,4,4,6]\n",
    "odd_numbers=list(filter(lambda x:x%2!=0,numbers))\n",
    "print(odd_numbers)"
   ]
  }
 ],
 "metadata": {
  "kernelspec": {
   "display_name": "Python 3 (ipykernel)",
   "language": "python",
   "name": "python3"
  },
  "language_info": {
   "codemirror_mode": {
    "name": "ipython",
    "version": 3
   },
   "file_extension": ".py",
   "mimetype": "text/x-python",
   "name": "python",
   "nbconvert_exporter": "python",
   "pygments_lexer": "ipython3",
   "version": "3.12.4"
  }
 },
 "nbformat": 4,
 "nbformat_minor": 5
}
