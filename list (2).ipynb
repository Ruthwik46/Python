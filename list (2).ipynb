{
 "cells": [
  {
   "cell_type": "markdown",
   "id": "26e22f3f-0b9e-4bf0-9744-63a39cd40b2f",
   "metadata": {},
   "source": [
    "# Explain about list"
   ]
  },
  {
   "cell_type": "markdown",
   "id": "5f4a13a0-41ba-4360-a15f-144a40f553eb",
   "metadata": {},
   "source": [
    "A list in Python is an ordered collection of elements. It's a versatile data structure that can hold items of various data types, including numbers, strings, other lists, and even custom objects.\n",
    "\n",
    "**Key characteristics of lists:**:\n",
    "\n",
    "**Ordered**: Elements in a list are stored in a specific order, and their position (index) can be used to access them.\n",
    "\n",
    "**Changeable**: You can modify, add, or remove elements from a list after it's created.\n",
    "\n",
    "**Changeable**: You can modify, add, or remove elements from a list after it's created.\n",
    "\n",
    "**Dynamic**: The size of a list can change dynamically as you add or remove elements.\n"
   ]
  },
  {
   "cell_type": "markdown",
   "id": "51d04937-6331-4787-ae2b-74fef6dbc089",
   "metadata": {},
   "source": [
    "# Indexing:\n"
   ]
  },
  {
   "cell_type": "markdown",
   "id": "684d7e1a-d882-442e-9873-081686ffe4f0",
   "metadata": {},
   "source": [
    "**Elements in a list are accessed using their index, which starts from 0.**\n",
    "\n",
    "**You can use positive indices to access elements from the beginning and negative indices to access elements from the end.**"
   ]
  },
  {
   "cell_type": "markdown",
   "id": "67fc89b0-8c0d-4a12-9fe7-919c27c2da40",
   "metadata": {},
   "source": [
    "# Slicing:"
   ]
  },
  {
   "cell_type": "markdown",
   "id": "b2b3c45d-740e-4f11-bd31-d594351dcef0",
   "metadata": {},
   "source": [
    "You can extract a subset of elements from a list using slicing."
   ]
  },
  {
   "cell_type": "markdown",
   "id": "d9241c4e-3f95-45db-97f9-d15588492aa5",
   "metadata": {},
   "source": [
    "# Common operations:"
   ]
  },
  {
   "cell_type": "markdown",
   "id": "92b8ff75-8f48-4f9a-908a-6c47b4b7c297",
   "metadata": {},
   "source": [
    "**Adding elements**\n",
    "\n",
    "**Removing elements**\n",
    "\n",
    "**Modifying elements**\n",
    "\n",
    "**Other operations (e.g., length, sorting, reversing)**"
   ]
  },
  {
   "cell_type": "code",
   "execution_count": 21,
   "id": "4dfaa20b-617e-46f8-aeeb-b314ba21c606",
   "metadata": {},
   "outputs": [
    {
     "name": "stdout",
     "output_type": "stream",
     "text": [
      "[1, 2, 3, 4, 5]\n"
     ]
    }
   ],
   "source": [
    "numbers=[1,2,3,4,5]\n",
    "print(numbers)"
   ]
  },
  {
   "cell_type": "code",
   "execution_count": 23,
   "id": "1b903a46-efcc-4dea-9c18-4cf813ff3318",
   "metadata": {},
   "outputs": [
    {
     "name": "stdout",
     "output_type": "stream",
     "text": [
      "['apple', 'banana', 'orange', 'grape']\n"
     ]
    }
   ],
   "source": [
    "fruits = [\"apple\", \"banana\", \"orange\", \"grape\"]\n",
    "print(fruits)"
   ]
  },
  {
   "cell_type": "code",
   "execution_count": 25,
   "id": "a7fc580d-ccdb-42d2-ae12-b6de5ac82b40",
   "metadata": {},
   "outputs": [
    {
     "name": "stdout",
     "output_type": "stream",
     "text": [
      "[True, False, True, False]\n"
     ]
    }
   ],
   "source": [
    "boolean_values = [True, False, True, False]\n",
    "print(boolean_values)"
   ]
  },
  {
   "cell_type": "code",
   "execution_count": 27,
   "id": "f58f2283-f734-4433-ba8f-8cb128ecb84c",
   "metadata": {},
   "outputs": [
    {
     "name": "stdout",
     "output_type": "stream",
     "text": [
      "[10, 'hello', [1, 2, 3], True]\n"
     ]
    }
   ],
   "source": [
    "mixed_list = [10, \"hello\", [1, 2, 3], True]\n",
    "print(mixed_list)"
   ]
  },
  {
   "cell_type": "code",
   "execution_count": 29,
   "id": "55d9ca76-ee79-401c-86bb-5e86fe2093c6",
   "metadata": {},
   "outputs": [
    {
     "name": "stdout",
     "output_type": "stream",
     "text": [
      "[[1, 2, 3], [4, 5, 6], [7, 8, 9]]\n"
     ]
    }
   ],
   "source": [
    "nested_lists = [[1, 2, 3], [4, 5, 6], [7, 8, 9]]\n",
    "print(nested_lists)"
   ]
  },
  {
   "cell_type": "code",
   "execution_count": 33,
   "id": "e65986fc-fa2f-4ac3-ad1d-1ca53a71ef54",
   "metadata": {},
   "outputs": [
    {
     "name": "stdout",
     "output_type": "stream",
     "text": [
      "['apple', 'banana', 'orange'] [1, 2, 3, 4, 5]\n",
      "['apple', 'banana', 'orange']\n",
      "[1, 2, 3, 4, 5]\n"
     ]
    }
   ],
   "source": [
    "fruits = [\"apple\", \"banana\", \"orange\"]\n",
    "numbers = [1, 2, 3, 4, 5]\n",
    "print(fruits,numbers)\n",
    "print(fruits)\n",
    "print(numbers)"
   ]
  },
  {
   "cell_type": "code",
   "execution_count": 35,
   "id": "e02d69cc-093d-4675-b171-3172eb67b244",
   "metadata": {},
   "outputs": [
    {
     "name": "stdout",
     "output_type": "stream",
     "text": [
      "[10, 'hello', [1, 2, 3], True]\n"
     ]
    }
   ],
   "source": [
    "my_list = [10, \"hello\", [1, 2, 3], True]\n",
    "print(my_list)"
   ]
  },
  {
   "cell_type": "code",
   "execution_count": 37,
   "id": "8086b8e6-bcb3-408e-a624-acf58cf803da",
   "metadata": {},
   "outputs": [
    {
     "name": "stdout",
     "output_type": "stream",
     "text": [
      "[True, False, True, False]\n"
     ]
    }
   ],
   "source": [
    "boolean_values = [True, False, True, False]\n",
    "print(boolean_values)"
   ]
  },
  {
   "cell_type": "code",
   "execution_count": 39,
   "id": "5efddea1-0b8a-420b-8c84-d99c8c427aa6",
   "metadata": {},
   "outputs": [
    {
     "name": "stdout",
     "output_type": "stream",
     "text": [
      "[10, 'hello', [1, 2, 3], True]\n"
     ]
    }
   ],
   "source": [
    "mixed_list = [10, \"hello\", [1, 2, 3], True]\n",
    "print(mixed_list)"
   ]
  },
  {
   "cell_type": "code",
   "execution_count": 41,
   "id": "2ae2129a-4367-4011-b1c8-f0b49bd3cc81",
   "metadata": {},
   "outputs": [
    {
     "name": "stdout",
     "output_type": "stream",
     "text": [
      "['milk', 'eggs', 'bread', 'cheese', 'apples']\n"
     ]
    }
   ],
   "source": [
    "shopping_list = [\"milk\", \"eggs\", \"bread\", \"cheese\", \"apples\"]\n",
    "print(shopping_list)"
   ]
  },
  {
   "cell_type": "markdown",
   "id": "87144400-c513-4087-b468-c8223928bbf7",
   "metadata": {},
   "source": [
    "# Create 1 to 20 elements.10 elements positive,10 negative."
   ]
  },
  {
   "cell_type": "code",
   "execution_count": 46,
   "id": "38a7ffb6-6f70-495a-8371-4e8987a30c41",
   "metadata": {},
   "outputs": [
    {
     "name": "stdout",
     "output_type": "stream",
     "text": [
      "1\n",
      "2\n",
      "5\n",
      "4\n",
      "3\n",
      "6\n",
      "7\n",
      "8\n",
      "9\n",
      "10\n"
     ]
    }
   ],
   "source": [
    "numbers=[1,2,3,4,5,6,7,8,9,10,11,12,13,14,15,16,17,18,19,20]\n",
    "print(numbers[0])\n",
    "print(numbers[1])\n",
    "print(numbers[4])\n",
    "print(numbers[3])\n",
    "print(numbers[2])\n",
    "print(numbers[5])\n",
    "print(numbers[6])\n",
    "print(numbers[7])\n",
    "print(numbers[8])\n",
    "print(numbers[9])\n",
    "\n"
   ]
  },
  {
   "cell_type": "code",
   "execution_count": 50,
   "id": "71da7ddf-8568-42df-b55b-a703ae5ca16f",
   "metadata": {},
   "outputs": [
    {
     "name": "stdout",
     "output_type": "stream",
     "text": [
      "20\n",
      "19\n",
      "18\n",
      "17\n",
      "16\n",
      "15\n",
      "14\n",
      "13\n",
      "12\n",
      "11\n"
     ]
    }
   ],
   "source": [
    "numbers=[1,2,3,4,5,6,7,8,9,10,11,12,13,14,15,16,17,18,19,20]\n",
    "print(numbers[-1])\n",
    "print(numbers[-2])\n",
    "print(numbers[-3])\n",
    "print(numbers[-4])\n",
    "print(numbers[-5])\n",
    "print(numbers[-6])\n",
    "print(numbers[-7])\n",
    "print(numbers[-8])\n",
    "print(numbers[-9])\n",
    "print(numbers[-10])\n"
   ]
  },
  {
   "cell_type": "markdown",
   "id": "b6f8eb6c-6ad6-4413-80d8-10e7d311d669",
   "metadata": {},
   "source": [
    "# Concatenation:"
   ]
  },
  {
   "cell_type": "markdown",
   "id": "6e157c6c-31d7-4dff-88a8-6faf4d49f327",
   "metadata": {},
   "source": [
    "**Purpose**: Combines two or more lists into a single list.\n",
    "    \n",
    "**Operator**: The + operator is used for concatenation."
   ]
  },
  {
   "cell_type": "code",
   "execution_count": 62,
   "id": "0116d374-971b-449b-bf69-be071d3a289b",
   "metadata": {},
   "outputs": [
    {
     "name": "stdout",
     "output_type": "stream",
     "text": [
      "[1, 2, 3, 4, 5, 6]\n"
     ]
    }
   ],
   "source": [
    "a = [1, 2, 3]\n",
    "b = [4, 5, 6]\n",
    "c=print(a+b)"
   ]
  },
  {
   "cell_type": "code",
   "execution_count": 64,
   "id": "f65d01fb-d25c-448b-952a-b279e3de0530",
   "metadata": {},
   "outputs": [
    {
     "name": "stdout",
     "output_type": "stream",
     "text": [
      "['bhanu', 3.14, True, 1, 2, 3, 4, 5]\n"
     ]
    }
   ],
   "source": [
    "mixed=[\"bhanu\",3.14,True]\n",
    "numbers=[1,2,3,4,5]\n",
    "c=print(mixed+numbers)"
   ]
  },
  {
   "cell_type": "code",
   "execution_count": 66,
   "id": "862e9117-772d-43f0-b94f-a1a9ecb16c73",
   "metadata": {},
   "outputs": [
    {
     "name": "stdout",
     "output_type": "stream",
     "text": [
      "['a', 'b', 'c', 'd', 'e', 1, 2, 3, 4, 5, 6]\n"
     ]
    }
   ],
   "source": [
    "letters=['a','b','c','d','e']\n",
    "numbers=[1,2,3,4,5,6]\n",
    "R=print(letters+numbers)"
   ]
  },
  {
   "cell_type": "code",
   "execution_count": 68,
   "id": "356cacaa-582d-48dd-968f-5473cf4bc7ce",
   "metadata": {},
   "outputs": [
    {
     "name": "stdout",
     "output_type": "stream",
     "text": [
      "['apple', 'banana', 'orange', 'grape', 1, 2, 3, 4, 5]\n"
     ]
    }
   ],
   "source": [
    "fruits = [\"apple\", \"banana\", \"orange\", \"grape\"]\n",
    "numbers = [1, 2, 3, 4, 5]\n",
    "y=print(fruits+numbers)"
   ]
  },
  {
   "cell_type": "code",
   "execution_count": 72,
   "id": "6f1de1a4-eadd-43e6-83ae-7724f16a273e",
   "metadata": {},
   "outputs": [
    {
     "name": "stdout",
     "output_type": "stream",
     "text": [
      "['hello', 10, True, [1, 2, 3], 1, 2, 3, 45, 65]\n"
     ]
    }
   ],
   "source": [
    "mixed_list = [\"hello\", 10, True, [1, 2, 3]]\n",
    "numbers=[1,2,3,45,65]\n",
    "print(mixed_list+numbers)"
   ]
  },
  {
   "cell_type": "code",
   "execution_count": 74,
   "id": "11151dcc-bc68-4d26-92f0-20fbf44a994d",
   "metadata": {},
   "outputs": [
    {
     "name": "stdout",
     "output_type": "stream",
     "text": [
      "[1, 2, 3, 4, 5, 'apple', 'banana', 'cherry']\n"
     ]
    }
   ],
   "source": [
    "numbers = [1, 2, 3, 4, 5]\n",
    "fruits = [\"apple\", \"banana\", \"cherry\"]\n",
    "print(numbers+fruits)"
   ]
  },
  {
   "cell_type": "code",
   "execution_count": 76,
   "id": "5fc66f27-9a43-4ab7-a386-cb9affa55aa3",
   "metadata": {},
   "outputs": [
    {
     "name": "stdout",
     "output_type": "stream",
     "text": [
      "[1, 'hello', 3.14, True, 1, 2, 3, 4, 5]\n"
     ]
    }
   ],
   "source": [
    "mixed = [1, \"hello\", 3.14, True]\n",
    "numbers = [1, 2, 3, 4, 5]\n",
    "print(mixed+numbers)"
   ]
  },
  {
   "cell_type": "code",
   "execution_count": 86,
   "id": "13f520cf-8f93-4b9f-bca9-f715ff4c18fc",
   "metadata": {},
   "outputs": [
    {
     "name": "stdout",
     "output_type": "stream",
     "text": [
      "[1, 'hello', 3.14, True, 1, 2, 3, 4, 5]\n"
     ]
    }
   ],
   "source": [
    "mixed = [1, \"hello\", 3.14, True]\n",
    "numbers = [1, 2, 3, 4, 5]\n",
    "print(mixed+numbers)"
   ]
  },
  {
   "cell_type": "code",
   "execution_count": 92,
   "id": "ef7cef26-3122-482b-adfb-ac66dca1caf6",
   "metadata": {},
   "outputs": [
    {
     "name": "stdout",
     "output_type": "stream",
     "text": [
      "[1, 4, 6, 7, 'h', 'd', 'e', 'g', 'h']\n"
     ]
    }
   ],
   "source": [
    "a=[1,4,6,7]\n",
    "b=[\"h\",\"d\",\"e\",\"g\",\"h\"]\n",
    "c=print(a+b)"
   ]
  },
  {
   "cell_type": "code",
   "execution_count": 94,
   "id": "5546d39c-7923-43e7-95a5-a06f014a53e6",
   "metadata": {},
   "outputs": [
    {
     "name": "stdout",
     "output_type": "stream",
     "text": [
      "[1, 23, 4554, 323, 43, 1, 2, 3, 4, 5]\n"
     ]
    }
   ],
   "source": [
    "a=[1,23,4554,323,43]\n",
    "n=[1,2,3,4,5]\n",
    "c=print(a+n)"
   ]
  },
  {
   "cell_type": "markdown",
   "id": "41a43ade-a481-435c-b2c2-cf87296252c5",
   "metadata": {},
   "source": [
    "# repetition"
   ]
  },
  {
   "cell_type": "markdown",
   "id": "86ada297-7a6a-4c9b-aa1b-91e3def72671",
   "metadata": {},
   "source": [
    "Repetition in Python refers to the process of repeating a specific block of code multiple times. This is often achieved using loops."
   ]
  },
  {
   "cell_type": "code",
   "execution_count": 100,
   "id": "5b868fbe-80b7-43b1-a759-d921b5345e11",
   "metadata": {},
   "outputs": [
    {
     "name": "stdout",
     "output_type": "stream",
     "text": [
      "[1, 23, 4554, 323, 43, 1, 23, 4554, 323, 43, 1, 23, 4554, 323, 43, 1, 23, 4554, 323, 43]\n"
     ]
    }
   ],
   "source": [
    "a=[1,23,4554,323,43]\n",
    "c=print(a*4)"
   ]
  },
  {
   "cell_type": "code",
   "execution_count": 102,
   "id": "7e7baa01-928e-4083-b7b0-ad354feb4edb",
   "metadata": {},
   "outputs": [
    {
     "name": "stdout",
     "output_type": "stream",
     "text": [
      "['h', 'd', 'e', 'g', 'h', 'h', 'd', 'e', 'g', 'h', 'h', 'd', 'e', 'g', 'h']\n"
     ]
    }
   ],
   "source": [
    "b=[\"h\",\"d\",\"e\",\"g\",\"h\"]\n",
    "a=print(b*3)"
   ]
  },
  {
   "cell_type": "code",
   "execution_count": 104,
   "id": "2b150cc3-910b-449c-9690-55dbb76e3bd2",
   "metadata": {},
   "outputs": [
    {
     "name": "stdout",
     "output_type": "stream",
     "text": [
      "[1, 2, 3, 4, 5, 1, 2, 3, 4, 5, 1, 2, 3, 4, 5]\n"
     ]
    }
   ],
   "source": [
    "n=[1,2,3,4,5]\n",
    "q=print(n*3)"
   ]
  },
  {
   "cell_type": "code",
   "execution_count": 106,
   "id": "a09c1408-db3d-4a5d-917d-41a46e5295d6",
   "metadata": {},
   "outputs": [
    {
     "name": "stdout",
     "output_type": "stream",
     "text": [
      "[1, 'hello', 3.14, True, 1, 'hello', 3.14, True]\n"
     ]
    }
   ],
   "source": [
    "mixed = [1, \"hello\", 3.14, True]\n",
    "a=print(mixed*2)"
   ]
  },
  {
   "cell_type": "code",
   "execution_count": 108,
   "id": "0317713e-a95f-48a3-a99a-ca0cb3257ee2",
   "metadata": {},
   "outputs": [
    {
     "name": "stdout",
     "output_type": "stream",
     "text": [
      "[1, 4, 6, 7, 1, 4, 6, 7, 1, 4, 6, 7, 1, 4, 6, 7, 1, 4, 6, 7]\n"
     ]
    }
   ],
   "source": [
    "a=[1,4,6,7]\n",
    "s=print(a*5)"
   ]
  },
  {
   "cell_type": "code",
   "execution_count": 110,
   "id": "c0ca68a7-9832-43e9-b9ce-2c1e2b387d15",
   "metadata": {},
   "outputs": [
    {
     "name": "stdout",
     "output_type": "stream",
     "text": [
      "['apple', 'banana', 'cherry', 'apple', 'banana', 'cherry', 'apple', 'banana', 'cherry', 'apple', 'banana', 'cherry', 'apple', 'banana', 'cherry']\n"
     ]
    }
   ],
   "source": [
    "fruits = [\"apple\", \"banana\", \"cherry\"]\n",
    "s=print(fruits*5)"
   ]
  },
  {
   "cell_type": "code",
   "execution_count": 112,
   "id": "3dc2090c-cb28-4e59-b51c-eb1d736a37de",
   "metadata": {},
   "outputs": [
    {
     "name": "stdout",
     "output_type": "stream",
     "text": [
      "['a', 'b', 'c', 'd', 'e', 'a', 'b', 'c', 'd', 'e', 'a', 'b', 'c', 'd', 'e', 'a', 'b', 'c', 'd', 'e', 'a', 'b', 'c', 'd', 'e']\n"
     ]
    }
   ],
   "source": [
    "letters=['a','b','c','d','e']\n",
    "a=print(letters*5)"
   ]
  },
  {
   "cell_type": "code",
   "execution_count": 114,
   "id": "2193b1c7-8b38-460f-b11f-0eabb21bdbea",
   "metadata": {},
   "outputs": [
    {
     "name": "stdout",
     "output_type": "stream",
     "text": [
      "['bhanu', 3.14, True, 'bhanu', 3.14, True, 'bhanu', 3.14, True, 'bhanu', 3.14, True]\n"
     ]
    }
   ],
   "source": [
    "mixed=[\"bhanu\",3.14,True]\n",
    "a=print(mixed*4)"
   ]
  },
  {
   "cell_type": "code",
   "execution_count": 116,
   "id": "d993ae28-9d9d-489c-85dc-13e0e5c9bfc7",
   "metadata": {},
   "outputs": [
    {
     "name": "stdout",
     "output_type": "stream",
     "text": [
      "['hello', 10, True, [1, 2, 3], 'hello', 10, True, [1, 2, 3], 'hello', 10, True, [1, 2, 3]]\n"
     ]
    }
   ],
   "source": [
    "mixed_list = [\"hello\", 10, True, [1, 2, 3]]\n",
    "a=print(mixed_list*3)"
   ]
  },
  {
   "cell_type": "code",
   "execution_count": 118,
   "id": "db7682b3-7d60-4479-a30a-4057b41118c3",
   "metadata": {},
   "outputs": [
    {
     "name": "stdout",
     "output_type": "stream",
     "text": [
      "['apple', 'banana', 'orange', 'grape', 'apple', 'banana', 'orange', 'grape', 'apple', 'banana', 'orange', 'grape']\n"
     ]
    }
   ],
   "source": [
    "fruits = [\"apple\", \"banana\", \"orange\", \"grape\"]\n",
    "q=print(fruits*3)"
   ]
  },
  {
   "cell_type": "markdown",
   "id": "e9b6aadd-78c6-4680-8513-80478ced74d7",
   "metadata": {},
   "source": [
    "# slicing examples"
   ]
  },
  {
   "cell_type": "code",
   "execution_count": 1,
   "id": "c647b54a-e3c6-499e-9c29-5b085eb584c8",
   "metadata": {},
   "outputs": [
    {
     "name": "stdout",
     "output_type": "stream",
     "text": [
      "[2, 3, 4, 5]\n",
      "[1, 2, 3, 4, 5, 6, 7, 8, 9, 10, 11, 12, 13, 14, 15, 16, 17, 18, 19, 20]\n",
      "[10, 11, 12, 13, 14]\n",
      "[1, 2, 3, 4, 5, 6, 7, 8, 9, 10, 11, 12, 13, 14, 15, 16, 17, 18, 19]\n",
      "[]\n",
      "[]\n",
      "[2, 3, 4, 5, 6, 7, 8, 9, 10, 11, 12, 13, 14, 15, 16, 17, 18, 19, 20]\n",
      "[1, 2, 3, 4, 5, 6, 7, 8, 9, 10, 11, 12, 13, 14, 15, 16, 17, 18, 19, 20]\n",
      "[11, 12, 13, 14, 15, 16, 17, 18, 19, 20]\n",
      "[]\n"
     ]
    }
   ],
   "source": [
    "a=[1,2,3,4,5,6,7,8,9,10,11,12,13,14,15,16,17,18,19,20]\n",
    "b=a[1:5]\n",
    "c=a[0:]\n",
    "d=a[9:14]\n",
    "e=a[:19]\n",
    "f=a[-4:-14]\n",
    "g=a[-1:-20]\n",
    "h=a[-19:]\n",
    "i=a[0:20]\n",
    "j=a[10:20]\n",
    "k=a[1:1]\n",
    "print(b)\n",
    "print(c)\n",
    "print(d)\n",
    "print(e)\n",
    "print(f)\n",
    "print(g)\n",
    "print(h)\n",
    "print(i)\n",
    "print(j)\n",
    "print(k)\n"
   ]
  },
  {
   "cell_type": "markdown",
   "id": "27529704-d0c7-43a8-8323-f155eba1c1f4",
   "metadata": {},
   "source": [
    "# to change list items"
   ]
  },
  {
   "cell_type": "markdown",
   "id": "fcfa9cb0-9782-43cc-8b22-a19e71839915",
   "metadata": {},
   "source": [
    "#to change the value of a specific item,refer to the index number:"
   ]
  },
  {
   "cell_type": "code",
   "execution_count": 7,
   "id": "a309737c-794b-444e-a7b8-41c2893644e9",
   "metadata": {},
   "outputs": [
    {
     "name": "stdout",
     "output_type": "stream",
     "text": [
      "['apple', 'banana', 'cherry']\n",
      "['mango', 'banana', 'cherry']\n"
     ]
    }
   ],
   "source": [
    "list=[\"apple\",\"banana\",\"cherry\"]\n",
    "print(list)\n",
    "list[0]=(\"mango\")\n",
    "print(list)"
   ]
  },
  {
   "cell_type": "markdown",
   "id": "30ed54f7-1bf4-4967-894a-8a39269a0e68",
   "metadata": {},
   "source": [
    "when we want to change multiple items then we have to use slicing\n"
   ]
  },
  {
   "cell_type": "code",
   "execution_count": 10,
   "id": "61e114a3-84a7-4d4d-b4e0-26da04f74421",
   "metadata": {},
   "outputs": [
    {
     "name": "stdout",
     "output_type": "stream",
     "text": [
      "['apple', 'banana', 'str', 'waterm', 'musk', 'orange', 'kiwi']\n"
     ]
    }
   ],
   "source": [
    "list=['apple','banana','cherry','orange','kiwi']\n",
    "list[2:3]=['str','waterm','musk']\n",
    "print(list)"
   ]
  },
  {
   "cell_type": "markdown",
   "id": "49f5d3ee-0735-41f1-b691-2c96a29abeba",
   "metadata": {},
   "source": [
    "# list methods"
   ]
  },
  {
   "cell_type": "markdown",
   "id": "bd074a2e-356a-42c9-a9dd-7382dedcd3c9",
   "metadata": {},
   "source": [
    "# append()"
   ]
  },
  {
   "cell_type": "markdown",
   "id": "dbaaa2af-276f-462c-87c5-10edc3d18ef7",
   "metadata": {},
   "source": [
    "List appending refers to the process of adding new elements to the end of an existing list in Python. This operation is performed using the append() method."
   ]
  },
  {
   "cell_type": "code",
   "execution_count": 21,
   "id": "b649f508-3087-433a-ab4c-f82c26427245",
   "metadata": {},
   "outputs": [
    {
     "name": "stdout",
     "output_type": "stream",
     "text": [
      "[1, 2, 3, 4, 5, 6, 7, 8, 34]\n"
     ]
    }
   ],
   "source": [
    "numbers=[1,2,3,4,5,6,7,8]\n",
    "numbers.append(34)\n",
    "print(numbers)"
   ]
  },
  {
   "cell_type": "code",
   "execution_count": 29,
   "id": "db246736-1576-42d4-823f-0e8bfd948925",
   "metadata": {},
   "outputs": [
    {
     "name": "stdout",
     "output_type": "stream",
     "text": [
      "['apple', 'banana', 'straberry', 'pineapple', 'mango']\n"
     ]
    }
   ],
   "source": [
    "fruits=['apple','banana','straberry','pineapple']\n",
    "fruits.append('mango')\n",
    "print(fruits)"
   ]
  },
  {
   "cell_type": "code",
   "execution_count": 38,
   "id": "a4a56a82-a185-4f34-84e3-c02f0288c05b",
   "metadata": {},
   "outputs": [
    {
     "name": "stdout",
     "output_type": "stream",
     "text": [
      "['a', 'b', 'c', 'd', 'e', 'f', 'g', 'h', 'j']\n"
     ]
    }
   ],
   "source": [
    "letters=['a','b','c','d','e','f','g','h']\n",
    "letters.append('j')\n",
    "print(letters)"
   ]
  },
  {
   "cell_type": "code",
   "execution_count": 40,
   "id": "81561218-7a24-4dcc-8471-87d37e82f011",
   "metadata": {},
   "outputs": [
    {
     "name": "stdout",
     "output_type": "stream",
     "text": [
      "['a', 2, 3.14, (1+4j), True, False]\n"
     ]
    }
   ],
   "source": [
    "mixed=['a',2,3.14,1+4j,True]\n",
    "mixed.append(False)\n",
    "print(mixed)"
   ]
  },
  {
   "cell_type": "markdown",
   "id": "e83ca9c6-5d5b-46fd-812d-f5d6ba3c7b35",
   "metadata": {},
   "source": [
    "# extend()"
   ]
  },
  {
   "cell_type": "markdown",
   "id": "04c4af88-b3a8-401f-bb54-a1d958a90a36",
   "metadata": {},
   "source": [
    "#It's efficient for adding multiple elements from an iterable to a list\n",
    "#The extend() method modifies the original list in-place, meaning it doesn't create a new list."
   ]
  },
  {
   "cell_type": "code",
   "execution_count": 44,
   "id": "be46819b-fa8b-4fd3-b274-dd8228df255e",
   "metadata": {},
   "outputs": [
    {
     "name": "stdout",
     "output_type": "stream",
     "text": [
      "[1, 2, 3, 4, 5, 6, 7, 8, 10, 11, 12, 13, 15]\n"
     ]
    }
   ],
   "source": [
    "numbers=[1,2,3,4,5,6,7,8]\n",
    "moreno=[10,11,12,13,15]\n",
    "numbers.extend(moreno)\n",
    "print(numbers)\n"
   ]
  },
  {
   "cell_type": "code",
   "execution_count": 48,
   "id": "76f5fe47-9788-4501-a010-029e69e1b003",
   "metadata": {},
   "outputs": [
    {
     "name": "stdout",
     "output_type": "stream",
     "text": [
      "['apple', 'banana', 'straberry', 'pineapple', 'mango', 'kiwi', 'orange']\n"
     ]
    }
   ],
   "source": [
    "fruits=['apple','banana','straberry','pineapple']\n",
    "morefruits=['mango','kiwi','orange']\n",
    "fruits.extend(morefruits)\n",
    "print(fruits)"
   ]
  },
  {
   "cell_type": "code",
   "execution_count": 50,
   "id": "1a724b11-6863-4ab1-8623-fdc4ae11490a",
   "metadata": {},
   "outputs": [
    {
     "name": "stdout",
     "output_type": "stream",
     "text": [
      "['a', 'b', 'c', 'd', 'e', 'g', 'f', 'i', 'j', 'k', 'l', 'm']\n"
     ]
    }
   ],
   "source": [
    "letters=['a','b','c','d','e','g']\n",
    "morelrtters=['f','i','j','k','l','m']\n",
    "letters.extend(morelrtters)\n",
    "print(letters)"
   ]
  },
  {
   "cell_type": "code",
   "execution_count": 56,
   "id": "e15a5fc3-1c4d-4be0-ba3e-f7c6fdb94fe5",
   "metadata": {},
   "outputs": [
    {
     "name": "stdout",
     "output_type": "stream",
     "text": [
      "['if', 'and', True, 'False', 'elif', 'from', 'or', 'while']\n"
     ]
    }
   ],
   "source": [
    "keywords=['if','and',True,'False']\n",
    "morekeywords=['elif','from','or','while']\n",
    "keywords.extend(morekeywords)\n",
    "print(keywords)"
   ]
  },
  {
   "cell_type": "markdown",
   "id": "30837d56-48a7-4a2a-9019-f417229831eb",
   "metadata": {},
   "source": [
    "# insert"
   ]
  },
  {
   "cell_type": "markdown",
   "id": "f228599f-178a-4d9e-980f-bfae88b16f1c",
   "metadata": {},
   "source": [
    "The insert() method is a built-in function in Python that is used to insert an element at a specific index within an existing list. This allows you to modify the structure of the list by adding elements at desired positions."
   ]
  },
  {
   "cell_type": "code",
   "execution_count": 61,
   "id": "3414d150-3146-4c7b-bb58-a6a267d03b56",
   "metadata": {},
   "outputs": [
    {
     "name": "stdout",
     "output_type": "stream",
     "text": [
      "[1, 8, 2, 3, 4, 5]\n"
     ]
    }
   ],
   "source": [
    "numbers=[1,2,3,4,5]\n",
    "numbers.insert(1,8)\n",
    "print(numbers)"
   ]
  },
  {
   "cell_type": "code",
   "execution_count": 63,
   "id": "601df087-3a94-4f56-a7e0-634ce1e7ac70",
   "metadata": {},
   "outputs": [
    {
     "name": "stdout",
     "output_type": "stream",
     "text": [
      "['a', 'b', 'c', 'd', 'v', 'e', 'g']\n"
     ]
    }
   ],
   "source": [
    "letters=['a','b','c','d','e','g']\n",
    "letters.insert(4,'v')\n",
    "print(letters)"
   ]
  },
  {
   "cell_type": "code",
   "execution_count": 65,
   "id": "f09f3046-6239-4f80-96f0-b5967adcd8d9",
   "metadata": {},
   "outputs": [
    {
     "name": "stdout",
     "output_type": "stream",
     "text": [
      "['f', 'i', 5, 'j', 'k', 'l', 'm']\n"
     ]
    }
   ],
   "source": [
    "morelrtters=['f','i','j','k','l','m']\n",
    "morelrtters.insert(2,5)\n",
    "print(morelrtters)"
   ]
  },
  {
   "cell_type": "code",
   "execution_count": 69,
   "id": "168eab8b-46e5-4cfc-952a-c27539603f73",
   "metadata": {},
   "outputs": [
    {
     "name": "stdout",
     "output_type": "stream",
     "text": [
      "[10, 11, 12, 't', 13, 15]\n"
     ]
    }
   ],
   "source": [
    "moreno=[10,11,12,13,15]\n",
    "moreno.insert(3,'t')\n",
    "print(moreno)"
   ]
  },
  {
   "cell_type": "code",
   "execution_count": 75,
   "id": "6d075b23-0b3d-401d-a5ca-0e56af6ee1ca",
   "metadata": {},
   "outputs": [
    {
     "name": "stdout",
     "output_type": "stream",
     "text": [
      "['apple', 'banana', 'kiwi', 'straberry', 'pineapple']\n"
     ]
    }
   ],
   "source": [
    "fruits=['apple','banana','straberry','pineapple']\n",
    "fruits.insert(2,'kiwi')\n",
    "print(fruits)"
   ]
  },
  {
   "cell_type": "markdown",
   "id": "c4857f0f-b2ba-43b6-95fb-c99c5206085d",
   "metadata": {},
   "source": [
    "# remove()"
   ]
  },
  {
   "cell_type": "markdown",
   "id": "97a93403-2ba0-421f-bf4d-5b82b05ffdeb",
   "metadata": {},
   "source": [
    "The remove() method is a built-in function in Python that is used to remove the first occurrence of a specified element from a list."
   ]
  },
  {
   "cell_type": "code",
   "execution_count": 73,
   "id": "16fcbb14-58f9-4455-bba3-e61edbd46ef7",
   "metadata": {},
   "outputs": [
    {
     "name": "stdout",
     "output_type": "stream",
     "text": [
      "[1, 2, 4, 5, 6, 7]\n"
     ]
    }
   ],
   "source": [
    "numbers=[1,2,3,4,5,6,7]\n",
    "numbers.remove(3)\n",
    "print(numbers)"
   ]
  },
  {
   "cell_type": "code",
   "execution_count": 77,
   "id": "78a1f19c-46f7-4312-935d-985e8c6c914a",
   "metadata": {},
   "outputs": [
    {
     "name": "stdout",
     "output_type": "stream",
     "text": [
      "['apple', 'straberry', 'pineapple']\n"
     ]
    }
   ],
   "source": [
    "fruits=['apple','banana','straberry','pineapple']\n",
    "fruits.remove('banana')\n",
    "print(fruits)"
   ]
  },
  {
   "cell_type": "code",
   "execution_count": 79,
   "id": "8f4247d6-6301-450f-ac31-aed47e66fba0",
   "metadata": {},
   "outputs": [
    {
     "name": "stdout",
     "output_type": "stream",
     "text": [
      "[3, 4, 5, 2, 1, 2, 3, 4, 4]\n"
     ]
    }
   ],
   "source": [
    "numbers=[1,2,3,4,5,1,2,1,2,3,4,4]\n",
    "numbers.remove(2)\n",
    "numbers.remove(1)\n",
    "numbers.remove(1)\n",
    "print(numbers)"
   ]
  },
  {
   "cell_type": "markdown",
   "id": "80f43366-c585-4851-99a7-bfd7da908c02",
   "metadata": {},
   "source": [
    "# pop()"
   ]
  },
  {
   "cell_type": "markdown",
   "id": "afc338a8-23c6-4b93-ba5a-a24ee9dc33c3",
   "metadata": {},
   "source": [
    "Removes the item at a specified index (or the last item if no index is given) and returns it."
   ]
  },
  {
   "cell_type": "code",
   "execution_count": 83,
   "id": "320cf252-9081-4736-b46c-5a7f2e21a1d5",
   "metadata": {},
   "outputs": [
    {
     "name": "stdout",
     "output_type": "stream",
     "text": [
      "5\n",
      "[1, 2, 3, 4]\n",
      "3\n",
      "[1, 2, 4]\n"
     ]
    }
   ],
   "source": [
    "my_list = [1, 2, 3, 4, 5]\n",
    "a= my_list.pop()\n",
    "print(a)  \n",
    "print(my_list)   \n",
    "b= my_list.pop(2)\n",
    "print(b)  \n",
    "print(my_list)          \n"
   ]
  },
  {
   "cell_type": "code",
   "execution_count": 85,
   "id": "f3f3f96e-c08a-460e-a821-93dd0081b6b1",
   "metadata": {},
   "outputs": [
    {
     "name": "stdout",
     "output_type": "stream",
     "text": [
      "['apple', 'straberry', 'pineapple']\n"
     ]
    }
   ],
   "source": [
    "fruits=['apple','banana','straberry','pineapple']\n",
    "fruits.pop(1)\n",
    "print(fruits)"
   ]
  },
  {
   "cell_type": "code",
   "execution_count": 87,
   "id": "49cddf87-093f-4e12-9c07-c01c9247e55d",
   "metadata": {},
   "outputs": [
    {
     "name": "stdout",
     "output_type": "stream",
     "text": [
      "[[1, 2], [2, 3], [5, 1]]\n"
     ]
    }
   ],
   "source": [
    "numbers=[[1,2],[2,3],[2,4],[5,1]]\n",
    "numbers.pop(2)\n",
    "print(numbers)"
   ]
  },
  {
   "cell_type": "markdown",
   "id": "6c7b6ad6-1190-42bd-8c4a-23d466cdef44",
   "metadata": {},
   "source": [
    "# index"
   ]
  },
  {
   "cell_type": "markdown",
   "id": "e65e62fc-946f-4601-a20c-8f8e404ac6e0",
   "metadata": {},
   "source": [
    "Returns the index of the first occurrence of a specified item."
   ]
  },
  {
   "cell_type": "code",
   "execution_count": 103,
   "id": "034f67d9-a18c-4c8f-8e51-2bc52d2e2748",
   "metadata": {},
   "outputs": [
    {
     "name": "stdout",
     "output_type": "stream",
     "text": [
      "1\n",
      "2\n"
     ]
    }
   ],
   "source": [
    "my_list = ['apple', 'banana', 'cherry']\n",
    "index=my_list.index('banana')\n",
    "print(index)\n",
    "index=my_list.index('cherry')\n",
    "print(index)\n"
   ]
  },
  {
   "cell_type": "code",
   "execution_count": 101,
   "id": "15f7ff11-8370-4c27-85b5-7628ebc8b981",
   "metadata": {},
   "outputs": [
    {
     "name": "stdout",
     "output_type": "stream",
     "text": [
      "5\n"
     ]
    }
   ],
   "source": [
    "numbers=[1,2,3,4,5,6,7,8,9,10,11,12]\n",
    "index=numbers.index(6)\n",
    "print(index)\n"
   ]
  },
  {
   "cell_type": "markdown",
   "id": "cf0eb378-ca51-4ac0-9a7a-732b1ffe90fd",
   "metadata": {},
   "source": [
    "# count"
   ]
  },
  {
   "cell_type": "markdown",
   "id": "fdb84cc6-ea54-419e-ae6b-e7b7ef4fae87",
   "metadata": {},
   "source": [
    "Returns the number of occurrences of a specified item in the list.   \n"
   ]
  },
  {
   "cell_type": "code",
   "execution_count": 105,
   "id": "750ece38-4548-431d-ba72-bf8595fbc2fd",
   "metadata": {},
   "outputs": [
    {
     "name": "stdout",
     "output_type": "stream",
     "text": [
      "3\n"
     ]
    }
   ],
   "source": [
    "numbers=[1,2,3,2,2,3,4,5,6,7,75,543]\n",
    "count=numbers.count(2)\n",
    "print(count)"
   ]
  },
  {
   "cell_type": "code",
   "execution_count": 107,
   "id": "fab30f22-3fbe-48b1-9ca1-359436806a43",
   "metadata": {},
   "outputs": [
    {
     "name": "stdout",
     "output_type": "stream",
     "text": [
      "2\n"
     ]
    }
   ],
   "source": [
    "my_list = ['apple', 'banana', 'cherry','banana','apple']\n",
    "count=my_list.count('banana')\n",
    "print(count)"
   ]
  },
  {
   "cell_type": "markdown",
   "id": "6d4c4e65-2019-4fa0-a835-1e12bfc608cd",
   "metadata": {},
   "source": [
    "# sort"
   ]
  },
  {
   "cell_type": "markdown",
   "id": "6b2b68c1-5469-4b41-9893-e58a1d0a2556",
   "metadata": {},
   "source": [
    "Sorts the elements of the list in ascending order (or descending order if reverse=True)."
   ]
  },
  {
   "cell_type": "code",
   "execution_count": 111,
   "id": "4e0a3137-44b3-44c4-ad8d-8e87caf9f006",
   "metadata": {},
   "outputs": [
    {
     "name": "stdout",
     "output_type": "stream",
     "text": [
      "[1, 2, 2, 2, 3, 3, 4, 5, 6, 7, 75, 543]\n"
     ]
    }
   ],
   "source": [
    "numbers=[1,2,3,2,2,3,4,5,6,7,75,543]\n",
    "numbers.sort()\n",
    "print(numbers)"
   ]
  },
  {
   "cell_type": "code",
   "execution_count": 115,
   "id": "c85a5507-767d-462e-b410-1b3d7edecc9f",
   "metadata": {},
   "outputs": [
    {
     "name": "stdout",
     "output_type": "stream",
     "text": [
      "['BAnana', 'apple', 'apple', 'banAna', 'cheRry']\n"
     ]
    }
   ],
   "source": [
    "my_list = ['apple', 'banAna', 'cheRry','BAnana','apple']\n",
    "my_list.sort()\n",
    "print(my_list)"
   ]
  },
  {
   "cell_type": "markdown",
   "id": "f383e42d-19a9-4389-9a73-44ef0f96af51",
   "metadata": {},
   "source": [
    "# reverse "
   ]
  },
  {
   "cell_type": "code",
   "execution_count": 120,
   "id": "633d7554-64cd-4a22-8553-a912c0ce784b",
   "metadata": {},
   "outputs": [
    {
     "name": "stdout",
     "output_type": "stream",
     "text": [
      "[543, 75, 7, 6, 5, 4, 3, 2, 2, 3, 2, 1]\n"
     ]
    }
   ],
   "source": [
    "numbers=[1,2,3,2,2,3,4,5,6,7,75,543]\n",
    "numbers.reverse()\n",
    "print(numbers)"
   ]
  },
  {
   "cell_type": "code",
   "execution_count": null,
   "id": "935200eb-a499-45c5-a70b-62ce43f6361d",
   "metadata": {},
   "outputs": [],
   "source": [
    "my_list = ['apple', 'banAna', 'cheRry','BAnana','apple']\n"
   ]
  }
 ],
 "metadata": {
  "kernelspec": {
   "display_name": "Python 3 (ipykernel)",
   "language": "python",
   "name": "python3"
  },
  "language_info": {
   "codemirror_mode": {
    "name": "ipython",
    "version": 3
   },
   "file_extension": ".py",
   "mimetype": "text/x-python",
   "name": "python",
   "nbconvert_exporter": "python",
   "pygments_lexer": "ipython3",
   "version": "3.12.4"
  }
 },
 "nbformat": 4,
 "nbformat_minor": 5
}
