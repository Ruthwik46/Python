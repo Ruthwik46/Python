{
 "cells": [
  {
   "cell_type": "markdown",
   "id": "9fc80bdd-5088-458a-992b-f3b77644c9aa",
   "metadata": {},
   "source": [
    "# sets"
   ]
  },
  {
   "cell_type": "markdown",
   "id": "dceea5fa-6b25-45db-8769-f8c8f9153057",
   "metadata": {},
   "source": [
    "Sets are unordered collections of unique elements in Python. They are defined using curly braces {} or the built-in set() function. Elements in a set must be immutable (e.g., numbers, strings, tuples)."
   ]
  },
  {
   "cell_type": "markdown",
   "id": "56e94f22-37dc-4958-841d-b2d2d52868f2",
   "metadata": {},
   "source": [
    "**Unordered**: Elements in a set do not have a specific order.\n",
    "\n",
    "**Unique**: Each element can only appear once in a set.\n",
    "\n",
    "**Immutable**: Elements within a set must be immutable."
   ]
  },
  {
   "cell_type": "markdown",
   "id": "3ca737a4-7ad0-4ea6-befb-e89f3b8c39a1",
   "metadata": {},
   "source": [
    " # Creating Sets:"
   ]
  },
  {
   "cell_type": "code",
   "execution_count": 5,
   "id": "e801a728-b08b-4aa1-b1b4-1d52d24825f4",
   "metadata": {},
   "outputs": [],
   "source": [
    "my_set = {1, 2, 3}"
   ]
  },
  {
   "cell_type": "markdown",
   "id": "4822ce76-cb7b-4bdb-b1fa-3f1d736f6755",
   "metadata": {},
   "source": [
    "Adding Elements:"
   ]
  },
  {
   "cell_type": "code",
   "execution_count": 8,
   "id": "71b80a3e-b79c-4b06-94fb-c53e17bcde84",
   "metadata": {},
   "outputs": [
    {
     "name": "stdout",
     "output_type": "stream",
     "text": [
      "{1, 2, 3, 4}\n"
     ]
    }
   ],
   "source": [
    "my_set.add(4)\n",
    "print(my_set)"
   ]
  },
  {
   "cell_type": "markdown",
   "id": "730e5402-0b36-4515-b8f9-75c61b3ae839",
   "metadata": {},
   "source": [
    " Removing Elements:"
   ]
  },
  {
   "cell_type": "markdown",
   "id": "1f4c6816-0b1e-4784-b887-cc653e4581d0",
   "metadata": {},
   "source": [
    "Using the remove() method:"
   ]
  },
  {
   "cell_type": "code",
   "execution_count": 12,
   "id": "40593783-1fe8-4409-b406-d39eb566469a",
   "metadata": {},
   "outputs": [
    {
     "name": "stdout",
     "output_type": "stream",
     "text": [
      "{1, 3, 4}\n"
     ]
    }
   ],
   "source": [
    "my_set.remove(2)  \n",
    "print(my_set)"
   ]
  },
  {
   "cell_type": "markdown",
   "id": "3eb8f137-b24c-4f4e-83ab-0d9029206fd7",
   "metadata": {},
   "source": [
    "Using the discard() method:"
   ]
  },
  {
   "cell_type": "code",
   "execution_count": 15,
   "id": "6bf7c38e-fb99-415c-b4c7-addb28e8bc83",
   "metadata": {},
   "outputs": [
    {
     "name": "stdout",
     "output_type": "stream",
     "text": [
      "{1, 3, 4}\n"
     ]
    }
   ],
   "source": [
    "my_set.discard(2)  \n",
    "print(my_set)"
   ]
  },
  {
   "cell_type": "markdown",
   "id": "7248a5f2-0b72-4db2-ac42-347cebdf3a87",
   "metadata": {},
   "source": [
    "Using the pop() method:"
   ]
  },
  {
   "cell_type": "code",
   "execution_count": 20,
   "id": "97a7a019-56f4-4260-9f63-0d6a3f21ea66",
   "metadata": {},
   "outputs": [
    {
     "name": "stdout",
     "output_type": "stream",
     "text": [
      "3\n"
     ]
    }
   ],
   "source": [
    "removed_element = my_set.pop() \n",
    "print(removed_element)"
   ]
  },
  {
   "cell_type": "markdown",
   "id": "956ea7ee-6672-4747-a860-d52bb1c69a0a",
   "metadata": {},
   "source": [
    " Finding Union:"
   ]
  },
  {
   "cell_type": "markdown",
   "id": "883c8fc7-7106-460b-9eb7-bdabe2fd53e0",
   "metadata": {},
   "source": [
    "Using the | operator:"
   ]
  },
  {
   "cell_type": "code",
   "execution_count": 34,
   "id": "fde46e6c-aa1a-4e1d-ad1c-f6d02fb6a5b3",
   "metadata": {},
   "outputs": [
    {
     "name": "stdout",
     "output_type": "stream",
     "text": [
      "{1, 2, 3, 4, 5}\n"
     ]
    }
   ],
   "source": [
    "set1 = {1, 2, 3}\n",
    "set2 = {3, 4, 5}\n",
    "union_set = set1 | set2\n",
    "print(union_set)"
   ]
  },
  {
   "cell_type": "markdown",
   "id": "90dae3fa-5729-473d-bec8-b63b778fdde7",
   "metadata": {},
   "source": [
    "Finding Intersection:"
   ]
  },
  {
   "cell_type": "markdown",
   "id": "7b960a7d-fb6f-41d8-b1ce-7dd5c013cd24",
   "metadata": {},
   "source": [
    "Using the & operator:"
   ]
  },
  {
   "cell_type": "code",
   "execution_count": 38,
   "id": "a72d2523-76ce-49f7-9b41-cc075c308f41",
   "metadata": {},
   "outputs": [
    {
     "name": "stdout",
     "output_type": "stream",
     "text": [
      "{3}\n"
     ]
    }
   ],
   "source": [
    "intersection_set = set1 & set2\n",
    "print(intersection_set)"
   ]
  },
  {
   "cell_type": "markdown",
   "id": "5ddaa097-de25-44fd-88f0-397abe3890db",
   "metadata": {},
   "source": [
    "Finding Difference:\n",
    "\n",
    "Using the - operator:"
   ]
  },
  {
   "cell_type": "code",
   "execution_count": 41,
   "id": "b29c9e57-ef90-4b76-9c8d-4946748c589a",
   "metadata": {},
   "outputs": [
    {
     "name": "stdout",
     "output_type": "stream",
     "text": [
      "{1, 2}\n"
     ]
    }
   ],
   "source": [
    "difference_set = set1 - set2\n",
    "print(difference_set)"
   ]
  },
  {
   "cell_type": "markdown",
   "id": "22fcf53d-f77a-4d4c-96d9-108bf042a1c1",
   "metadata": {},
   "source": [
    " Finding Symmetric Difference:\n",
    "\n",
    "Using the ^ operator:"
   ]
  },
  {
   "cell_type": "code",
   "execution_count": 44,
   "id": "8ac61d53-8768-49c0-95e9-6d5ee6bca6c8",
   "metadata": {},
   "outputs": [
    {
     "name": "stdout",
     "output_type": "stream",
     "text": [
      "{1, 2, 4, 5}\n"
     ]
    }
   ],
   "source": [
    "symmetric_difference_set = set1 ^ set2\n",
    "print(symmetric_difference_set)"
   ]
  },
  {
   "cell_type": "code",
   "execution_count": 46,
   "id": "241d62ad-ea68-49e3-8d41-67d89ab88909",
   "metadata": {},
   "outputs": [
    {
     "name": "stdout",
     "output_type": "stream",
     "text": [
      "{1, 2, 3, 4, 5}\n",
      "{3}\n",
      "{1, 2}\n",
      "{1, 2, 4, 5}\n"
     ]
    }
   ],
   "source": [
    "set1 = {1, 2, 3}\n",
    "set2 = {3, 4, 5}\n",
    "# Union\n",
    "union_set = set1 | set2\n",
    "print(union_set)  \n",
    "# Intersection\n",
    "intersection_set = set1 & set2\n",
    "print(intersection_set)  \n",
    "# Difference\n",
    "difference_set = set1 - set2\n",
    "print(difference_set)  \n",
    "# Symmetric difference\n",
    "symmetric_difference_set = set1 ^ set2\n",
    "print(symmetric_difference_set)  "
   ]
  },
  {
   "cell_type": "markdown",
   "id": "0822d5b1-d2eb-4fc5-ad70-069ffbf3c57a",
   "metadata": {},
   "source": [
    "**Sets can be used for various tasks, such as removing duplicates from a list, finding common elements between two lists, and performing set operations.**\n",
    "\n",
    "**Sets are often more efficient than lists for membership testing and set operations.**\n",
    "\n",
    "**For more advanced set operations, consider using the frozenset class, which is immutable and can be used as keys in dictionaries.**"
   ]
  },
  {
   "cell_type": "code",
   "execution_count": null,
   "id": "d43604d3-1dc3-44b3-ba5f-550b5ece804f",
   "metadata": {},
   "outputs": [],
   "source": []
  }
 ],
 "metadata": {
  "kernelspec": {
   "display_name": "Python 3 (ipykernel)",
   "language": "python",
   "name": "python3"
  },
  "language_info": {
   "codemirror_mode": {
    "name": "ipython",
    "version": 3
   },
   "file_extension": ".py",
   "mimetype": "text/x-python",
   "name": "python",
   "nbconvert_exporter": "python",
   "pygments_lexer": "ipython3",
   "version": "3.12.4"
  }
 },
 "nbformat": 4,
 "nbformat_minor": 5
}
