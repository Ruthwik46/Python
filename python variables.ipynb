{
 "cells": [
  {
   "cell_type": "markdown",
   "id": "87e438eb-40c3-4f5b-ae6a-7a30400125f0",
   "metadata": {},
   "source": [
    "# Explain about variables"
   ]
  },
  {
   "cell_type": "markdown",
   "id": "1e6e1eef-b389-4d35-8c96-e69b548dfea1",
   "metadata": {},
   "source": [
    "A variable in Python is a symbolic name that represents a value or data. It acts as a reference to the data stored in memory. By using variables, you can easily manipulate and access data in your programs without dealing with raw memory addresses.\n",
    "In Python, you don't need to declare the type of a variable explicitly. You simply assign a value to a variable name, and Python infers the type based on the value."
   ]
  },
  {
   "cell_type": "code",
   "execution_count": 4,
   "id": "ff9a325d-e69f-4ecb-b42d-06b7cb273844",
   "metadata": {},
   "outputs": [],
   "source": [
    "x = 5         # x is an integer\n",
    "name = \"Alice\" # name is a string\n",
    "pi = 3.14      # pi is a float\n"
   ]
  },
  {
   "cell_type": "markdown",
   "id": "1c57f0a4-7a99-4e6e-b487-95c43bd1bdc8",
   "metadata": {},
   "source": [
    "Variables are essential building blocks in Python programming, serving as named containers to store data values. They allow you to manipulate and reference data throughout your code, making your programs dynamic and flexible.\n",
    "\n",
    "Key Characteristics:\n",
    "\n",
    "Name: A unique identifier chosen by the programmer to refer to the variable.\n",
    "Data Type: Specifies the type of value the variable can hold (e.g., integer, float, string, boolean).\n",
    "Value: The content stored within the variable.\n",
    "Assignment: The process of assigning a value to a variable using the = operator."
   ]
  },
  {
   "cell_type": "markdown",
   "id": "eeff136d-ab38-4654-85d0-b947c8269c04",
   "metadata": {},
   "source": [
    "# Types of variables"
   ]
  },
  {
   "cell_type": "markdown",
   "id": "5ef3f2f8-9a69-4056-9b33-3f1be7eda65d",
   "metadata": {},
   "source": [
    "Variables can hold different types of data, including:\n",
    "\n",
    "Integers: Whole numbers (e.g., 5, -3)\n",
    "Floats: Decimal numbers (e.g., 3.14, -0.001)\n",
    "Strings: Text data (e.g., \"hello\", 'world')\n",
    "Booleans: True or False values (True, False)\n",
    "Lists: Ordered collections (e.g., [1, 2, 3])\n",
    "Dictionaries: Key-value pairs (e.g., {'name': 'Alice', 'age': 30})\n",
    "Tuples: Immutable ordered collections (e.g., (1, 2, 3))\n",
    "Sets: Unordered collections of unique items (e.g., {1, 2, 3})"
   ]
  },
  {
   "cell_type": "markdown",
   "id": "5ff2cdf5-2c29-4e66-af56-f96c04a5a863",
   "metadata": {},
   "source": [
    "# rules"
   ]
  },
  {
   "cell_type": "markdown",
   "id": "08215f7a-204c-4391-bbb7-a65690fbcefa",
   "metadata": {},
   "source": [
    "Start with a letter or underscore: Avoid starting with numbers.\n",
    "Use alphanumeric characters and underscores: No spaces or special characters allowed.\n",
    "Case-sensitive: myVariable and myvariable are different.\n",
    "Avoid reserved keywords: Don't use keywords like if, for, while, etc.\n",
    "Choose descriptive names: Make it clear what the variable represents."
   ]
  },
  {
   "cell_type": "markdown",
   "id": "f0bb14ab-f912-40e2-861d-7aa1d8b1d9e9",
   "metadata": {},
   "source": [
    "# examples of valid variables"
   ]
  },
  {
   "cell_type": "code",
   "execution_count": 13,
   "id": "8be951d0-3c58-4efc-aa24-b7b5a74c1e60",
   "metadata": {},
   "outputs": [
    {
     "name": "stdout",
     "output_type": "stream",
     "text": [
      "10\n"
     ]
    }
   ],
   "source": [
    "a = 10\n",
    "print(a)"
   ]
  },
  {
   "cell_type": "code",
   "execution_count": 15,
   "id": "1c69a706-0d4e-48d9-a507-27d692e7ad9a",
   "metadata": {},
   "outputs": [
    {
     "name": "stdout",
     "output_type": "stream",
     "text": [
      "3.14\n"
     ]
    }
   ],
   "source": [
    "variable123 = 3.14\n",
    "print(variable123)"
   ]
  },
  {
   "cell_type": "code",
   "execution_count": 17,
   "id": "88e87d68-1db6-4adf-aeee-6fa6a082733f",
   "metadata": {},
   "outputs": [
    {
     "name": "stdout",
     "output_type": "stream",
     "text": [
      "[1, 2, 3]\n"
     ]
    }
   ],
   "source": [
    "e=[1, 2, 3]\n",
    "print(e)"
   ]
  },
  {
   "cell_type": "code",
   "execution_count": 23,
   "id": "3cbfc2d7-399f-431f-b871-18470f67ec81",
   "metadata": {},
   "outputs": [
    {
     "name": "stdout",
     "output_type": "stream",
     "text": [
      "28\n"
     ]
    }
   ],
   "source": [
    "userAge = 28\n",
    "print(userAge) "
   ]
  },
  {
   "cell_type": "code",
   "execution_count": 25,
   "id": "7d4fcb1a-e008-4142-8a04-cf80512d9ff9",
   "metadata": {},
   "outputs": [
    {
     "name": "stdout",
     "output_type": "stream",
     "text": [
      "150.75\n"
     ]
    }
   ],
   "source": [
    "totalAmountDue = 150.75\n",
    "print(totalAmountDue)"
   ]
  },
  {
   "cell_type": "code",
   "execution_count": 27,
   "id": "998027b3-02f6-4c55-a602-3585ad009c0e",
   "metadata": {},
   "outputs": [
    {
     "name": "stdout",
     "output_type": "stream",
     "text": [
      "100\n"
     ]
    }
   ],
   "source": [
    "maxScore = 100\n",
    "print(maxScore)"
   ]
  },
  {
   "cell_type": "code",
   "execution_count": 29,
   "id": "239fe718-91e8-4c61-bc2b-23f6696b6dca",
   "metadata": {},
   "outputs": [
    {
     "name": "stdout",
     "output_type": "stream",
     "text": [
      "12345\n"
     ]
    }
   ],
   "source": [
    "order_id = 12345\n",
    "print(order_id)"
   ]
  },
  {
   "cell_type": "code",
   "execution_count": 31,
   "id": "b46cd25a-a92f-4846-ad7a-eb002f44179c",
   "metadata": {},
   "outputs": [
    {
     "name": "stdout",
     "output_type": "stream",
     "text": [
      "500\n"
     ]
    }
   ],
   "source": [
    "MAX_LIMIT = 500\n",
    "print(MAX_LIMIT)"
   ]
  },
  {
   "cell_type": "code",
   "execution_count": 33,
   "id": "95a94cdb-920a-45b8-b83e-0d07a583de47",
   "metadata": {},
   "outputs": [
    {
     "name": "stdout",
     "output_type": "stream",
     "text": [
      "30\n"
     ]
    }
   ],
   "source": [
    "DEFAULT_TIMEOUT = 30\n",
    "print(DEFAULT_TIMEOUT)"
   ]
  },
  {
   "cell_type": "code",
   "execution_count": 35,
   "id": "9148d02b-80ac-4128-a1f0-4ac147cba276",
   "metadata": {},
   "outputs": [
    {
     "name": "stdout",
     "output_type": "stream",
     "text": [
      "50\n"
     ]
    }
   ],
   "source": [
    "totalItems = 50\n",
    "print(totalItems)"
   ]
  },
  {
   "cell_type": "code",
   "execution_count": 37,
   "id": "b4d98f72-7252-4cc7-8754-014863c2038e",
   "metadata": {},
   "outputs": [
    {
     "name": "stdout",
     "output_type": "stream",
     "text": [
      "25\n"
     ]
    }
   ],
   "source": [
    "_temp_value = 25\n",
    "print(_temp_value)"
   ]
  },
  {
   "cell_type": "code",
   "execution_count": 39,
   "id": "2c0b57c9-55ce-42e1-9525-4558035d3682",
   "metadata": {},
   "outputs": [
    {
     "name": "stdout",
     "output_type": "stream",
     "text": [
      "10\n",
      "10\n",
      "10\n"
     ]
    }
   ],
   "source": [
    "a = b = c = 10\n",
    "print(a)  \n",
    "print(b)  \n",
    "print(c)  "
   ]
  },
  {
   "cell_type": "code",
   "execution_count": 41,
   "id": "5600652e-926d-4ce4-a7f7-091b11b37b36",
   "metadata": {},
   "outputs": [
    {
     "name": "stdout",
     "output_type": "stream",
     "text": [
      "1024\n",
      "1024\n",
      "1024\n"
     ]
    }
   ],
   "source": [
    "MAX_SIZE = MIN_SIZE = DEFAULT_SIZE = 1024\n",
    "print(MAX_SIZE)      \n",
    "print(MIN_SIZE)      \n",
    "print(DEFAULT_SIZE) "
   ]
  },
  {
   "cell_type": "code",
   "execution_count": 43,
   "id": "51945ba3-50f4-4723-9b12-75a711c02dc9",
   "metadata": {},
   "outputs": [
    {
     "name": "stdout",
     "output_type": "stream",
     "text": [
      "100\n",
      "100\n",
      "100\n"
     ]
    }
   ],
   "source": [
    "totalAmount = totalItems = totalCount = 100\n",
    "print(totalAmount)  \n",
    "print(totalItems)    \n",
    "print(totalCount)    "
   ]
  },
  {
   "cell_type": "code",
   "execution_count": 45,
   "id": "d476756b-fbc9-4e5a-9f03-1cf9e0b4c073",
   "metadata": {},
   "outputs": [
    {
     "name": "stdout",
     "output_type": "stream",
     "text": [
      "5.5\n",
      "5.5\n",
      "5.5\n"
     ]
    }
   ],
   "source": [
    "first_value = second_value = third_value = 5.5\n",
    "print(first_value)  \n",
    "print(second_value)  \n",
    "print(third_value)  "
   ]
  },
  {
   "cell_type": "code",
   "execution_count": 47,
   "id": "9685006b-10ed-4087-a77c-dd880eec4a85",
   "metadata": {},
   "outputs": [
    {
     "name": "stdout",
     "output_type": "stream",
     "text": [
      "[1, 2, 3]\n",
      "[1, 2, 3]\n",
      "[1, 2, 3]\n"
     ]
    }
   ],
   "source": [
    "list_a = list_b = list_c = [1, 2, 3]\n",
    "print(list_a)  \n",
    "print(list_b)  \n",
    "print(list_c)  "
   ]
  },
  {
   "cell_type": "code",
   "execution_count": 49,
   "id": "38c63c23-65a8-41b5-baa1-3a1bd8ca6764",
   "metadata": {},
   "outputs": [
    {
     "name": "stdout",
     "output_type": "stream",
     "text": [
      "100\n"
     ]
    }
   ],
   "source": [
    "maxScore = 100\n",
    "print(maxScore) "
   ]
  },
  {
   "cell_type": "code",
   "execution_count": 51,
   "id": "c32edb02-5ecc-46a8-a71a-fb8f8675d916",
   "metadata": {},
   "outputs": [
    {
     "name": "stdout",
     "output_type": "stream",
     "text": [
      "12345\n"
     ]
    }
   ],
   "source": [
    "order_id = 12345\n",
    "print(order_id) \n"
   ]
  },
  {
   "cell_type": "code",
   "execution_count": 53,
   "id": "2bb7fea2-5963-4e14-8c67-018d0832f53d",
   "metadata": {},
   "outputs": [
    {
     "name": "stdout",
     "output_type": "stream",
     "text": [
      "500\n"
     ]
    }
   ],
   "source": [
    "MAX_LIMIT = 500\n",
    "print(MAX_LIMIT)"
   ]
  },
  {
   "cell_type": "code",
   "execution_count": 55,
   "id": "3fb8a9f6-23dc-41f1-bfd3-9823f5343247",
   "metadata": {},
   "outputs": [
    {
     "name": "stdout",
     "output_type": "stream",
     "text": [
      "50\n"
     ]
    }
   ],
   "source": [
    "totalItems = 50\n",
    "print(totalItems)"
   ]
  },
  {
   "cell_type": "markdown",
   "id": "8eb451ac-eca4-4927-beea-4f939817c672",
   "metadata": {},
   "source": [
    "# examples of invalid variables"
   ]
  },
  {
   "cell_type": "code",
   "execution_count": 60,
   "id": "c5e0b4b2-5f7c-4b06-879f-d830eb8b281a",
   "metadata": {},
   "outputs": [
    {
     "ename": "SyntaxError",
     "evalue": "invalid decimal literal (1876743774.py, line 1)",
     "output_type": "error",
     "traceback": [
      "\u001b[1;36m  Cell \u001b[1;32mIn[60], line 1\u001b[1;36m\u001b[0m\n\u001b[1;33m    1st_variable = 10\u001b[0m\n\u001b[1;37m    ^\u001b[0m\n\u001b[1;31mSyntaxError\u001b[0m\u001b[1;31m:\u001b[0m invalid decimal literal\n"
     ]
    }
   ],
   "source": [
    "1st_variable = 10"
   ]
  },
  {
   "cell_type": "code",
   "execution_count": 62,
   "id": "537c5cbd-8998-4c47-b572-eff3d164467a",
   "metadata": {},
   "outputs": [
    {
     "ename": "SyntaxError",
     "evalue": "invalid syntax (4165710301.py, line 1)",
     "output_type": "error",
     "traceback": [
      "\u001b[1;36m  Cell \u001b[1;32mIn[62], line 1\u001b[1;36m\u001b[0m\n\u001b[1;33m    def = 20\u001b[0m\n\u001b[1;37m        ^\u001b[0m\n\u001b[1;31mSyntaxError\u001b[0m\u001b[1;31m:\u001b[0m invalid syntax\n"
     ]
    }
   ],
   "source": [
    "def = 20"
   ]
  },
  {
   "cell_type": "code",
   "execution_count": 64,
   "id": "915524d4-9c2b-4398-8348-77f816518c0e",
   "metadata": {},
   "outputs": [
    {
     "ename": "SyntaxError",
     "evalue": "cannot assign to expression here. Maybe you meant '==' instead of '='? (1223755867.py, line 1)",
     "output_type": "error",
     "traceback": [
      "\u001b[1;36m  Cell \u001b[1;32mIn[64], line 1\u001b[1;36m\u001b[0m\n\u001b[1;33m    user-name = \"John\"\u001b[0m\n\u001b[1;37m    ^\u001b[0m\n\u001b[1;31mSyntaxError\u001b[0m\u001b[1;31m:\u001b[0m cannot assign to expression here. Maybe you meant '==' instead of '='?\n"
     ]
    }
   ],
   "source": [
    "user-name = \"John\""
   ]
  },
  {
   "cell_type": "code",
   "execution_count": 66,
   "id": "4d47cb7e-5c39-47ef-99e0-946db8cd43e5",
   "metadata": {},
   "outputs": [
    {
     "ename": "SyntaxError",
     "evalue": "invalid syntax (3157391671.py, line 1)",
     "output_type": "error",
     "traceback": [
      "\u001b[1;36m  Cell \u001b[1;32mIn[66], line 1\u001b[1;36m\u001b[0m\n\u001b[1;33m    class = 30\u001b[0m\n\u001b[1;37m          ^\u001b[0m\n\u001b[1;31mSyntaxError\u001b[0m\u001b[1;31m:\u001b[0m invalid syntax\n"
     ]
    }
   ],
   "source": [
    "class = 30"
   ]
  },
  {
   "cell_type": "code",
   "execution_count": 68,
   "id": "dd803720-4efd-4c3d-b3f6-5e2d673a9f36",
   "metadata": {},
   "outputs": [
    {
     "ename": "SyntaxError",
     "evalue": "invalid syntax. Maybe you meant '==' or ':=' instead of '='? (2918941958.py, line 1)",
     "output_type": "error",
     "traceback": [
      "\u001b[1;36m  Cell \u001b[1;32mIn[68], line 1\u001b[1;36m\u001b[0m\n\u001b[1;33m    @variable = 40\u001b[0m\n\u001b[1;37m     ^\u001b[0m\n\u001b[1;31mSyntaxError\u001b[0m\u001b[1;31m:\u001b[0m invalid syntax. Maybe you meant '==' or ':=' instead of '='?\n"
     ]
    }
   ],
   "source": [
    "@variable = 40"
   ]
  },
  {
   "cell_type": "code",
   "execution_count": 70,
   "id": "8f7dbd26-7e35-4321-968c-e7793b0c6c39",
   "metadata": {},
   "outputs": [
    {
     "ename": "SyntaxError",
     "evalue": "invalid syntax (2818841307.py, line 1)",
     "output_type": "error",
     "traceback": [
      "\u001b[1;36m  Cell \u001b[1;32mIn[70], line 1\u001b[1;36m\u001b[0m\n\u001b[1;33m    var!able = 50\u001b[0m\n\u001b[1;37m       ^\u001b[0m\n\u001b[1;31mSyntaxError\u001b[0m\u001b[1;31m:\u001b[0m invalid syntax\n"
     ]
    }
   ],
   "source": [
    "var!able = 50\n"
   ]
  },
  {
   "cell_type": "code",
   "execution_count": 72,
   "id": "209d3fc0-851d-4969-9270-a88c95104601",
   "metadata": {},
   "outputs": [
    {
     "ename": "SyntaxError",
     "evalue": "invalid syntax (2791549297.py, line 1)",
     "output_type": "error",
     "traceback": [
      "\u001b[1;36m  Cell \u001b[1;32mIn[72], line 1\u001b[1;36m\u001b[0m\n\u001b[1;33m    total amount = 60\u001b[0m\n\u001b[1;37m          ^\u001b[0m\n\u001b[1;31mSyntaxError\u001b[0m\u001b[1;31m:\u001b[0m invalid syntax\n"
     ]
    }
   ],
   "source": [
    "total amount = 60"
   ]
  },
  {
   "cell_type": "code",
   "execution_count": 74,
   "id": "fa96bb03-db42-4ce0-86d9-16fbce77aba5",
   "metadata": {},
   "outputs": [
    {
     "ename": "SyntaxError",
     "evalue": "invalid syntax (1977201885.py, line 1)",
     "output_type": "error",
     "traceback": [
      "\u001b[1;36m  Cell \u001b[1;32mIn[74], line 1\u001b[1;36m\u001b[0m\n\u001b[1;33m    if = 70\u001b[0m\n\u001b[1;37m       ^\u001b[0m\n\u001b[1;31mSyntaxError\u001b[0m\u001b[1;31m:\u001b[0m invalid syntax\n"
     ]
    }
   ],
   "source": [
    "if = 70"
   ]
  },
  {
   "cell_type": "code",
   "execution_count": 76,
   "id": "78b845db-e4f0-4b65-a674-e18f909483c4",
   "metadata": {},
   "outputs": [
    {
     "ename": "SyntaxError",
     "evalue": "invalid syntax (3962023557.py, line 1)",
     "output_type": "error",
     "traceback": [
      "\u001b[1;36m  Cell \u001b[1;32mIn[76], line 1\u001b[1;36m\u001b[0m\n\u001b[1;33m    while = 80\u001b[0m\n\u001b[1;37m          ^\u001b[0m\n\u001b[1;31mSyntaxError\u001b[0m\u001b[1;31m:\u001b[0m invalid syntax\n"
     ]
    }
   ],
   "source": [
    "while = 80"
   ]
  },
  {
   "cell_type": "code",
   "execution_count": 82,
   "id": "b1d0347d-1ba3-43af-9750-badeaf7e0e61",
   "metadata": {},
   "outputs": [],
   "source": [
    "print = 100\n"
   ]
  },
  {
   "cell_type": "code",
   "execution_count": 84,
   "id": "16abfb66-e32d-4fb7-9d73-f83c3d631c9b",
   "metadata": {},
   "outputs": [
    {
     "ename": "SyntaxError",
     "evalue": "cannot assign to True (3889364239.py, line 1)",
     "output_type": "error",
     "traceback": [
      "\u001b[1;36m  Cell \u001b[1;32mIn[84], line 1\u001b[1;36m\u001b[0m\n\u001b[1;33m    True = 110\u001b[0m\n\u001b[1;37m    ^\u001b[0m\n\u001b[1;31mSyntaxError\u001b[0m\u001b[1;31m:\u001b[0m cannot assign to True\n"
     ]
    }
   ],
   "source": [
    "True = 110"
   ]
  },
  {
   "cell_type": "code",
   "execution_count": 86,
   "id": "b458a55b-b0e0-485c-bb66-cde9d28d7696",
   "metadata": {},
   "outputs": [
    {
     "ename": "SyntaxError",
     "evalue": "cannot assign to False (2626833656.py, line 1)",
     "output_type": "error",
     "traceback": [
      "\u001b[1;36m  Cell \u001b[1;32mIn[86], line 1\u001b[1;36m\u001b[0m\n\u001b[1;33m    False = 120\u001b[0m\n\u001b[1;37m    ^\u001b[0m\n\u001b[1;31mSyntaxError\u001b[0m\u001b[1;31m:\u001b[0m cannot assign to False\n"
     ]
    }
   ],
   "source": [
    "False = 120"
   ]
  },
  {
   "cell_type": "code",
   "execution_count": 88,
   "id": "063cd0d3-dc80-4a73-8645-d1671c037cfe",
   "metadata": {},
   "outputs": [
    {
     "ename": "SyntaxError",
     "evalue": "invalid decimal literal (1498654248.py, line 1)",
     "output_type": "error",
     "traceback": [
      "\u001b[1;36m  Cell \u001b[1;32mIn[88], line 1\u001b[1;36m\u001b[0m\n\u001b[1;33m    1st_variable = 10 = 20\u001b[0m\n\u001b[1;37m    ^\u001b[0m\n\u001b[1;31mSyntaxError\u001b[0m\u001b[1;31m:\u001b[0m invalid decimal literal\n"
     ]
    }
   ],
   "source": [
    "1st_variable = 10 = 20"
   ]
  },
  {
   "cell_type": "code",
   "execution_count": 90,
   "id": "4df25666-0eb7-4bdb-8448-a75f73e51cda",
   "metadata": {},
   "outputs": [
    {
     "ename": "SyntaxError",
     "evalue": "cannot assign to expression (2365267472.py, line 1)",
     "output_type": "error",
     "traceback": [
      "\u001b[1;36m  Cell \u001b[1;32mIn[90], line 1\u001b[1;36m\u001b[0m\n\u001b[1;33m    user-name = 50 = 60\u001b[0m\n\u001b[1;37m    ^\u001b[0m\n\u001b[1;31mSyntaxError\u001b[0m\u001b[1;31m:\u001b[0m cannot assign to expression\n"
     ]
    }
   ],
   "source": [
    "user-name = 50 = 60"
   ]
  },
  {
   "cell_type": "code",
   "execution_count": 92,
   "id": "12e38096-0aa7-414c-ba42-33990f0c0f98",
   "metadata": {},
   "outputs": [
    {
     "ename": "SyntaxError",
     "evalue": "invalid syntax (3908914356.py, line 1)",
     "output_type": "error",
     "traceback": [
      "\u001b[1;36m  Cell \u001b[1;32mIn[92], line 1\u001b[1;36m\u001b[0m\n\u001b[1;33m    while = 170 = 180\u001b[0m\n\u001b[1;37m          ^\u001b[0m\n\u001b[1;31mSyntaxError\u001b[0m\u001b[1;31m:\u001b[0m invalid syntax\n"
     ]
    }
   ],
   "source": [
    "while = 170 = 180"
   ]
  },
  {
   "cell_type": "code",
   "execution_count": 94,
   "id": "3b47e74f-3581-4af3-926c-b75ee2ae940c",
   "metadata": {},
   "outputs": [
    {
     "ename": "SyntaxError",
     "evalue": "invalid syntax (239761240.py, line 1)",
     "output_type": "error",
     "traceback": [
      "\u001b[1;36m  Cell \u001b[1;32mIn[94], line 1\u001b[1;36m\u001b[0m\n\u001b[1;33m    return = 230 = 240\u001b[0m\n\u001b[1;37m           ^\u001b[0m\n\u001b[1;31mSyntaxError\u001b[0m\u001b[1;31m:\u001b[0m invalid syntax\n"
     ]
    }
   ],
   "source": [
    "return = 230 = 240"
   ]
  },
  {
   "cell_type": "code",
   "execution_count": 96,
   "id": "11498498-7475-499c-87e0-b8333af4d5ff",
   "metadata": {},
   "outputs": [
    {
     "ename": "SyntaxError",
     "evalue": "cannot assign to None (2580617542.py, line 1)",
     "output_type": "error",
     "traceback": [
      "\u001b[1;36m  Cell \u001b[1;32mIn[96], line 1\u001b[1;36m\u001b[0m\n\u001b[1;33m    None = 310 = 320\u001b[0m\n\u001b[1;37m    ^\u001b[0m\n\u001b[1;31mSyntaxError\u001b[0m\u001b[1;31m:\u001b[0m cannot assign to None\n"
     ]
    }
   ],
   "source": [
    "None = 310 = 320"
   ]
  },
  {
   "cell_type": "code",
   "execution_count": null,
   "id": "d7fe610d-b4f0-4ea2-9393-854e986760eb",
   "metadata": {},
   "outputs": [],
   "source": [
    "a,b,c=10\n",
    "print"
   ]
  }
 ],
 "metadata": {
  "kernelspec": {
   "display_name": "Python 3 (ipykernel)",
   "language": "python",
   "name": "python3"
  },
  "language_info": {
   "codemirror_mode": {
    "name": "ipython",
    "version": 3
   },
   "file_extension": ".py",
   "mimetype": "text/x-python",
   "name": "python",
   "nbconvert_exporter": "python",
   "pygments_lexer": "ipython3",
   "version": "3.12.4"
  }
 },
 "nbformat": 4,
 "nbformat_minor": 5
}
