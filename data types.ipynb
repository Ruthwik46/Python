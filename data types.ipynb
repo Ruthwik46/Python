{
 "cells": [
  {
   "cell_type": "markdown",
   "id": "cbb5623a-9e1a-442f-a896-4b5a3af9e612",
   "metadata": {},
   "source": [
    "# Explain about data types(basic)"
   ]
  },
  {
   "cell_type": "markdown",
   "id": "ee190bcf-f041-4067-a45b-40de89985907",
   "metadata": {},
   "source": [
    "In Python, primitive data types are the basic building blocks for creating variables and performing operations. They represent simple values and are the most fundamental data types in the language. Here’s a rundown of the primary primitive data types in Python:\n",
    "\n",
    "Integer (int):\n",
    "\n",
    "Represents whole numbers without a fractional component.\n",
    "Examples: 5, -3, 42\n",
    "Python integers are of arbitrary precision, meaning they can grow as large as the memory allows."
   ]
  },
  {
   "cell_type": "code",
   "execution_count": 3,
   "id": "3fb2ad3e-c1ca-4e97-acef-eb89c613ac40",
   "metadata": {},
   "outputs": [],
   "source": [
    "age = 25\n"
   ]
  },
  {
   "cell_type": "markdown",
   "id": "c492f8c5-77d9-4495-8634-a0537f6984a6",
   "metadata": {},
   "source": [
    "Floating-Point Number (float):\n",
    "\n",
    "Represents real numbers with a fractional component, typically expressed in decimal notation.\n",
    "Examples: 3.14, -0.001, 2.71828\n",
    "Floats in Python are implemented using double-precision (64-bit) according to the IEEE 754 standard."
   ]
  },
  {
   "cell_type": "code",
   "execution_count": 6,
   "id": "9b029d6b-cd18-4d5c-b5e6-8c0acd45c041",
   "metadata": {},
   "outputs": [],
   "source": [
    "price = 19.99\n"
   ]
  },
  {
   "cell_type": "markdown",
   "id": "4b12902b-4ed8-455b-9644-72a08b4ee9cd",
   "metadata": {},
   "source": [
    "Boolean (bool):\n",
    "\n",
    "Represents truth values and can be either True or False.\n",
    "Typically used in conditional statements and logical operations."
   ]
  },
  {
   "cell_type": "code",
   "execution_count": 9,
   "id": "3be89295-5ce2-41e4-98f0-eee09b21c66f",
   "metadata": {},
   "outputs": [],
   "source": [
    "is_active = True\n"
   ]
  },
  {
   "cell_type": "markdown",
   "id": "a87d7e12-f9c6-4d1c-a793-929875cbab69",
   "metadata": {},
   "source": [
    "complex\n",
    "A complex number is of the form a + bj, where a is the real part and b is the imaginary part.\n",
    "j (or i in some contexts) is the imaginary unit, which satisfies the equation j^2 = -1."
   ]
  },
  {
   "cell_type": "code",
   "execution_count": 13,
   "id": "dd271a8f-4116-4f8d-b355-101b9f3d33cf",
   "metadata": {},
   "outputs": [],
   "source": [
    "z = 3 + 4j\n"
   ]
  },
  {
   "cell_type": "markdown",
   "id": "e14f2158-21ef-40f0-8d25-7d852199c52f",
   "metadata": {},
   "source": [
    "# Int examples"
   ]
  },
  {
   "cell_type": "code",
   "execution_count": 16,
   "id": "a5bd9c82-d21e-4409-8ef4-0b44d61f52d1",
   "metadata": {},
   "outputs": [
    {
     "data": {
      "text/plain": [
       "int"
      ]
     },
     "execution_count": 16,
     "metadata": {},
     "output_type": "execute_result"
    }
   ],
   "source": [
    "a=10\n",
    "type(a)"
   ]
  },
  {
   "cell_type": "code",
   "execution_count": 20,
   "id": "35bb46b6-37fd-4c25-acee-90b1cadf3d11",
   "metadata": {},
   "outputs": [
    {
     "data": {
      "text/plain": [
       "int"
      ]
     },
     "execution_count": 20,
     "metadata": {},
     "output_type": "execute_result"
    }
   ],
   "source": [
    "tools=108\n",
    "type(tools)"
   ]
  },
  {
   "cell_type": "code",
   "execution_count": 22,
   "id": "4eda504a-6dfc-4ce4-88fa-07cae0040403",
   "metadata": {},
   "outputs": [
    {
     "data": {
      "text/plain": [
       "int"
      ]
     },
     "execution_count": 22,
     "metadata": {},
     "output_type": "execute_result"
    }
   ],
   "source": [
    "balloons=23\n",
    "type(balloons)"
   ]
  },
  {
   "cell_type": "code",
   "execution_count": 24,
   "id": "396bda30-9f2f-49b4-b363-16b8f919ddcc",
   "metadata": {},
   "outputs": [
    {
     "data": {
      "text/plain": [
       "int"
      ]
     },
     "execution_count": 24,
     "metadata": {},
     "output_type": "execute_result"
    }
   ],
   "source": [
    "strings=12\n",
    "type(strings)"
   ]
  },
  {
   "cell_type": "code",
   "execution_count": 26,
   "id": "d752d665-631b-4b44-870a-188bce287086",
   "metadata": {},
   "outputs": [
    {
     "data": {
      "text/plain": [
       "int"
      ]
     },
     "execution_count": 26,
     "metadata": {},
     "output_type": "execute_result"
    }
   ],
   "source": [
    "age=35\n",
    "type(age)"
   ]
  },
  {
   "cell_type": "code",
   "execution_count": 28,
   "id": "deedc1bf-5388-4d66-bbee-2eed6cf2297c",
   "metadata": {},
   "outputs": [
    {
     "data": {
      "text/plain": [
       "int"
      ]
     },
     "execution_count": 28,
     "metadata": {},
     "output_type": "execute_result"
    }
   ],
   "source": [
    "dogs=0\n",
    "type(dogs)"
   ]
  },
  {
   "cell_type": "code",
   "execution_count": 30,
   "id": "6b6f92f0-264a-4c90-ac09-939f9bc5e2ba",
   "metadata": {},
   "outputs": [
    {
     "ename": "SyntaxError",
     "evalue": "cannot assign to True (374491891.py, line 1)",
     "output_type": "error",
     "traceback": [
      "\u001b[1;36m  Cell \u001b[1;32mIn[30], line 1\u001b[1;36m\u001b[0m\n\u001b[1;33m    True=0\u001b[0m\n\u001b[1;37m    ^\u001b[0m\n\u001b[1;31mSyntaxError\u001b[0m\u001b[1;31m:\u001b[0m cannot assign to True\n"
     ]
    }
   ],
   "source": [
    "True=0\n",
    "type(True)"
   ]
  },
  {
   "cell_type": "code",
   "execution_count": 32,
   "id": "cf319c09-b6c0-4364-a150-c75aa355ddc7",
   "metadata": {},
   "outputs": [
    {
     "data": {
      "text/plain": [
       "int"
      ]
     },
     "execution_count": 32,
     "metadata": {},
     "output_type": "execute_result"
    }
   ],
   "source": [
    "true=2\n",
    "type(true)"
   ]
  },
  {
   "cell_type": "code",
   "execution_count": 34,
   "id": "2247568b-4ef5-41a5-aa53-9990850b6331",
   "metadata": {},
   "outputs": [
    {
     "data": {
      "text/plain": [
       "int"
      ]
     },
     "execution_count": 34,
     "metadata": {},
     "output_type": "execute_result"
    }
   ],
   "source": [
    "a=334\n",
    "type(a)"
   ]
  },
  {
   "cell_type": "code",
   "execution_count": 36,
   "id": "b5fbece5-0cc1-49c5-a26c-7f63983fe800",
   "metadata": {},
   "outputs": [
    {
     "data": {
      "text/plain": [
       "int"
      ]
     },
     "execution_count": 36,
     "metadata": {},
     "output_type": "execute_result"
    }
   ],
   "source": [
    "workers=23\n",
    "type(workers)"
   ]
  },
  {
   "cell_type": "code",
   "execution_count": 42,
   "id": "6f8ac436-733a-4e26-b7d7-279cc12a46da",
   "metadata": {},
   "outputs": [
    {
     "name": "stdout",
     "output_type": "stream",
     "text": [
      "42 -17 0 1000 -999 1 2147483647 -2147483648 123456789 -123456789\n"
     ]
    },
    {
     "data": {
      "text/plain": [
       "int"
      ]
     },
     "execution_count": 42,
     "metadata": {},
     "output_type": "execute_result"
    }
   ],
   "source": [
    "a = 42\n",
    "b = -17\n",
    "c = 0\n",
    "d = 1000\n",
    "e = -999\n",
    "f = 1\n",
    "g = 2147483647\n",
    "h = -2147483648\n",
    "i = 123456789\n",
    "j = -123456789\n",
    "print(a,b,c,d,e,f,g,h,i,j)\n",
    "type(a)\n",
    "type(b)\n",
    "type(c)\n",
    "type(d)\n",
    "type(e)\n",
    "type(f)\n",
    "type(g)\n",
    "type(h)\n",
    "type(i)\n",
    "type(j)\n"
   ]
  },
  {
   "cell_type": "markdown",
   "id": "d53abe3e-5be2-45e6-98c9-a53d8eec8ebe",
   "metadata": {},
   "source": [
    "float"
   ]
  },
  {
   "cell_type": "code",
   "execution_count": 45,
   "id": "448e56cc-bde5-4f54-abfc-054865f82d86",
   "metadata": {},
   "outputs": [
    {
     "name": "stdout",
     "output_type": "stream",
     "text": [
      "3.14 -0.001 2.71828 0.0 1.0 100.5 -99.99 1.23456789 123456.789 -1e-07\n"
     ]
    }
   ],
   "source": [
    "a = 3.14\n",
    "b = -0.001\n",
    "c = 2.71828\n",
    "d = 0.0\n",
    "e = 1.0\n",
    "f = 100.5\n",
    "g = -99.99\n",
    "h = 1.23456789\n",
    "i = 123456.789\n",
    "j = -0.0000001\n",
    "print(a,b,c,d,e,f,g,h,i,j)\n"
   ]
  },
  {
   "cell_type": "markdown",
   "id": "fe332273-ddd9-4cef-bea1-afcbf9b7c0f4",
   "metadata": {},
   "source": [
    "bool"
   ]
  },
  {
   "cell_type": "code",
   "execution_count": 48,
   "id": "f8b13ec9-8846-4974-abaa-e3f2f3e29fea",
   "metadata": {},
   "outputs": [
    {
     "name": "stdout",
     "output_type": "stream",
     "text": [
      "True False True False True False True False True False\n"
     ]
    }
   ],
   "source": [
    "a = True\n",
    "b = False\n",
    "c = True\n",
    "d = False\n",
    "e = True\n",
    "f = False\n",
    "g = True\n",
    "h = False\n",
    "i = True\n",
    "j = False\n",
    "print(a,b,c,d,e,f,g,h,i,j)"
   ]
  },
  {
   "cell_type": "markdown",
   "id": "60fafc64-43a4-44e5-a3d6-58d964317aa5",
   "metadata": {},
   "source": [
    "complex"
   ]
  },
  {
   "cell_type": "code",
   "execution_count": 51,
   "id": "329e0bfd-6368-4b36-a135-98f7fdd23d3c",
   "metadata": {},
   "outputs": [
    {
     "name": "stdout",
     "output_type": "stream",
     "text": [
      "(1+2j) (-3-4j) (5+0j) -7j (2+3j) (-1-1j) 5j (4-2j) (7+6j) (-8-9j)\n"
     ]
    }
   ],
   "source": [
    "a = 1 + 2j\n",
    "b = -3 - 4j\n",
    "c = 5 + 0j\n",
    "d = 0 - 7j\n",
    "e = 2 + 3j\n",
    "f = -1 - 1j\n",
    "g = 0 + 5j\n",
    "h = 4 - 2j\n",
    "i = 7 + 6j\n",
    "j = -8 - 9j\n",
    "print(a,b,c,d,e,f,g,h,i,j)"
   ]
  },
  {
   "cell_type": "code",
   "execution_count": null,
   "id": "25656b8d-5e1d-44ad-9ace-fa8db272c11a",
   "metadata": {},
   "outputs": [],
   "source": []
  }
 ],
 "metadata": {
  "kernelspec": {
   "display_name": "Python 3 (ipykernel)",
   "language": "python",
   "name": "python3"
  },
  "language_info": {
   "codemirror_mode": {
    "name": "ipython",
    "version": 3
   },
   "file_extension": ".py",
   "mimetype": "text/x-python",
   "name": "python",
   "nbconvert_exporter": "python",
   "pygments_lexer": "ipython3",
   "version": "3.12.4"
  }
 },
 "nbformat": 4,
 "nbformat_minor": 5
}
