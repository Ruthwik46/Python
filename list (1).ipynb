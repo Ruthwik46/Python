{
 "cells": [
  {
   "cell_type": "markdown",
   "id": "26e22f3f-0b9e-4bf0-9744-63a39cd40b2f",
   "metadata": {},
   "source": [
    "# Explain about list"
   ]
  },
  {
   "cell_type": "markdown",
   "id": "5f4a13a0-41ba-4360-a15f-144a40f553eb",
   "metadata": {},
   "source": [
    "A list in Python is an ordered collection of elements. It's a versatile data structure that can hold items of various data types, including numbers, strings, other lists, and even custom objects.\n",
    "\n",
    "**Key characteristics of lists:**:\n",
    "\n",
    "**Ordered**: Elements in a list are stored in a specific order, and their position (index) can be used to access them.\n",
    "\n",
    "**Changeable**: You can modify, add, or remove elements from a list after it's created.\n",
    "\n",
    "**Changeable**: You can modify, add, or remove elements from a list after it's created.\n",
    "\n",
    "**Dynamic**: The size of a list can change dynamically as you add or remove elements.\n"
   ]
  },
  {
   "cell_type": "markdown",
   "id": "51d04937-6331-4787-ae2b-74fef6dbc089",
   "metadata": {},
   "source": [
    "# Indexing:\n"
   ]
  },
  {
   "cell_type": "markdown",
   "id": "684d7e1a-d882-442e-9873-081686ffe4f0",
   "metadata": {},
   "source": [
    "**Elements in a list are accessed using their index, which starts from 0.**\n",
    "\n",
    "**You can use positive indices to access elements from the beginning and negative indices to access elements from the end.**"
   ]
  },
  {
   "cell_type": "markdown",
   "id": "67fc89b0-8c0d-4a12-9fe7-919c27c2da40",
   "metadata": {},
   "source": [
    "# Slicing:"
   ]
  },
  {
   "cell_type": "markdown",
   "id": "b2b3c45d-740e-4f11-bd31-d594351dcef0",
   "metadata": {},
   "source": [
    "You can extract a subset of elements from a list using slicing."
   ]
  },
  {
   "cell_type": "markdown",
   "id": "d9241c4e-3f95-45db-97f9-d15588492aa5",
   "metadata": {},
   "source": [
    "# Common operations:"
   ]
  },
  {
   "cell_type": "markdown",
   "id": "92b8ff75-8f48-4f9a-908a-6c47b4b7c297",
   "metadata": {},
   "source": [
    "**Adding elements**\n",
    "\n",
    "**Removing elements**\n",
    "\n",
    "**Modifying elements**\n",
    "\n",
    "**Other operations (e.g., length, sorting, reversing)**"
   ]
  },
  {
   "cell_type": "code",
   "execution_count": 21,
   "id": "4dfaa20b-617e-46f8-aeeb-b314ba21c606",
   "metadata": {},
   "outputs": [
    {
     "name": "stdout",
     "output_type": "stream",
     "text": [
      "[1, 2, 3, 4, 5]\n"
     ]
    }
   ],
   "source": [
    "numbers=[1,2,3,4,5]\n",
    "print(numbers)"
   ]
  },
  {
   "cell_type": "code",
   "execution_count": 23,
   "id": "1b903a46-efcc-4dea-9c18-4cf813ff3318",
   "metadata": {},
   "outputs": [
    {
     "name": "stdout",
     "output_type": "stream",
     "text": [
      "['apple', 'banana', 'orange', 'grape']\n"
     ]
    }
   ],
   "source": [
    "fruits = [\"apple\", \"banana\", \"orange\", \"grape\"]\n",
    "print(fruits)"
   ]
  },
  {
   "cell_type": "code",
   "execution_count": 25,
   "id": "a7fc580d-ccdb-42d2-ae12-b6de5ac82b40",
   "metadata": {},
   "outputs": [
    {
     "name": "stdout",
     "output_type": "stream",
     "text": [
      "[True, False, True, False]\n"
     ]
    }
   ],
   "source": [
    "boolean_values = [True, False, True, False]\n",
    "print(boolean_values)"
   ]
  },
  {
   "cell_type": "code",
   "execution_count": 27,
   "id": "f58f2283-f734-4433-ba8f-8cb128ecb84c",
   "metadata": {},
   "outputs": [
    {
     "name": "stdout",
     "output_type": "stream",
     "text": [
      "[10, 'hello', [1, 2, 3], True]\n"
     ]
    }
   ],
   "source": [
    "mixed_list = [10, \"hello\", [1, 2, 3], True]\n",
    "print(mixed_list)"
   ]
  },
  {
   "cell_type": "code",
   "execution_count": 29,
   "id": "55d9ca76-ee79-401c-86bb-5e86fe2093c6",
   "metadata": {},
   "outputs": [
    {
     "name": "stdout",
     "output_type": "stream",
     "text": [
      "[[1, 2, 3], [4, 5, 6], [7, 8, 9]]\n"
     ]
    }
   ],
   "source": [
    "nested_lists = [[1, 2, 3], [4, 5, 6], [7, 8, 9]]\n",
    "print(nested_lists)"
   ]
  },
  {
   "cell_type": "code",
   "execution_count": 33,
   "id": "e65986fc-fa2f-4ac3-ad1d-1ca53a71ef54",
   "metadata": {},
   "outputs": [
    {
     "name": "stdout",
     "output_type": "stream",
     "text": [
      "['apple', 'banana', 'orange'] [1, 2, 3, 4, 5]\n",
      "['apple', 'banana', 'orange']\n",
      "[1, 2, 3, 4, 5]\n"
     ]
    }
   ],
   "source": [
    "fruits = [\"apple\", \"banana\", \"orange\"]\n",
    "numbers = [1, 2, 3, 4, 5]\n",
    "print(fruits,numbers)\n",
    "print(fruits)\n",
    "print(numbers)"
   ]
  },
  {
   "cell_type": "code",
   "execution_count": 35,
   "id": "e02d69cc-093d-4675-b171-3172eb67b244",
   "metadata": {},
   "outputs": [
    {
     "name": "stdout",
     "output_type": "stream",
     "text": [
      "[10, 'hello', [1, 2, 3], True]\n"
     ]
    }
   ],
   "source": [
    "my_list = [10, \"hello\", [1, 2, 3], True]\n",
    "print(my_list)"
   ]
  },
  {
   "cell_type": "code",
   "execution_count": 37,
   "id": "8086b8e6-bcb3-408e-a624-acf58cf803da",
   "metadata": {},
   "outputs": [
    {
     "name": "stdout",
     "output_type": "stream",
     "text": [
      "[True, False, True, False]\n"
     ]
    }
   ],
   "source": [
    "boolean_values = [True, False, True, False]\n",
    "print(boolean_values)"
   ]
  },
  {
   "cell_type": "code",
   "execution_count": 39,
   "id": "5efddea1-0b8a-420b-8c84-d99c8c427aa6",
   "metadata": {},
   "outputs": [
    {
     "name": "stdout",
     "output_type": "stream",
     "text": [
      "[10, 'hello', [1, 2, 3], True]\n"
     ]
    }
   ],
   "source": [
    "mixed_list = [10, \"hello\", [1, 2, 3], True]\n",
    "print(mixed_list)"
   ]
  },
  {
   "cell_type": "code",
   "execution_count": 41,
   "id": "2ae2129a-4367-4011-b1c8-f0b49bd3cc81",
   "metadata": {},
   "outputs": [
    {
     "name": "stdout",
     "output_type": "stream",
     "text": [
      "['milk', 'eggs', 'bread', 'cheese', 'apples']\n"
     ]
    }
   ],
   "source": [
    "shopping_list = [\"milk\", \"eggs\", \"bread\", \"cheese\", \"apples\"]\n",
    "print(shopping_list)"
   ]
  },
  {
   "cell_type": "markdown",
   "id": "87144400-c513-4087-b468-c8223928bbf7",
   "metadata": {},
   "source": [
    "# Create 1 to 20 elements.10 elements positive,10 negative."
   ]
  },
  {
   "cell_type": "code",
   "execution_count": 46,
   "id": "38a7ffb6-6f70-495a-8371-4e8987a30c41",
   "metadata": {},
   "outputs": [
    {
     "name": "stdout",
     "output_type": "stream",
     "text": [
      "1\n",
      "2\n",
      "5\n",
      "4\n",
      "3\n",
      "6\n",
      "7\n",
      "8\n",
      "9\n",
      "10\n"
     ]
    }
   ],
   "source": [
    "numbers=[1,2,3,4,5,6,7,8,9,10,11,12,13,14,15,16,17,18,19,20]\n",
    "print(numbers[0])\n",
    "print(numbers[1])\n",
    "print(numbers[4])\n",
    "print(numbers[3])\n",
    "print(numbers[2])\n",
    "print(numbers[5])\n",
    "print(numbers[6])\n",
    "print(numbers[7])\n",
    "print(numbers[8])\n",
    "print(numbers[9])\n",
    "\n"
   ]
  },
  {
   "cell_type": "code",
   "execution_count": 50,
   "id": "71da7ddf-8568-42df-b55b-a703ae5ca16f",
   "metadata": {},
   "outputs": [
    {
     "name": "stdout",
     "output_type": "stream",
     "text": [
      "20\n",
      "19\n",
      "18\n",
      "17\n",
      "16\n",
      "15\n",
      "14\n",
      "13\n",
      "12\n",
      "11\n"
     ]
    }
   ],
   "source": [
    "numbers=[1,2,3,4,5,6,7,8,9,10,11,12,13,14,15,16,17,18,19,20]\n",
    "print(numbers[-1])\n",
    "print(numbers[-2])\n",
    "print(numbers[-3])\n",
    "print(numbers[-4])\n",
    "print(numbers[-5])\n",
    "print(numbers[-6])\n",
    "print(numbers[-7])\n",
    "print(numbers[-8])\n",
    "print(numbers[-9])\n",
    "print(numbers[-10])\n"
   ]
  },
  {
   "cell_type": "markdown",
   "id": "b6f8eb6c-6ad6-4413-80d8-10e7d311d669",
   "metadata": {},
   "source": [
    "# Concatenation:"
   ]
  },
  {
   "cell_type": "markdown",
   "id": "6e157c6c-31d7-4dff-88a8-6faf4d49f327",
   "metadata": {},
   "source": [
    "**Purpose**: Combines two or more lists into a single list.\n",
    "    \n",
    "**Operator**: The + operator is used for concatenation."
   ]
  },
  {
   "cell_type": "code",
   "execution_count": 62,
   "id": "0116d374-971b-449b-bf69-be071d3a289b",
   "metadata": {},
   "outputs": [
    {
     "name": "stdout",
     "output_type": "stream",
     "text": [
      "[1, 2, 3, 4, 5, 6]\n"
     ]
    }
   ],
   "source": [
    "a = [1, 2, 3]\n",
    "b = [4, 5, 6]\n",
    "c=print(a+b)"
   ]
  },
  {
   "cell_type": "code",
   "execution_count": 64,
   "id": "f65d01fb-d25c-448b-952a-b279e3de0530",
   "metadata": {},
   "outputs": [
    {
     "name": "stdout",
     "output_type": "stream",
     "text": [
      "['bhanu', 3.14, True, 1, 2, 3, 4, 5]\n"
     ]
    }
   ],
   "source": [
    "mixed=[\"bhanu\",3.14,True]\n",
    "numbers=[1,2,3,4,5]\n",
    "c=print(mixed+numbers)"
   ]
  },
  {
   "cell_type": "code",
   "execution_count": 66,
   "id": "862e9117-772d-43f0-b94f-a1a9ecb16c73",
   "metadata": {},
   "outputs": [
    {
     "name": "stdout",
     "output_type": "stream",
     "text": [
      "['a', 'b', 'c', 'd', 'e', 1, 2, 3, 4, 5, 6]\n"
     ]
    }
   ],
   "source": [
    "letters=['a','b','c','d','e']\n",
    "numbers=[1,2,3,4,5,6]\n",
    "R=print(letters+numbers)"
   ]
  },
  {
   "cell_type": "code",
   "execution_count": 68,
   "id": "356cacaa-582d-48dd-968f-5473cf4bc7ce",
   "metadata": {},
   "outputs": [
    {
     "name": "stdout",
     "output_type": "stream",
     "text": [
      "['apple', 'banana', 'orange', 'grape', 1, 2, 3, 4, 5]\n"
     ]
    }
   ],
   "source": [
    "fruits = [\"apple\", \"banana\", \"orange\", \"grape\"]\n",
    "numbers = [1, 2, 3, 4, 5]\n",
    "y=print(fruits+numbers)"
   ]
  },
  {
   "cell_type": "code",
   "execution_count": 72,
   "id": "6f1de1a4-eadd-43e6-83ae-7724f16a273e",
   "metadata": {},
   "outputs": [
    {
     "name": "stdout",
     "output_type": "stream",
     "text": [
      "['hello', 10, True, [1, 2, 3], 1, 2, 3, 45, 65]\n"
     ]
    }
   ],
   "source": [
    "mixed_list = [\"hello\", 10, True, [1, 2, 3]]\n",
    "numbers=[1,2,3,45,65]\n",
    "print(mixed_list+numbers)"
   ]
  },
  {
   "cell_type": "code",
   "execution_count": 74,
   "id": "11151dcc-bc68-4d26-92f0-20fbf44a994d",
   "metadata": {},
   "outputs": [
    {
     "name": "stdout",
     "output_type": "stream",
     "text": [
      "[1, 2, 3, 4, 5, 'apple', 'banana', 'cherry']\n"
     ]
    }
   ],
   "source": [
    "numbers = [1, 2, 3, 4, 5]\n",
    "fruits = [\"apple\", \"banana\", \"cherry\"]\n",
    "print(numbers+fruits)"
   ]
  },
  {
   "cell_type": "code",
   "execution_count": 76,
   "id": "5fc66f27-9a43-4ab7-a386-cb9affa55aa3",
   "metadata": {},
   "outputs": [
    {
     "name": "stdout",
     "output_type": "stream",
     "text": [
      "[1, 'hello', 3.14, True, 1, 2, 3, 4, 5]\n"
     ]
    }
   ],
   "source": [
    "mixed = [1, \"hello\", 3.14, True]\n",
    "numbers = [1, 2, 3, 4, 5]\n",
    "print(mixed+numbers)"
   ]
  },
  {
   "cell_type": "code",
   "execution_count": 86,
   "id": "13f520cf-8f93-4b9f-bca9-f715ff4c18fc",
   "metadata": {},
   "outputs": [
    {
     "name": "stdout",
     "output_type": "stream",
     "text": [
      "[1, 'hello', 3.14, True, 1, 2, 3, 4, 5]\n"
     ]
    }
   ],
   "source": [
    "mixed = [1, \"hello\", 3.14, True]\n",
    "numbers = [1, 2, 3, 4, 5]\n",
    "print(mixed+numbers)"
   ]
  },
  {
   "cell_type": "code",
   "execution_count": 92,
   "id": "ef7cef26-3122-482b-adfb-ac66dca1caf6",
   "metadata": {},
   "outputs": [
    {
     "name": "stdout",
     "output_type": "stream",
     "text": [
      "[1, 4, 6, 7, 'h', 'd', 'e', 'g', 'h']\n"
     ]
    }
   ],
   "source": [
    "a=[1,4,6,7]\n",
    "b=[\"h\",\"d\",\"e\",\"g\",\"h\"]\n",
    "c=print(a+b)"
   ]
  },
  {
   "cell_type": "code",
   "execution_count": 94,
   "id": "5546d39c-7923-43e7-95a5-a06f014a53e6",
   "metadata": {},
   "outputs": [
    {
     "name": "stdout",
     "output_type": "stream",
     "text": [
      "[1, 23, 4554, 323, 43, 1, 2, 3, 4, 5]\n"
     ]
    }
   ],
   "source": [
    "a=[1,23,4554,323,43]\n",
    "n=[1,2,3,4,5]\n",
    "c=print(a+n)"
   ]
  },
  {
   "cell_type": "markdown",
   "id": "41a43ade-a481-435c-b2c2-cf87296252c5",
   "metadata": {},
   "source": [
    "# repetition"
   ]
  },
  {
   "cell_type": "markdown",
   "id": "86ada297-7a6a-4c9b-aa1b-91e3def72671",
   "metadata": {},
   "source": [
    "Repetition in Python refers to the process of repeating a specific block of code multiple times. This is often achieved using loops."
   ]
  },
  {
   "cell_type": "code",
   "execution_count": 100,
   "id": "5b868fbe-80b7-43b1-a759-d921b5345e11",
   "metadata": {},
   "outputs": [
    {
     "name": "stdout",
     "output_type": "stream",
     "text": [
      "[1, 23, 4554, 323, 43, 1, 23, 4554, 323, 43, 1, 23, 4554, 323, 43, 1, 23, 4554, 323, 43]\n"
     ]
    }
   ],
   "source": [
    "a=[1,23,4554,323,43]\n",
    "c=print(a*4)"
   ]
  },
  {
   "cell_type": "code",
   "execution_count": 102,
   "id": "7e7baa01-928e-4083-b7b0-ad354feb4edb",
   "metadata": {},
   "outputs": [
    {
     "name": "stdout",
     "output_type": "stream",
     "text": [
      "['h', 'd', 'e', 'g', 'h', 'h', 'd', 'e', 'g', 'h', 'h', 'd', 'e', 'g', 'h']\n"
     ]
    }
   ],
   "source": [
    "b=[\"h\",\"d\",\"e\",\"g\",\"h\"]\n",
    "a=print(b*3)"
   ]
  },
  {
   "cell_type": "code",
   "execution_count": 104,
   "id": "2b150cc3-910b-449c-9690-55dbb76e3bd2",
   "metadata": {},
   "outputs": [
    {
     "name": "stdout",
     "output_type": "stream",
     "text": [
      "[1, 2, 3, 4, 5, 1, 2, 3, 4, 5, 1, 2, 3, 4, 5]\n"
     ]
    }
   ],
   "source": [
    "n=[1,2,3,4,5]\n",
    "q=print(n*3)"
   ]
  },
  {
   "cell_type": "code",
   "execution_count": 106,
   "id": "a09c1408-db3d-4a5d-917d-41a46e5295d6",
   "metadata": {},
   "outputs": [
    {
     "name": "stdout",
     "output_type": "stream",
     "text": [
      "[1, 'hello', 3.14, True, 1, 'hello', 3.14, True]\n"
     ]
    }
   ],
   "source": [
    "mixed = [1, \"hello\", 3.14, True]\n",
    "a=print(mixed*2)"
   ]
  },
  {
   "cell_type": "code",
   "execution_count": 108,
   "id": "0317713e-a95f-48a3-a99a-ca0cb3257ee2",
   "metadata": {},
   "outputs": [
    {
     "name": "stdout",
     "output_type": "stream",
     "text": [
      "[1, 4, 6, 7, 1, 4, 6, 7, 1, 4, 6, 7, 1, 4, 6, 7, 1, 4, 6, 7]\n"
     ]
    }
   ],
   "source": [
    "a=[1,4,6,7]\n",
    "s=print(a*5)"
   ]
  },
  {
   "cell_type": "code",
   "execution_count": 110,
   "id": "c0ca68a7-9832-43e9-b9ce-2c1e2b387d15",
   "metadata": {},
   "outputs": [
    {
     "name": "stdout",
     "output_type": "stream",
     "text": [
      "['apple', 'banana', 'cherry', 'apple', 'banana', 'cherry', 'apple', 'banana', 'cherry', 'apple', 'banana', 'cherry', 'apple', 'banana', 'cherry']\n"
     ]
    }
   ],
   "source": [
    "fruits = [\"apple\", \"banana\", \"cherry\"]\n",
    "s=print(fruits*5)"
   ]
  },
  {
   "cell_type": "code",
   "execution_count": 112,
   "id": "3dc2090c-cb28-4e59-b51c-eb1d736a37de",
   "metadata": {},
   "outputs": [
    {
     "name": "stdout",
     "output_type": "stream",
     "text": [
      "['a', 'b', 'c', 'd', 'e', 'a', 'b', 'c', 'd', 'e', 'a', 'b', 'c', 'd', 'e', 'a', 'b', 'c', 'd', 'e', 'a', 'b', 'c', 'd', 'e']\n"
     ]
    }
   ],
   "source": [
    "letters=['a','b','c','d','e']\n",
    "a=print(letters*5)"
   ]
  },
  {
   "cell_type": "code",
   "execution_count": 114,
   "id": "2193b1c7-8b38-460f-b11f-0eabb21bdbea",
   "metadata": {},
   "outputs": [
    {
     "name": "stdout",
     "output_type": "stream",
     "text": [
      "['bhanu', 3.14, True, 'bhanu', 3.14, True, 'bhanu', 3.14, True, 'bhanu', 3.14, True]\n"
     ]
    }
   ],
   "source": [
    "mixed=[\"bhanu\",3.14,True]\n",
    "a=print(mixed*4)"
   ]
  },
  {
   "cell_type": "code",
   "execution_count": 116,
   "id": "d993ae28-9d9d-489c-85dc-13e0e5c9bfc7",
   "metadata": {},
   "outputs": [
    {
     "name": "stdout",
     "output_type": "stream",
     "text": [
      "['hello', 10, True, [1, 2, 3], 'hello', 10, True, [1, 2, 3], 'hello', 10, True, [1, 2, 3]]\n"
     ]
    }
   ],
   "source": [
    "mixed_list = [\"hello\", 10, True, [1, 2, 3]]\n",
    "a=print(mixed_list*3)"
   ]
  },
  {
   "cell_type": "code",
   "execution_count": 118,
   "id": "db7682b3-7d60-4479-a30a-4057b41118c3",
   "metadata": {},
   "outputs": [
    {
     "name": "stdout",
     "output_type": "stream",
     "text": [
      "['apple', 'banana', 'orange', 'grape', 'apple', 'banana', 'orange', 'grape', 'apple', 'banana', 'orange', 'grape']\n"
     ]
    }
   ],
   "source": [
    "fruits = [\"apple\", \"banana\", \"orange\", \"grape\"]\n",
    "q=print(fruits*3)"
   ]
  },
  {
   "cell_type": "markdown",
   "id": "e9b6aadd-78c6-4680-8513-80478ced74d7",
   "metadata": {},
   "source": [
    "# slicing examples"
   ]
  },
  {
   "cell_type": "code",
   "execution_count": 5,
   "id": "c647b54a-e3c6-499e-9c29-5b085eb584c8",
   "metadata": {},
   "outputs": [
    {
     "name": "stdout",
     "output_type": "stream",
     "text": [
      "[2, 3, 4, 5]\n"
     ]
    }
   ],
   "source": [
    "a=[1,2,3,4,5,6,7,8,9,10,11,12,13,14,15,16,17,18,19,20]\n",
    "b=a[1:5]\n",
    "c=a[0:]\n",
    "d=a[9:14]\n",
    "e=a[:19]\n",
    "f=a[-4:-14]\n",
    "g=a[-1:-20]\n",
    "h=a[-3:]\n",
    "i=a[0:20]\n",
    "j=a[10:20]\n",
    "k=a[1:1]\n",
    "print(b)\n",
    "print(c)\n",
    "print(d)\n",
    "print(e)\n",
    "print(f)\n",
    "print(g)\n",
    "print(h)\n",
    "print(i)\n",
    "p\n"
   ]
  },
  {
   "cell_type": "code",
   "execution_count": null,
   "id": "25e03d2c-1efa-479d-a789-98a30f2eb00d",
   "metadata": {},
   "outputs": [],
   "source": []
  },
  {
   "cell_type": "code",
   "execution_count": null,
   "id": "c25d947b-5095-436e-aff3-dfc823b6ea0b",
   "metadata": {},
   "outputs": [],
   "source": []
  }
 ],
 "metadata": {
  "kernelspec": {
   "display_name": "Python 3 (ipykernel)",
   "language": "python",
   "name": "python3"
  },
  "language_info": {
   "codemirror_mode": {
    "name": "ipython",
    "version": 3
   },
   "file_extension": ".py",
   "mimetype": "text/x-python",
   "name": "python",
   "nbconvert_exporter": "python",
   "pygments_lexer": "ipython3",
   "version": "3.12.4"
  }
 },
 "nbformat": 4,
 "nbformat_minor": 5
}
