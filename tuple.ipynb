{
 "cells": [
  {
   "cell_type": "markdown",
   "id": "1c3817c7-eb95-4889-bb95-0b45ed7ff92c",
   "metadata": {},
   "source": [
    "# Tuple"
   ]
  },
  {
   "cell_type": "markdown",
   "id": "a41ae830-8f17-4e09-a828-4cef6cdec387",
   "metadata": {},
   "source": [
    "Tuples in Python are immutable sequences of elements. Unlike lists, which can be modified after creation, tuples are fixed and cannot be changed once defined."
   ]
  },
  {
   "cell_type": "markdown",
   "id": "6f573268-a0be-4547-9a33-39e4f88cf2b9",
   "metadata": {},
   "source": [
    "**Immutable**: Elements cannot be added, removed, or modified after creation.\n",
    "\n",
    "**Ordered**: Elements maintain their order and can be accessed by index.\n",
    "\n",
    "**Heterogeneous**: They can contain elements of different data types.\n",
    "\n",
    "**Created using parentheses**: Tuples are typically defined using parentheses ()."
   ]
  },
  {
   "cell_type": "markdown",
   "id": "48b358e5-dbf4-40ab-b6be-74e84a1e970e",
   "metadata": {},
   "source": [
    "# Concatenation:\n",
    "Combine two or more tuples using the + operator."
   ]
  },
  {
   "cell_type": "code",
   "execution_count": 4,
   "id": "9e13bda9-57fa-41ab-816c-4c7ebe9315d2",
   "metadata": {},
   "outputs": [
    {
     "name": "stdout",
     "output_type": "stream",
     "text": [
      "(1, 2, 3, 4, 5, 6)\n"
     ]
    }
   ],
   "source": [
    "tuple1 = (1, 2, 3)\n",
    "tuple2 = (4, 5, 6)\n",
    "result = tuple1 + tuple2\n",
    "print(result)  \n"
   ]
  },
  {
   "cell_type": "code",
   "execution_count": 6,
   "id": "4406dcb5-34c5-4241-9d75-993f594de5c8",
   "metadata": {},
   "outputs": [
    {
     "name": "stdout",
     "output_type": "stream",
     "text": [
      "(1, 2, 3, 4, 5, 6)\n"
     ]
    }
   ],
   "source": [
    "tuple1 = (1, 2)\n",
    "tuple2 = (3, 4)\n",
    "tuple3 = (5, 6)\n",
    "result = tuple1 + tuple2 + tuple3\n",
    "print(result)  \n"
   ]
  },
  {
   "cell_type": "markdown",
   "id": "e98ee60c-db53-4123-990f-a09de82759ce",
   "metadata": {},
   "source": [
    "#  Repetitions"
   ]
  },
  {
   "cell_type": "markdown",
   "id": "3666af9a-aad3-42ae-a8ad-62b9c7d5af4a",
   "metadata": {},
   "source": [
    "Repeat a tuple using the * operator."
   ]
  },
  {
   "cell_type": "code",
   "execution_count": 11,
   "id": "e8c98073-a5d4-4341-be51-35b32b1d1680",
   "metadata": {},
   "outputs": [
    {
     "name": "stdout",
     "output_type": "stream",
     "text": [
      "(1, 2, 3, 1, 2, 3, 1, 2, 3)\n"
     ]
    }
   ],
   "source": [
    "tuple1 = (1, 2, 3)\n",
    "print(tuple1*3)\n"
   ]
  },
  {
   "cell_type": "code",
   "execution_count": 13,
   "id": "c321f0b2-8f17-40a2-aa2c-7d88ba2c88f5",
   "metadata": {},
   "outputs": [
    {
     "name": "stdout",
     "output_type": "stream",
     "text": [
      "('apple', 'banana', 'kiwi', 'apple', 'banana', 'kiwi', 'apple', 'banana', 'kiwi', 'apple', 'banana', 'kiwi', 'apple', 'banana', 'kiwi', 'apple', 'banana', 'kiwi')\n"
     ]
    }
   ],
   "source": [
    "tuple2=('apple','banana','kiwi')\n",
    "print(tuple2*6)"
   ]
  },
  {
   "cell_type": "markdown",
   "id": "539b53e7-f651-4777-a0b3-4f0daf0c55e3",
   "metadata": {},
   "source": [
    "# count()\n"
   ]
  },
  {
   "cell_type": "markdown",
   "id": "c984fa1b-15fc-4add-9a33-022414d60cb9",
   "metadata": {},
   "source": [
    "The count() method returns the number of occurrences of a specified element in the tuple."
   ]
  },
  {
   "cell_type": "code",
   "execution_count": 19,
   "id": "340e1c53-d279-43b0-936f-5914fb737ba0",
   "metadata": {},
   "outputs": [
    {
     "name": "stdout",
     "output_type": "stream",
     "text": [
      "3\n"
     ]
    }
   ],
   "source": [
    "numbers= (1, 2, 3, 1, 1, 4, 5)\n",
    "count=numbers.count(1)\n",
    "print(count)"
   ]
  },
  {
   "cell_type": "code",
   "execution_count": 21,
   "id": "7a431c0d-eabf-4e53-9f08-9241840e4997",
   "metadata": {},
   "outputs": [
    {
     "name": "stdout",
     "output_type": "stream",
     "text": [
      "2\n"
     ]
    }
   ],
   "source": [
    "my_list = ('apple', 'banana', 'cherry','banana','apple')\n",
    "count=my_list.count('banana')\n",
    "print(count)"
   ]
  },
  {
   "cell_type": "markdown",
   "id": "13b9c572-ede7-49d4-93a2-dd6b20e4a92f",
   "metadata": {},
   "source": [
    "# index()"
   ]
  },
  {
   "cell_type": "code",
   "execution_count": null,
   "id": "27d87103-2ffc-472d-81be-1413169b1ca1",
   "metadata": {},
   "outputs": [],
   "source": []
  }
 ],
 "metadata": {
  "kernelspec": {
   "display_name": "Python 3 (ipykernel)",
   "language": "python",
   "name": "python3"
  },
  "language_info": {
   "codemirror_mode": {
    "name": "ipython",
    "version": 3
   },
   "file_extension": ".py",
   "mimetype": "text/x-python",
   "name": "python",
   "nbconvert_exporter": "python",
   "pygments_lexer": "ipython3",
   "version": "3.12.4"
  }
 },
 "nbformat": 4,
 "nbformat_minor": 5
}
