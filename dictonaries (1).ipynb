{
 "cells": [
  {
   "cell_type": "markdown",
   "id": "9938ac8b-5b97-4a9f-b308-8e3c6bedf412",
   "metadata": {},
   "source": [
    "# define dictionary"
   ]
  },
  {
   "cell_type": "markdown",
   "id": "dcb79ae9-f7e5-47f0-8af5-3239f80af78d",
   "metadata": {},
   "source": [
    "A Python dictionary is an unordered collection of key-value pairs. Each key is unique, and it maps to a corresponding value. Dictionaries are often used to store data in a structured way, where each key represents a specific attribute or property, and its corresponding value holds the associated data.   \n",
    "\n"
   ]
  },
  {
   "cell_type": "markdown",
   "id": "e229a39d-9c57-4490-b6e2-1b5fdf9f9453",
   "metadata": {},
   "source": [
    "**Unordered**: The elements in a dictionary are not stored in any particular order.\n",
    "\n",
    "**Key-Value Pairs**: Each element consists of a key and a value.\n",
    "    \n",
    "**Unique Keys**: No two keys can be the same within a dictionary.\n",
    "    \n",
    "**Mutable**: You can modify a dictionary by adding, removing, or changing key-value pairs.\n",
    "    \n",
    "**Hashing**: Dictionaries use hashing to efficiently store and retrieve elements based on their keys."
   ]
  },
  {
   "cell_type": "markdown",
   "id": "7ce35258-fcc3-491b-ad59-8c9b5dc53f3a",
   "metadata": {},
   "source": [
    "# Syntax:"
   ]
  },
  {
   "cell_type": "code",
   "execution_count": 11,
   "id": "870ae2dd-186c-42ac-a0e4-112757512f97",
   "metadata": {},
   "outputs": [
    {
     "name": "stdout",
     "output_type": "stream",
     "text": [
      "{'key1': 'value1', 'key2': 'value2'}\n"
     ]
    }
   ],
   "source": [
    "a = {'key1': 'value1', 'key2': 'value2'}\n",
    "print(a)"
   ]
  },
  {
   "cell_type": "code",
   "execution_count": 13,
   "id": "043ef59b-b02a-44ce-b512-62ba8a2021d8",
   "metadata": {},
   "outputs": [
    {
     "name": "stdout",
     "output_type": "stream",
     "text": [
      "{'name': 'ruthwik', 'age': 22, 'city': 'hyd'}\n"
     ]
    }
   ],
   "source": [
    "person = {\"name\": \"ruthwik\",\"age\": 22,\"city\": \"hyd\"}\n",
    "print(person)"
   ]
  },
  {
   "cell_type": "markdown",
   "id": "1e5b9b6f-b431-454e-89a2-c2fff18abae6",
   "metadata": {},
   "source": [
    "# Accessing Values:"
   ]
  },
  {
   "cell_type": "markdown",
   "id": "d59e1a75-f406-4d4f-a0f3-2403a1166d09",
   "metadata": {},
   "source": [
    "You can access the value associated with a key using the following syntax:"
   ]
  },
  {
   "cell_type": "code",
   "execution_count": 20,
   "id": "81240bf1-d515-4077-b78d-cc9684c6d595",
   "metadata": {},
   "outputs": [
    {
     "name": "stdout",
     "output_type": "stream",
     "text": [
      "22\n"
     ]
    }
   ],
   "source": [
    "name = person[\"age\"]  \n",
    "print(name)  "
   ]
  },
  {
   "cell_type": "markdown",
   "id": "60aad7f1-3277-45a1-9ed0-6625756ec5d9",
   "metadata": {},
   "source": [
    "# Modifying Elements:"
   ]
  },
  {
   "cell_type": "markdown",
   "id": "0ca52b81-fe0a-43a2-932d-4a0b15fb10c7",
   "metadata": {},
   "source": [
    "To modify the value associated with an existing key, simply assign a new value to it:"
   ]
  },
  {
   "cell_type": "code",
   "execution_count": 25,
   "id": "cf69c561-df5b-46af-a682-01db290dff67",
   "metadata": {},
   "outputs": [
    {
     "name": "stdout",
     "output_type": "stream",
     "text": [
      "{'name': 'ruthwik', 'age': 35}\n"
     ]
    }
   ],
   "source": [
    "my_dict = {\"name\": \"ruthwik\", \"age\": 22}\n",
    "my_dict[\"age\"] = 35\n",
    "print(my_dict)  "
   ]
  },
  {
   "cell_type": "markdown",
   "id": "563997fe-65ec-4215-aae2-88caf2e9df20",
   "metadata": {},
   "source": [
    "# Adding Elements:"
   ]
  },
  {
   "cell_type": "markdown",
   "id": "f448790a-0e4f-4ed7-ac45-3579f29bf5d1",
   "metadata": {},
   "source": [
    "To add a new key-value pair to the dictionary, use the assignment operator:"
   ]
  },
  {
   "cell_type": "code",
   "execution_count": 31,
   "id": "0d310c7d-5be3-447a-b291-316512fecc29",
   "metadata": {},
   "outputs": [
    {
     "name": "stdout",
     "output_type": "stream",
     "text": [
      "{'name': 'ruthwik', 'age': 22, 'city': 'hyd'}\n"
     ]
    }
   ],
   "source": [
    "my_dict = {\"name\": \"ruthwik\", \"age\": 22}\n",
    "my_dict[\"city\"] = \"hyd\"\n",
    "print(my_dict)  "
   ]
  },
  {
   "cell_type": "markdown",
   "id": "afc4b772-dbf8-4a71-9a5b-53f5a29f2fe6",
   "metadata": {},
   "source": [
    "# Removing Elements:"
   ]
  },
  {
   "cell_type": "markdown",
   "id": "e569681f-794e-4fba-a9ea-5e07852931f8",
   "metadata": {},
   "source": [
    "To remove a key-value pair from the dictionary, use the del keyword:"
   ]
  },
  {
   "cell_type": "code",
   "execution_count": 35,
   "id": "5cefb812-1c4a-421d-b47d-41874c8e3f13",
   "metadata": {},
   "outputs": [
    {
     "name": "stdout",
     "output_type": "stream",
     "text": [
      "{'name': 'ruthwik', 'age': 22}\n"
     ]
    }
   ],
   "source": [
    "my_dict = {\"name\": \"ruthwik\", \"age\": 22, \"city\": \"hyd\"}\n",
    "del my_dict[\"city\"]\n",
    "print(my_dict)  "
   ]
  },
  {
   "cell_type": "markdown",
   "id": "ed2731d7-eb94-4f92-80ef-0bcafe07b40e",
   "metadata": {},
   "source": [
    "# Combining Operations:"
   ]
  },
  {
   "cell_type": "markdown",
   "id": "2a9f6d58-5310-4d91-aa8f-5af3ca70f3cc",
   "metadata": {},
   "source": [
    "You can perform multiple modifications, additions, and removals in a single operation:"
   ]
  },
  {
   "cell_type": "code",
   "execution_count": 39,
   "id": "1efb270b-51b2-46cb-8719-6806b161044c",
   "metadata": {},
   "outputs": [
    {
     "name": "stdout",
     "output_type": "stream",
     "text": [
      "{'name': 'ruthwik', 'age': 35, 'country': 'India'}\n"
     ]
    }
   ],
   "source": [
    "my_dict = {\"name\": \"ruthwik\", \"age\": 22, \"city\": \"hyd\"}\n",
    "my_dict[\"age\"] = 35\n",
    "my_dict[\"country\"] = \"India\"\n",
    "del my_dict[\"city\"]\n",
    "print(my_dict)  "
   ]
  },
  {
   "cell_type": "code",
   "execution_count": null,
   "id": "42a1fafd-681c-440d-b6f9-66a1d27c854b",
   "metadata": {},
   "outputs": [],
   "source": []
  }
 ],
 "metadata": {
  "kernelspec": {
   "display_name": "Python 3 (ipykernel)",
   "language": "python",
   "name": "python3"
  },
  "language_info": {
   "codemirror_mode": {
    "name": "ipython",
    "version": 3
   },
   "file_extension": ".py",
   "mimetype": "text/x-python",
   "name": "python",
   "nbconvert_exporter": "python",
   "pygments_lexer": "ipython3",
   "version": "3.12.4"
  }
 },
 "nbformat": 4,
 "nbformat_minor": 5
}
