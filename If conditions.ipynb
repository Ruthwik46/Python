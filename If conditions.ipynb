{
 "cells": [
  {
   "cell_type": "code",
   "execution_count": 15,
   "id": "ce29a1e2-cbe7-498a-b6bf-63e67e54dc3c",
   "metadata": {},
   "outputs": [
    {
     "name": "stdin",
     "output_type": "stream",
     "text": [
      "enter the alphabet O\n"
     ]
    },
    {
     "name": "stdout",
     "output_type": "stream",
     "text": [
      "vowels\n"
     ]
    }
   ],
   "source": [
    "a=input(\"enter the alphabet\")\n",
    "if a in {'a','e','i','o','u''A','E','I','O','U'}:\n",
    "    print('vowels')\n",
    "else:\n",
    "    print('constant')\n"
   ]
  },
  {
   "cell_type": "code",
   "execution_count": 57,
   "id": "c0560c5a-4834-4d52-96b0-2ff8e9b0d0ae",
   "metadata": {},
   "outputs": [
    {
     "name": "stdin",
     "output_type": "stream",
     "text": [
      "enter the marks 28\n"
     ]
    },
    {
     "name": "stdout",
     "output_type": "stream",
     "text": [
      "fail\n"
     ]
    }
   ],
   "source": [
    "a=int(input(\"enter the marks\"))\n",
    "if a>=90:\n",
    "    print(\"o grade\")\n",
    "elif a>=80:\n",
    "    print(\"a grade\")\n",
    "elif a>=70:\n",
    "    print(\"b grade\")\n",
    "elif a>=60:\n",
    "    print(\"c grade\")\n",
    "elif a>=50:\n",
    "    print(\"d grade\")\n",
    "else:\n",
    "    print(\"fail\")\n",
    "    "
   ]
  },
  {
   "cell_type": "code",
   "execution_count": 75,
   "id": "f0c40d18-888b-40eb-bf67-f36b7e99179b",
   "metadata": {},
   "outputs": [
    {
     "name": "stdin",
     "output_type": "stream",
     "text": [
      "enter the year 2013\n"
     ]
    },
    {
     "name": "stdout",
     "output_type": "stream",
     "text": [
      "not leap year\n"
     ]
    }
   ],
   "source": [
    "a=int(input(\"enter the year\"))\n",
    "if a%4==0:\n",
    "    print(\"leap year\")\n",
    "else:\n",
    "    print(\"not leap year\")\n",
    "\n"
   ]
  },
  {
   "cell_type": "code",
   "execution_count": 81,
   "id": "24ba3042-f582-4828-ba9c-a462c6ba0a40",
   "metadata": {},
   "outputs": [
    {
     "name": "stdin",
     "output_type": "stream",
     "text": [
      "enter the number 2\n"
     ]
    },
    {
     "name": "stdout",
     "output_type": "stream",
     "text": [
      "even\n"
     ]
    }
   ],
   "source": [
    "a=int(input(\"enter the number\"))\n",
    "if a%2==0:\n",
    "    print(\"even\")\n",
    "else:\n",
    "    print(\"odd\")"
   ]
  },
  {
   "cell_type": "code",
   "execution_count": 53,
   "id": "96b1dbc4-1c53-4bd5-8ed5-b5ec780da256",
   "metadata": {},
   "outputs": [
    {
     "name": "stdin",
     "output_type": "stream",
     "text": [
      "enter the number 1\n",
      "enter the number 2\n",
      "enter the number 3\n"
     ]
    },
    {
     "name": "stdout",
     "output_type": "stream",
     "text": [
      "c is largest number 3\n"
     ]
    }
   ],
   "source": [
    "a=int(input(\"enter the number\"))\n",
    "b=int(input(\"enter the number\"))\n",
    "c=int(input(\"enter the number\"))\n",
    "if a>b and a>c:\n",
    "    print(\"a is largest number\",a)\n",
    "elif b>c and b>a:\n",
    "    print(\"b is largest number\",b)\n",
    "else:\n",
    "    print(\"c is largest number\",c)\n",
    "      "
   ]
  },
  {
   "cell_type": "code",
   "execution_count": 5,
   "id": "ed34b40c-abf7-4616-b0e8-a4e81e823862",
   "metadata": {},
   "outputs": [
    {
     "name": "stdin",
     "output_type": "stream",
     "text": [
      "enter the number 35\n"
     ]
    },
    {
     "name": "stdout",
     "output_type": "stream",
     "text": [
      "it is not divisible\n"
     ]
    }
   ],
   "source": [
    "a=int(input(\"enter the number\"))\n",
    "if a%5==0 and a%11==0:\n",
    "    print(\"it is divisible by both numbers\")\n",
    "else:\n",
    "    print(\"it is not divisible\")"
   ]
  },
  {
   "cell_type": "code",
   "execution_count": 43,
   "id": "5f8b6e23-f877-4aa4-b10e-0d2c8ffafd15",
   "metadata": {},
   "outputs": [
    {
     "name": "stdin",
     "output_type": "stream",
     "text": [
      "input character is *\n"
     ]
    },
    {
     "name": "stdout",
     "output_type": "stream",
     "text": [
      "special character\n"
     ]
    }
   ],
   "source": [
    "a=input(\"input character is\")\n",
    "if a.isalpha():\n",
    "    print(\"alphabet\")\n",
    "elif a.isdigit():\n",
    "    print(\"digit\")\n",
    "elif a in {'!','@','#','$','%','^','&','*','(',')','_','-','+','='}:\n",
    "    print(\"special character\")"
   ]
  },
  {
   "cell_type": "code",
   "execution_count": 59,
   "id": "4a2793d0-8eb9-417c-8c37-5ec57bfc31da",
   "metadata": {},
   "outputs": [
    {
     "name": "stdin",
     "output_type": "stream",
     "text": [
      "Enter a character:  @\n"
     ]
    },
    {
     "name": "stdout",
     "output_type": "stream",
     "text": [
      "Given character is a special character\n"
     ]
    }
   ],
   "source": [
    "char = input(\"Enter a character: \")\n",
    "if 'A' <= char <= 'Z' or 'a' <= char <= 'z':\n",
    "    print(\"Given character is an alphabet\")\n",
    "elif '0' <= char <= '9':\n",
    "    print(\"Given character is a digit\")\n",
    "else:\n",
    "    print(\"Given character is a special character\")"
   ]
  },
  {
   "cell_type": "code",
   "execution_count": 161,
   "id": "54a9193d-0225-4e47-899d-ca8167ee55b5",
   "metadata": {},
   "outputs": [
    {
     "name": "stdin",
     "output_type": "stream",
     "text": [
      "Give the length of first side 3\n",
      "Give the length of second side 3\n",
      "Give the length of third side 3\n"
     ]
    },
    {
     "name": "stdout",
     "output_type": "stream",
     "text": [
      "It is a triangle\n"
     ]
    }
   ],
   "source": [
    "a=int(input(\"Give the length of first side\"))\n",
    "b=int(input(\"Give the length of second side\"))\n",
    "c=int(input(\"Give the length of third side\"))\n",
    "if a+b>c and b+c>a and c+a>b:\n",
    "    print(\"It is a triangle\")\n",
    "else:\n",
    "    print(\"It is not a triangle\")"
   ]
  },
  {
   "cell_type": "code",
   "execution_count": 109,
   "id": "c06c950b-7d9f-427c-bdfc-ba7cbc01568d",
   "metadata": {},
   "outputs": [
    {
     "name": "stdin",
     "output_type": "stream",
     "text": [
      "enter the value -4\n"
     ]
    },
    {
     "data": {
      "text/plain": [
       "4"
      ]
     },
     "execution_count": 109,
     "metadata": {},
     "output_type": "execute_result"
    }
   ],
   "source": [
    "a=int(input(\"enter the value\"))\n",
    "abs(a)"
   ]
  },
  {
   "cell_type": "code",
   "execution_count": 113,
   "id": "b83977fd-3b3d-4b5a-9a02-d40e30b0d405",
   "metadata": {},
   "outputs": [
    {
     "name": "stdin",
     "output_type": "stream",
     "text": [
      "enter year 1969\n"
     ]
    },
    {
     "name": "stdout",
     "output_type": "stream",
     "text": [
      "not a century year\n"
     ]
    }
   ],
   "source": [
    "a=int(input(\"enter year\"))\n",
    "if a%100==0:\n",
    "    print(\"century year\")\n",
    "else:\n",
    "    print(\"not a century year\")"
   ]
  },
  {
   "cell_type": "code",
   "execution_count": 119,
   "id": "a81c8804-05cd-459b-b112-1324b7494121",
   "metadata": {},
   "outputs": [
    {
     "name": "stdin",
     "output_type": "stream",
     "text": [
      "enter weight of the person 75\n",
      "enter height of the person 3.4\n"
     ]
    },
    {
     "name": "stdout",
     "output_type": "stream",
     "text": [
      "person is healthy\n"
     ]
    }
   ],
   "source": [
    "w=float(input(\"enter weight of the person\"))\n",
    "h=float(input(\"enter height of the person\"))\n",
    "BMI=w/h\n",
    "if BMI<18.5:\n",
    "    print(\"person is underweight\")\n",
    "elif 18.5<=BMI<=24.9:\n",
    "    print(\"person is healthy\")\n",
    "elif 25<=BMI<=29.9:\n",
    "    print(\"person if overweight\")\n",
    "else:\n",
    "    print(\"person is obese\")"
   ]
  },
  {
   "cell_type": "code",
   "execution_count": 129,
   "id": "bc4c17bb-07e1-4a8b-a646-4dc29b9eff15",
   "metadata": {},
   "outputs": [
    {
     "name": "stdin",
     "output_type": "stream",
     "text": [
      "enter a character AB\n"
     ]
    },
    {
     "name": "stdout",
     "output_type": "stream",
     "text": [
      "given character is in uppercase\n"
     ]
    }
   ],
   "source": [
    "a=input(\"enter a character\")\n",
    "if a.isupper():\n",
    "    print(\"given character is in uppercase\")\n",
    "elif a.islower():\n",
    "    print(\"given character is in lowercase\")"
   ]
  },
  {
   "cell_type": "code",
   "execution_count": 135,
   "id": "fc4cd7a9-5901-49f5-be05-8e4404866be4",
   "metadata": {},
   "outputs": [
    {
     "name": "stdin",
     "output_type": "stream",
     "text": [
      "enter a value 56\n"
     ]
    },
    {
     "name": "stdout",
     "output_type": "stream",
     "text": [
      "given number is large\n"
     ]
    }
   ],
   "source": [
    "small=30\n",
    "medium=50\n",
    "large=69\n",
    "a=int(input(\"enter a value\"))\n",
    "if a<=small:\n",
    "    print(\"given number is small\")\n",
    "elif small<a<=medium:\n",
    "    print(\"given number is medium\")\n",
    "elif medium<a<=large:\n",
    "    print(\"given number is large\")"
   ]
  },
  {
   "cell_type": "code",
   "execution_count": 145,
   "id": "af1977dc-243d-439e-9c71-0e1dcada17c6",
   "metadata": {},
   "outputs": [
    {
     "name": "stdin",
     "output_type": "stream",
     "text": [
      "Give the length of first side 1\n",
      "Give the length of second side 2\n",
      "Give the length of third side 3\n"
     ]
    },
    {
     "name": "stdout",
     "output_type": "stream",
     "text": [
      "given triangle is scalene\n"
     ]
    }
   ],
   "source": [
    "a=int(input(\"Give the length of first side\"))\n",
    "b=int(input(\"Give the length of second side\"))\n",
    "c=int(input(\"Give the length of third side\"))\n",
    "if a==b==c:\n",
    "    print(\"given triangle is equilateral\")\n",
    "elif a==b or b==c or c==a:\n",
    "    print(\"given triangle is isosceles\")\n",
    "elif a!=b!=c:\n",
    "    print(\"given triangle is scalene\")\n"
   ]
  },
  {
   "cell_type": "code",
   "execution_count": 151,
   "id": "c7518e4c-56b4-4c5a-b81f-7da97f48d63f",
   "metadata": {},
   "outputs": [
    {
     "name": "stdin",
     "output_type": "stream",
     "text": [
      "enter a angle 110\n"
     ]
    },
    {
     "name": "stdout",
     "output_type": "stream",
     "text": [
      "given angle is obtuse\n"
     ]
    }
   ],
   "source": [
    "a=int(input(\"enter a angle\"))\n",
    "if 0<=a<90:\n",
    "    print(\"given angle is acute\")\n",
    "elif a==90:\n",
    "    print(\"given angle is right\")\n",
    "elif 90<a<=180:\n",
    "    print(\"given angle is obtuse\")"
   ]
  },
  {
   "cell_type": "code",
   "execution_count": 159,
   "id": "277fe3e2-c667-443b-8073-af1a473be51d",
   "metadata": {},
   "outputs": [
    {
     "name": "stdin",
     "output_type": "stream",
     "text": [
      "enter a number 20\n",
      "enter a number 30\n",
      "enter a number 50\n"
     ]
    },
    {
     "name": "stdout",
     "output_type": "stream",
     "text": [
      "satisfied\n"
     ]
    }
   ],
   "source": [
    "a=int(input(\"enter a number\"))\n",
    "b=int(input(\"enter a number\"))\n",
    "c=int(input(\"enter a number\"))\n",
    "if a+b==c or b+c==a or c+a==b:\n",
    "    print(\"satisfied\")\n",
    "else:\n",
    "    print(\"not satisfied\")"
   ]
  },
  {
   "cell_type": "code",
   "execution_count": 177,
   "id": "37bea971-57e2-48d6-a614-0b79d986f8e2",
   "metadata": {},
   "outputs": [
    {
     "name": "stdin",
     "output_type": "stream",
     "text": [
      "enter a charecter ryuc\n"
     ]
    },
    {
     "name": "stdout",
     "output_type": "stream",
     "text": [
      "given charcter is not a palindrome\n"
     ]
    }
   ],
   "source": [
    "str=input(\"enter a charecter\")\n",
    "rev=str[::-1]\n",
    "if rev==str:\n",
    "    print(\"given charcter is a palindrome\")\n",
    "else:\n",
    "    print(\"given charcter is not a palindrome\")"
   ]
  },
  {
   "cell_type": "code",
   "execution_count": 179,
   "id": "0886e63f-f198-43c2-be58-88b0bae9a618",
   "metadata": {},
   "outputs": [
    {
     "name": "stdout",
     "output_type": "stream",
     "text": [
      "1\n",
      "2\n",
      "3\n",
      "4\n"
     ]
    }
   ],
   "source": [
    "set={1,2,3,4}\n",
    "for i in set:\n",
    "    print(i)"
   ]
  },
  {
   "cell_type": "code",
   "execution_count": 193,
   "id": "75e4e9b3-e073-4840-baae-a050adc7840e",
   "metadata": {},
   "outputs": [
    {
     "name": "stdout",
     "output_type": "stream",
     "text": [
      "odd 1\n",
      "even 2\n",
      "odd 3\n",
      "even 4\n",
      "odd 5\n",
      "even 6\n",
      "odd 7\n"
     ]
    }
   ],
   "source": [
    "i=1\n",
    "while i<=7:\n",
    "    if i%2==0:\n",
    "        print(\"even\",i)\n",
    "    else:\n",
    "        print(\"odd\",i)\n",
    "    i=i+1    "
   ]
  },
  {
   "cell_type": "code",
   "execution_count": 227,
   "id": "bf838a1f-3cc4-466a-9f23-595a8d95b878",
   "metadata": {},
   "outputs": [
    {
     "name": "stdin",
     "output_type": "stream",
     "text": [
      "enter the value ruchith\n"
     ]
    },
    {
     "name": "stdout",
     "output_type": "stream",
     "text": [
      "constant r\n",
      "vowel u\n",
      "constant c\n",
      "constant h\n",
      "vowel i\n",
      "constant t\n",
      "constant h\n"
     ]
    }
   ],
   "source": [
    "set={\"a\",\"e\",\"i\",\"o\",\"u\",\"A\",\"E\",\"I\",\"O\",\"U\"}\n",
    "i=input(\"enter the value\")\n",
    "for a in i:\n",
    "    \n",
    "    if a in set:\n",
    "        print(\"vowel\",a)\n",
    "    else:\n",
    "        print(\"constant\",a)\n",
    "    "
   ]
  },
  {
   "cell_type": "code",
   "execution_count": 21,
   "id": "6b440f29-86e9-4073-9412-7f95765eadd9",
   "metadata": {},
   "outputs": [
    {
     "name": "stdout",
     "output_type": "stream",
     "text": [
      "century year 1000\n",
      "not a century year 1120\n",
      "not a century year 1240\n",
      "not a century year 1360\n",
      "not a century year 1480\n",
      "century year 1600\n",
      "not a century year 1720\n",
      "not a century year 1840\n",
      "not a century year 1960\n"
     ]
    }
   ],
   "source": [
    "i=1000\n",
    "while i<=2000:\n",
    "    if i%100==0:\n",
    "        print(\"century year\",i)\n",
    "    else:\n",
    "        print(\"not a century year\",i)\n",
    "    i=i+120    "
   ]
  },
  {
   "cell_type": "code",
   "execution_count": 23,
   "id": "f218d9ed-dfa7-47e7-853e-37ccb1ae86dd",
   "metadata": {},
   "outputs": [
    {
     "ename": "IndentationError",
     "evalue": "unexpected indent (1779696536.py, line 6)",
     "output_type": "error",
     "traceback": [
      "\u001b[1;36m  Cell \u001b[1;32mIn[23], line 6\u001b[1;36m\u001b[0m\n\u001b[1;33m    print(\"the greatest number is\" )\u001b[0m\n\u001b[1;37m    ^\u001b[0m\n\u001b[1;31mIndentationError\u001b[0m\u001b[1;31m:\u001b[0m unexpected indent\n"
     ]
    }
   ],
   "source": [
    "z=[1,2,3,4,5,6]\n",
    "for i in z:\n",
    "    greatest=z[0]\n",
    "    if i>z:\n",
    "       greates\n",
    "        \n",
    "    \n",
    "    \n"
   ]
  },
  {
   "cell_type": "markdown",
   "id": "177b7492-36f4-45db-9d70-27449f99aa02",
   "metadata": {},
   "source": [
    "# pass"
   ]
  },
  {
   "cell_type": "code",
   "execution_count": 4,
   "id": "7f683db3-70a7-4f6b-81d3-1e0c9f5b5296",
   "metadata": {},
   "outputs": [
    {
     "name": "stdout",
     "output_type": "stream",
     "text": [
      "1\n",
      "2\n",
      "3\n",
      "4\n",
      "6\n",
      "7\n",
      "8\n",
      "9\n",
      "10\n"
     ]
    }
   ],
   "source": [
    "a=[1,2,3,4,5,6,7,8,9,10]\n",
    "for i in a:\n",
    "    if i==5:\n",
    "        pass\n",
    "    else:\n",
    "        print(i)"
   ]
  },
  {
   "cell_type": "code",
   "execution_count": 12,
   "id": "4bc0514a-7bfa-4c6e-bcc5-603be306982a",
   "metadata": {},
   "outputs": [
    {
     "name": "stdout",
     "output_type": "stream",
     "text": [
      "apple\n"
     ]
    }
   ],
   "source": [
    "a=(\"apple\",\"banana\",\"mango\")\n",
    "for i in a:\n",
    "    if i==\"banana\":\n",
    "        break\n",
    "    else:\n",
    "        print(i)"
   ]
  },
  {
   "cell_type": "code",
   "execution_count": 14,
   "id": "3dea8f74-6048-43d9-a819-cf63c4a221d5",
   "metadata": {},
   "outputs": [
    {
     "name": "stdout",
     "output_type": "stream",
     "text": [
      "1\n",
      "2\n",
      "3\n",
      "4\n",
      "5\n",
      "6\n"
     ]
    }
   ],
   "source": [
    "a={1,2,3,4,5,6,7,8,9}\n",
    "for i in a:\n",
    "    if i==7:\n",
    "        break\n",
    "    else:\n",
    "        print(i)"
   ]
  },
  {
   "cell_type": "code",
   "execution_count": null,
   "id": "5f01b607-eaaf-498f-8cfb-f85281c015ff",
   "metadata": {},
   "outputs": [],
   "source": []
  }
 ],
 "metadata": {
  "kernelspec": {
   "display_name": "Python 3 (ipykernel)",
   "language": "python",
   "name": "python3"
  },
  "language_info": {
   "codemirror_mode": {
    "name": "ipython",
    "version": 3
   },
   "file_extension": ".py",
   "mimetype": "text/x-python",
   "name": "python",
   "nbconvert_exporter": "python",
   "pygments_lexer": "ipython3",
   "version": "3.12.4"
  }
 },
 "nbformat": 4,
 "nbformat_minor": 5
}
