{
 "cells": [
  {
   "cell_type": "markdown",
   "id": "3db7033c-91f2-481b-bd4c-d33260590820",
   "metadata": {},
   "source": [
    "# what is operators"
   ]
  },
  {
   "cell_type": "markdown",
   "id": "817a65f4-a131-4921-aa95-09a38296c7f8",
   "metadata": {},
   "source": [
    "In programming, operators are symbols or special functions that perform operations on one or more operands to produce a result. They are fundamental to programming because they allow you to manipulate data and perform computations. Here's a detailed definition of operators:\n",
    "Operators are constructs in a programming language that specify an operation to be performed on data values or variables (known as operands). These operations can include arithmetic calculations, logical comparisons, data manipulation, and more. Operators are integral to expressions and statements in code."
   ]
  },
  {
   "cell_type": "markdown",
   "id": "d290933c-0b0b-4add-ab51-26e396194b0d",
   "metadata": {},
   "source": [
    "# types of operators"
   ]
  },
  {
   "cell_type": "markdown",
   "id": "4257ed24-5d2b-4bac-b67c-5f8396d24df8",
   "metadata": {},
   "source": [
    "**Arithmetic Operators**:Perform basic mathematical operations.\n",
    "\n",
    "**Comparison Operators**:Compare values and return a boolean result.\n",
    "\n",
    "**Logical Operators**:Perform logical operations and return a boolean value.\n",
    "\n",
    "**Assignment Operators**:Assign values to variables and often perform an operation in conjunction."
   ]
  },
  {
   "cell_type": "markdown",
   "id": "3b93e980-bb46-47f8-a7c7-e6ead09263af",
   "metadata": {},
   "source": [
    "# explain about each operator"
   ]
  },
  {
   "cell_type": "markdown",
   "id": "f46e9494-eab3-4c96-a6e5-db6117be0a6f",
   "metadata": {},
   "source": [
    "**Arithmetic Operators**:Perform basic mathematical operations.\n",
    "\n",
    "**`+` (Addition)**: Adds two operands.\n",
    "\n",
    "**`-`(Subtraction)**: Subtracts the second operand from the first.\n",
    "\n",
    "**`*`(Multiplication)**: Multiplies two operands.\n",
    "\n",
    "**`/` (Division)**: Divides the first operand by the second.\n",
    "\n",
    "**`%` (Modulus)**: Returns the remainder of the division.\n",
    "\n",
    "**`**` (Exponentiation)**: Raises the first operand to the power of the second.\n",
    "\n",
    "**`//` (Floor Division)**: Divides and returns the largest integer less than or equal to the result.\n"
   ]
  },
  {
   "cell_type": "markdown",
   "id": "edabf3cc-2ae5-4cb0-a650-a744d12b98cd",
   "metadata": {},
   "source": [
    "**Comparison Operators**:\n",
    "\n",
    "Compare values and return a boolean result.\n",
    "\n",
    "**`==` (Equal to)**: Checks if two operands are equal.\n",
    "\n",
    "**`!=` (Not equal to)**: Checks if two operands are not equal.\n",
    "\n",
    "**`>` (Greater than)**: Checks if the left operand is greater than the right.\n",
    "\n",
    "**`<` (Less than)**: Checks if the left operand is less than the right.\n",
    "\n",
    "**`>=` (Greater than or equal to)**: Checks if the left operand is greater than or equal to the right.\n",
    "\n",
    "**`<=` (Less than or equal to)**: Checks if the left operand is less than or equal to the right."
   ]
  },
  {
   "cell_type": "markdown",
   "id": "d4c1e29f-9b38-4b44-858e-522b6f39cbd0",
   "metadata": {},
   "source": [
    "**Logical Operators**:\n",
    "\n",
    "Perform logical operations and return a boolean value.\n",
    "\n",
    "**`and`**: Returns True if both operands are true.\n",
    "\n",
    "**`or`**: Returns True if at least one operand is true.\n",
    "\n",
    "**`not`**: Returns True if the operand is false."
   ]
  },
  {
   "cell_type": "markdown",
   "id": "4556e608-262a-470f-abfe-1ca6b8ce0a83",
   "metadata": {},
   "source": [
    "**Assignment Operators**:\n",
    "\n",
    "Assign values to variables and often perform an operation in conjunction.\n",
    "\n",
    "**`=` (Assignment)**: Assigns a value to a variable.\n",
    "\n",
    "**`+=` (Add and assign)**: Adds and assigns the result.\n",
    "\n",
    "**`-=` (Subtract and assign)**: Subtracts and assigns the result.\n",
    "\n",
    "**`*=` (Multiply and assign)**: Multiplies and assigns the result.\n",
    "\n",
    "**`/=` (Divide and assign)**: Divides and assigns the result.\n",
    "\n",
    "**`%=` (Modulus and assign)**: Computes the modulus and assigns the result.\n",
    "\n",
    "**`**=` (Exponentiate and assign)**: Raises to a power and assigns the result.\n",
    "\n",
    "**`//=` (Floor divide and assign)**: Performs floor division and assigns the result."
   ]
  },
  {
   "cell_type": "markdown",
   "id": "81b5f518-2d75-43bf-9f55-6166790b520e",
   "metadata": {},
   "source": [
    "# examples for arthematic operations"
   ]
  },
  {
   "cell_type": "code",
   "execution_count": 25,
   "id": "c1873812-e920-4d94-b7c4-b90416da29c9",
   "metadata": {},
   "outputs": [
    {
     "name": "stdout",
     "output_type": "stream",
     "text": [
      "10\n",
      "6\n",
      "42\n",
      "5.0\n",
      "1\n",
      "8\n",
      "4\n",
      "11\n",
      "14\n",
      "-2\n"
     ]
    }
   ],
   "source": [
    "# Addition\n",
    "print(7 + 3)   \n",
    "\n",
    "# Subtraction\n",
    "print(10 - 4) \n",
    "\n",
    "# Multiplication\n",
    "print(6 * 7)   \n",
    "\n",
    "# Division\n",
    "print(20 / 4)  \n",
    "\n",
    "# Modulus\n",
    "print(10 % 3)  \n",
    "\n",
    "# Exponentiation\n",
    "print(2 ** 3)  \n",
    "\n",
    "# Floor Division\n",
    "print(9 // 2)  \n",
    "\n",
    "# Mixed Operations\n",
    "print(3 + 4 * 2)  \n",
    "\n",
    "# Parentheses for Order of Operations\n",
    "print((3 + 4) * 2)  \n",
    "\n",
    "# Negative Numbers\n",
    "print(-5 + 3)  \n"
   ]
  },
  {
   "cell_type": "markdown",
   "id": "4acc21a8-8ccd-4558-b189-9ffededafe8a",
   "metadata": {},
   "source": [
    "## examples for Comparison Operators:"
   ]
  },
  {
   "cell_type": "code",
   "execution_count": 29,
   "id": "24761750-5998-454e-af7a-815f8fb7b4b1",
   "metadata": {},
   "outputs": [
    {
     "name": "stdout",
     "output_type": "stream",
     "text": [
      "True\n",
      "True\n",
      "True\n",
      "True\n",
      "True\n",
      "True\n",
      "False\n",
      "True\n",
      "True\n",
      "True\n"
     ]
    }
   ],
   "source": [
    "# Equal to\n",
    "print(5 == 5)  \n",
    "# Not equal to\n",
    "print(5 != 3)  \n",
    "# Greater than\n",
    "print(10 > 4)  \n",
    "# Less than\n",
    "print(10 < 15)  \n",
    "# Greater than or equal to\n",
    "print(10 >= 10)  \n",
    "# Less than or equal to\n",
    "print(5 <= 7)  \n",
    "print(\"apple\" == \"orange\")  \n",
    "print(5 == 5.0)  \n",
    "print(1 < 2 < 3)  \n",
    "print([1, 2] == [1, 2])  \n"
   ]
  },
  {
   "cell_type": "markdown",
   "id": "78d440a3-cd41-42e2-88a2-052370b82509",
   "metadata": {},
   "source": [
    "##  examples for Logical Operators:"
   ]
  },
  {
   "cell_type": "code",
   "execution_count": 33,
   "id": "e3feefcf-907c-45fc-abf9-406716ad3dc8",
   "metadata": {},
   "outputs": [
    {
     "name": "stdout",
     "output_type": "stream",
     "text": [
      "False\n",
      "True\n",
      "False\n",
      "True\n",
      "False\n",
      "non-empty\n",
      "0\n",
      "True\n",
      "False\n",
      "1\n"
     ]
    }
   ],
   "source": [
    "\n",
    "print(True and False)  \n",
    "print(True or False)   \n",
    "print(not True)      \n",
    "print((5 > 3) and (2 < 4))  \n",
    "print(not (5 > 3 and 2 < 4)) \n",
    "print([] or \"non-empty\") \n",
    "print(\"hello\" and 0)  \n",
    "print(True or (1 / 0)) \n",
    "print(False and (1 / 0))  \n",
    "print(0 or 1) \n"
   ]
  },
  {
   "cell_type": "markdown",
   "id": "487ec8e5-1330-4729-b830-0df94031ea99",
   "metadata": {},
   "source": [
    "## examples for Assignment Operators:"
   ]
  },
  {
   "cell_type": "code",
   "execution_count": 36,
   "id": "1dc2573d-0cb5-472a-b368-27515d29349f",
   "metadata": {},
   "outputs": [
    {
     "name": "stdout",
     "output_type": "stream",
     "text": [
      "5\n",
      "8\n",
      "6\n",
      "24\n",
      "4.0\n",
      "1.0\n",
      "1.0\n",
      "1.0\n",
      "Hello World\n",
      "[1, 2, 1, 2]\n"
     ]
    }
   ],
   "source": [
    "# Basic Assignment\n",
    "x = 5\n",
    "print(x) \n",
    "x += 3\n",
    "print(x) \n",
    "x -= 2\n",
    "print(x)  \n",
    "x *= 4\n",
    "print(x)  \n",
    "x /= 6\n",
    "print(x)  \n",
    "x %= 3\n",
    "print(x)  \n",
    "x **= 2\n",
    "print(x)  \n",
    "x //= 1\n",
    "print(x)  \n",
    "s = \"Hello\"\n",
    "s += \" World\"\n",
    "print(s)  \n",
    "lst = [1, 2]\n",
    "lst *= 2\n",
    "print(lst)  \n"
   ]
  },
  {
   "cell_type": "markdown",
   "id": "aedb4efd-ac07-4d99-baa1-1b0ba7565aef",
   "metadata": {},
   "source": [
    "# Membership operator"
   ]
  },
  {
   "cell_type": "markdown",
   "id": "0f9fdd69-7891-43eb-a721-24193d7e805b",
   "metadata": {},
   "source": [
    "In programming, particularly in Python, the membership operators are used to test whether a value or variable is found within a sequence (like a list, tuple, or string) or a collection (like a set or dictionary).\n",
    "**There are two membership operators in Python**:\n"
   ]
  },
  {
   "cell_type": "markdown",
   "id": "6d502dc1-d09a-437f-ba1a-d85c8c6a826b",
   "metadata": {},
   "source": [
    "**in**: This operator is used to check if a value exists within a sequence or collection. It returns True if the value is present and False otherwise."
   ]
  },
  {
   "cell_type": "code",
   "execution_count": 7,
   "id": "f5821f9a-67dd-4ea4-b481-ad9ed808725a",
   "metadata": {},
   "outputs": [
    {
     "name": "stdout",
     "output_type": "stream",
     "text": [
      "True\n",
      "False\n"
     ]
    }
   ],
   "source": [
    "fruits = ['apple', 'banana', 'cherry']\n",
    "print('banana' in fruits)\n",
    "print('grape' in fruits)   \n",
    "#In this example, 'banana' in fruits evaluates to True because 'banana' is an element in the fruits list.\n"
   ]
  },
  {
   "cell_type": "markdown",
   "id": "a1c7cebf-74d7-4e98-bc52-e919f87b1815",
   "metadata": {},
   "source": [
    "**not in**: This operator is used to check if a value does not exist within a sequence or collection. It returns True if the value is not present and False otherwise."
   ]
  },
  {
   "cell_type": "code",
   "execution_count": 12,
   "id": "3d1550e3-1907-4f77-ba8d-b81fa2e60892",
   "metadata": {},
   "outputs": [
    {
     "name": "stdout",
     "output_type": "stream",
     "text": [
      "True\n",
      "False\n"
     ]
    }
   ],
   "source": [
    "fruits = ['apple', 'banana', 'cherry']\n",
    "print('grape' not in fruits)  \n",
    "print('apple' not in fruits)  \n",
    "#Here, 'grape' not in fruits evaluates to True because 'grape' is not an element in the fruits list."
   ]
  },
  {
   "cell_type": "markdown",
   "id": "1f83564e-917b-480c-b5ef-aedf7799c0d5",
   "metadata": {},
   "source": [
    "# example for membership operator"
   ]
  },
  {
   "cell_type": "code",
   "execution_count": 24,
   "id": "d25f3a57-5eb4-4f43-b2e0-5b81e4a5c79b",
   "metadata": {},
   "outputs": [
    {
     "name": "stdout",
     "output_type": "stream",
     "text": [
      "True\n",
      "False\n"
     ]
    }
   ],
   "source": [
    "fruits = ['apple', 'banana', 'cherry']\n",
    "print('banana' in fruits) \n",
    "print('grape' in fruits)   \n"
   ]
  },
  {
   "cell_type": "code",
   "execution_count": 26,
   "id": "f065bcf1-4d6d-4328-bfaa-2ee4da9fbe02",
   "metadata": {},
   "outputs": [
    {
     "name": "stdout",
     "output_type": "stream",
     "text": [
      "True\n",
      "False\n"
     ]
    }
   ],
   "source": [
    "numbers = (1, 2, 3, 4, 5)\n",
    "print(3 in numbers)  \n",
    "print(6 in numbers)  \n"
   ]
  },
  {
   "cell_type": "code",
   "execution_count": 28,
   "id": "30f0d2df-c277-446a-8af7-f170e6895724",
   "metadata": {},
   "outputs": [
    {
     "name": "stdout",
     "output_type": "stream",
     "text": [
      "True\n",
      "False\n"
     ]
    }
   ],
   "source": [
    "sentence = \"The quick brown fox\"\n",
    "print('quick' in sentence)  \n",
    "print('slow' in sentence)   \n",
    "\n"
   ]
  },
  {
   "cell_type": "code",
   "execution_count": 30,
   "id": "4b38d4a2-335c-4a9b-bb41-4697578f7084",
   "metadata": {},
   "outputs": [
    {
     "name": "stdout",
     "output_type": "stream",
     "text": [
      "True\n",
      "False\n"
     ]
    }
   ],
   "source": [
    "person = {'name': 'Alice', 'age': 30}\n",
    "print('name' in person)  \n",
    "print('address' in person)  \n"
   ]
  },
  {
   "cell_type": "code",
   "execution_count": 32,
   "id": "f2b20c04-b328-4b67-be88-93f65dbfa25b",
   "metadata": {},
   "outputs": [
    {
     "name": "stdout",
     "output_type": "stream",
     "text": [
      "True\n",
      "False\n"
     ]
    }
   ],
   "source": [
    "colors = ['red', 'green', 'blue']\n",
    "print('yellow' not in colors)  \n",
    "print('green' not in colors)   \n"
   ]
  },
  {
   "cell_type": "code",
   "execution_count": 34,
   "id": "bc6109dd-32e4-4e2a-898f-58086f8a32db",
   "metadata": {},
   "outputs": [
    {
     "name": "stdout",
     "output_type": "stream",
     "text": [
      "True\n",
      "False\n"
     ]
    }
   ],
   "source": [
    "unique_numbers = {1, 2, 3, 4, 5}\n",
    "print(6 not in unique_numbers)  \n",
    "print(3 not in unique_numbers)  \n"
   ]
  },
  {
   "cell_type": "code",
   "execution_count": 36,
   "id": "3a9226be-45e2-40ea-b9b1-9a80e7bf48ca",
   "metadata": {},
   "outputs": [
    {
     "name": "stdout",
     "output_type": "stream",
     "text": [
      "True\n",
      "False\n"
     ]
    }
   ],
   "source": [
    "letters = ('a', 'b', 'c')\n",
    "print('d' not in letters)  \n",
    "print('b' not in letters)  \n"
   ]
  },
  {
   "cell_type": "code",
   "execution_count": 38,
   "id": "61c98b9a-8a82-4d22-9433-f4a04f99e945",
   "metadata": {},
   "outputs": [
    {
     "name": "stdout",
     "output_type": "stream",
     "text": [
      "True\n",
      "False\n"
     ]
    }
   ],
   "source": [
    "text = \"Hello, world!\"\n",
    "print('Python' not in text)  \n",
    "print('world' not in text)   \n"
   ]
  },
  {
   "cell_type": "code",
   "execution_count": 40,
   "id": "1dc48d03-8cb7-4deb-9a4d-31c4e2bacf4b",
   "metadata": {},
   "outputs": [
    {
     "name": "stdout",
     "output_type": "stream",
     "text": [
      "True\n",
      "False\n"
     ]
    }
   ],
   "source": [
    "num_range = range(1, 10)\n",
    "print(5 in num_range)  \n",
    "print(10 in num_range)  \n"
   ]
  },
  {
   "cell_type": "markdown",
   "id": "e2e93475-7500-4fdd-ba61-6980b08c396b",
   "metadata": {},
   "source": [
    "# Identity operators"
   ]
  },
  {
   "cell_type": "markdown",
   "id": "11ea072b-d573-4675-b852-23444f3690e6",
   "metadata": {},
   "source": [
    "In Python, identity operators are used to compare the memory locations of two objects to determine if they are the same object. They are different from equality operators, which check if the values of two objects are equal. The two identity operators are:"
   ]
  },
  {
   "cell_type": "markdown",
   "id": "b69bc3b0-4aca-455d-a1ad-24f4ed198b72",
   "metadata": {},
   "source": [
    "**is**: This operator checks if two variables point to the same object in memory. It returns True if they are the same object and False otherwise."
   ]
  },
  {
   "cell_type": "code",
   "execution_count": 45,
   "id": "4617d81f-aa02-4188-aaa3-cd9607399584",
   "metadata": {},
   "outputs": [
    {
     "name": "stdout",
     "output_type": "stream",
     "text": [
      "False\n",
      "True\n"
     ]
    }
   ],
   "source": [
    "a = [1, 2, 3]\n",
    "b = [1, 2, 3]\n",
    "c = a\n",
    "\n",
    "print(a is b)  \n",
    "print(a is c)  \n",
    "#In this example, a and b are two distinct lists with the same contents, so a is b evaluates to False. However, c is assigned to a, so a is c evaluates to True because both variables refer to the same list object."
   ]
  },
  {
   "cell_type": "markdown",
   "id": "b51aec49-3d89-4231-9cec-5e34e11726f6",
   "metadata": {},
   "source": [
    "**is not**: This operator checks if two variables do not point to the same object in memory. It returns True if they are different objects and False if they are the same object."
   ]
  },
  {
   "cell_type": "code",
   "execution_count": 48,
   "id": "1ca8a90e-2910-487b-847c-4f428e27d315",
   "metadata": {},
   "outputs": [
    {
     "name": "stdout",
     "output_type": "stream",
     "text": [
      "True\n",
      "False\n"
     ]
    }
   ],
   "source": [
    "a = [1, 2, 3]\n",
    "b = [1, 2, 3]\n",
    "c = a\n",
    "\n",
    "print(a is not b) \n",
    "print(a is not c)  \n",
    "#Here, a is not b evaluates to True because a and b are different objects, whereas a is not c evaluates to False because a and c are the same object."
   ]
  },
  {
   "cell_type": "markdown",
   "id": "40c52ff1-022e-46ae-be50-906900e6d4d1",
   "metadata": {},
   "source": [
    "# Examples for identity operators"
   ]
  },
  {
   "cell_type": "code",
   "execution_count": 51,
   "id": "f4151844-2dd3-41fe-b1af-12d2453b0217",
   "metadata": {},
   "outputs": [
    {
     "name": "stdout",
     "output_type": "stream",
     "text": [
      "True\n",
      "False\n",
      "False\n",
      "True\n",
      "True\n",
      "False\n",
      "False\n",
      "True\n",
      "False\n",
      "True\n",
      "True\n",
      "False\n",
      "False\n",
      "True\n",
      "False\n",
      "True\n",
      "False\n",
      "True\n",
      "True\n",
      "False\n"
     ]
    }
   ],
   "source": [
    "\n",
    "a = 100\n",
    "b = 100\n",
    "print(a is b)      \n",
    "print(a is not b)   \n",
    "\n",
    "\n",
    "c = 1000\n",
    "d = 1000\n",
    "print(c is d)      \n",
    "print(c is not d)   \n",
    "\n",
    "\n",
    "e = \"hello\"\n",
    "f = \"hello\"\n",
    "print(e is f)       \n",
    "print(e is not f)   \n",
    "\n",
    "\n",
    "g = [1, 2, 3]\n",
    "h = [1, 2, 3]\n",
    "print(g is h)      \n",
    "print(g is not h)   \n",
    "\n",
    "\n",
    "i = (1, 2, 3)\n",
    "j = (1, 2, 3)\n",
    "print(i is j)      \n",
    "print(i is not j)   \n",
    "\n",
    "\n",
    "k = None\n",
    "l = None\n",
    "print(k is l)      \n",
    "print(k is not l)   \n",
    "\n",
    "\n",
    "m = {'a': 1}\n",
    "n = {'a': 1}\n",
    "print(m is n)      \n",
    "print(m is not n)   \n",
    "\n",
    "o = [[1, 2], [3, 4]]\n",
    "p = [[1, 2], [3, 4]]\n",
    "print(o is p)       \n",
    "print(o is not p)   \n",
    "\n",
    "class MyClass:\n",
    "    def __init__(self, value):\n",
    "        self.value = value\n",
    "\n",
    "q = MyClass(10)\n",
    "r = MyClass(10)\n",
    "print(q is r)       \n",
    "print(q is not r)   \n",
    "\n",
    "s = True\n",
    "t = True\n",
    "print(s is t)       \n",
    "print(s is not t)   \n"
   ]
  },
  {
   "cell_type": "markdown",
   "id": "ec67fe95-40fd-496c-a0c5-cfd71ba1d45a",
   "metadata": {},
   "source": [
    "# Bitwise operator"
   ]
  },
  {
   "cell_type": "markdown",
   "id": "c51f9327-87b2-4cce-b048-d19a9064ab42",
   "metadata": {},
   "source": [
    "Bitwise operators in Python are used to perform operations on the binary representations of integers. These operations are carried out bit by bit, and they are essential for low-level programming tasks, such as cryptography, data compression, and system programming. Here's a summary of bitwise operators and examples of each:"
   ]
  },
  {
   "cell_type": "markdown",
   "id": "ef0d8425-b661-435c-abd1-5f0f4174e5ba",
   "metadata": {},
   "source": [
    "**Bitwise AND**: Only bits that are 1 in both a and b are 1 in the result.\n",
    "\n",
    "**Bitwise OR**: Bits are 1 if they are 1 in either a or b.\n",
    "\n",
    "**Bitwise XOR**: Bits are 1 if they are different in a and b.\n",
    "\n",
    "**Bitwise NOT**: Inverts all bits, with Python’s integer handling resulting in negative numbers due to sign bits.\n",
    "\n",
    "**Left Shift**: Shifts bits to the left, effectively multiplying the number by 2 for each shift.\n",
    "\n",
    "**Right Shift**: Shifts bits to the right, effectively dividing the number by 2 for each shift."
   ]
  },
  {
   "cell_type": "code",
   "execution_count": 56,
   "id": "e1811335-aa9e-4132-b2e4-09859dfb81fc",
   "metadata": {},
   "outputs": [
    {
     "name": "stdout",
     "output_type": "stream",
     "text": [
      "2\n",
      "7\n",
      "5\n",
      "-7\n",
      "12\n",
      "3\n",
      "9\n",
      "14\n",
      "11\n",
      "-2\n"
     ]
    }
   ],
   "source": [
    "a = 6   \n",
    "b = 3   \n",
    "\n",
    "# 1. Bitwise AND\n",
    "print(a & b)  \n",
    "\n",
    "# 2. Bitwise OR\n",
    "print(a | b)  \n",
    "\n",
    "# 3. Bitwise XOR\n",
    "print(a ^ b)  \n",
    "\n",
    "# 4. Bitwise NOT\n",
    "print(~a)    \n",
    "\n",
    "# 5. Left Shift\n",
    "print(a << 1) \n",
    "#right shift\n",
    "print(a >> 1) \n",
    "\n",
    "\n",
    "c = 15  \n",
    "d = 9   \n",
    "print(c & d)  \n",
    "\n",
    "e = 10 \n",
    "f = 4   \n",
    "print(e | f)  \n",
    "\n",
    "g = 8   \n",
    "h = 3  \n",
    "print(g ^ h) \n",
    "\n",
    "i = 1   \n",
    "print(~i)     "
   ]
  },
  {
   "cell_type": "code",
   "execution_count": null,
   "id": "80d94faa-f3f5-44f4-8d0f-cfb71b1c453e",
   "metadata": {},
   "outputs": [],
   "source": []
  }
 ],
 "metadata": {
  "kernelspec": {
   "display_name": "Python 3 (ipykernel)",
   "language": "python",
   "name": "python3"
  },
  "language_info": {
   "codemirror_mode": {
    "name": "ipython",
    "version": 3
   },
   "file_extension": ".py",
   "mimetype": "text/x-python",
   "name": "python",
   "nbconvert_exporter": "python",
   "pygments_lexer": "ipython3",
   "version": "3.12.4"
  }
 },
 "nbformat": 4,
 "nbformat_minor": 5
}
